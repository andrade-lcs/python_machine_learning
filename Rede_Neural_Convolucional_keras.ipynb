{
  "nbformat": 4,
  "nbformat_minor": 0,
  "metadata": {
    "colab": {
      "name": "Rede-Neural-Convolucional_keras.ipynb",
      "provenance": [],
      "authorship_tag": "ABX9TyNaC6qUvMXP91wvNx+8Xw7j"
    },
    "kernelspec": {
      "name": "python3",
      "display_name": "Python 3"
    }
  },
  "cells": [
    {
      "cell_type": "code",
      "metadata": {
        "id": "6A2ZGOZusl9D"
      },
      "source": [
        "import pandas as pd\r\n",
        "from tensorflow import keras\r\n",
        "from tensorflow.keras.datasets import mnist\r\n",
        "from tensorflow.keras.models import Sequential\r\n",
        "from tensorflow.keras.layers import Dense, Dropout, Conv2D, MaxPooling2D, Flatten\r\n",
        "from tensorflow.keras.optimizers import RMSprop\r\n",
        "import matplotlib.pyplot as plt\r\n",
        "from sklearn.metrics import classification_report, confusion_matrix"
      ],
      "execution_count": 1,
      "outputs": []
    },
    {
      "cell_type": "code",
      "metadata": {
        "id": "mHEmJfHNs-B-"
      },
      "source": [
        "train = pd.read_csv(\"train.csv\")"
      ],
      "execution_count": 2,
      "outputs": []
    },
    {
      "cell_type": "code",
      "metadata": {
        "id": "yTagqbFXtj_D"
      },
      "source": [
        "Y = train[\"label\"]\r\n",
        "X = train.drop(labels = [\"label\"],axis = 1)"
      ],
      "execution_count": 3,
      "outputs": []
    },
    {
      "cell_type": "code",
      "metadata": {
        "id": "fr69nAGntp0K"
      },
      "source": [
        "x = X.values.reshape(42000, 28, 28, 1)"
      ],
      "execution_count": 4,
      "outputs": []
    },
    {
      "cell_type": "code",
      "metadata": {
        "id": "CGZ782e_tvIb"
      },
      "source": [
        "x = x.astype('float32')\r\n",
        "x /= 255"
      ],
      "execution_count": 5,
      "outputs": []
    },
    {
      "cell_type": "code",
      "metadata": {
        "colab": {
          "base_uri": "https://localhost:8080/"
        },
        "id": "6AlACwBqtxiw",
        "outputId": "176bb844-4cd5-4083-e7c9-2e0526bd794e"
      },
      "source": [
        "num_classes = 10\r\n",
        "y = keras.utils.to_categorical(Y, num_classes)\r\n",
        "print(y[0])"
      ],
      "execution_count": 6,
      "outputs": [
        {
          "output_type": "stream",
          "text": [
            "[0. 1. 0. 0. 0. 0. 0. 0. 0. 0.]\n"
          ],
          "name": "stdout"
        }
      ]
    },
    {
      "cell_type": "code",
      "metadata": {
        "colab": {
          "base_uri": "https://localhost:8080/"
        },
        "id": "2WKo0Rjzt0T0",
        "outputId": "3e181d4a-fa60-4a07-d030-69da270058b8"
      },
      "source": [
        "from sklearn.model_selection import train_test_split\r\n",
        "x_train, x_val, y_train, y_val = train_test_split(x, y, test_size = 0.1, random_state=5)\r\n",
        "print('Qtde de treino: {}'.format(len(x_train)))\r\n",
        "print('Qtde de validação: {}'.format(len(x_val)))"
      ],
      "execution_count": 7,
      "outputs": [
        {
          "output_type": "stream",
          "text": [
            "Qtde de treino: 37800\n",
            "Qtde de validação: 4200\n"
          ],
          "name": "stdout"
        }
      ]
    },
    {
      "cell_type": "code",
      "metadata": {
        "colab": {
          "base_uri": "https://localhost:8080/"
        },
        "id": "NbLLvD0kt6XS",
        "outputId": "e1151a56-335d-4295-a99f-d7f5eb9ed5a1"
      },
      "source": [
        "model = Sequential()\r\n",
        "model.add(Conv2D(20, kernel_size=(3, 3),\r\n",
        "                 activation='relu',\r\n",
        "                 input_shape=(28,28,1)))\r\n",
        "model.add(MaxPooling2D(pool_size=(2, 2)))\r\n",
        "model.add(Conv2D(40, kernel_size=(3,3), activation='relu'))\r\n",
        "model.add(Flatten())\r\n",
        "model.add(Dense(50, activation='relu'))\r\n",
        "model.add(Dropout(0.2))\r\n",
        "model.add(Dense(num_classes, activation='softmax'))\r\n",
        "model.summary()"
      ],
      "execution_count": 8,
      "outputs": [
        {
          "output_type": "stream",
          "text": [
            "Model: \"sequential\"\n",
            "_________________________________________________________________\n",
            "Layer (type)                 Output Shape              Param #   \n",
            "=================================================================\n",
            "conv2d (Conv2D)              (None, 26, 26, 20)        200       \n",
            "_________________________________________________________________\n",
            "max_pooling2d (MaxPooling2D) (None, 13, 13, 20)        0         \n",
            "_________________________________________________________________\n",
            "conv2d_1 (Conv2D)            (None, 11, 11, 40)        7240      \n",
            "_________________________________________________________________\n",
            "flatten (Flatten)            (None, 4840)              0         \n",
            "_________________________________________________________________\n",
            "dense (Dense)                (None, 50)                242050    \n",
            "_________________________________________________________________\n",
            "dropout (Dropout)            (None, 50)                0         \n",
            "_________________________________________________________________\n",
            "dense_1 (Dense)              (None, 10)                510       \n",
            "=================================================================\n",
            "Total params: 250,000\n",
            "Trainable params: 250,000\n",
            "Non-trainable params: 0\n",
            "_________________________________________________________________\n"
          ],
          "name": "stdout"
        }
      ]
    },
    {
      "cell_type": "code",
      "metadata": {
        "id": "KHABZUYguK6l"
      },
      "source": [
        "model.compile(loss='categorical_crossentropy',\r\n",
        "              optimizer=RMSprop(),\r\n",
        "              metrics=['accuracy'])"
      ],
      "execution_count": 9,
      "outputs": []
    },
    {
      "cell_type": "code",
      "metadata": {
        "id": "N1wajMiEuKwp"
      },
      "source": [
        "batch_size = 32\r\n",
        "epochs = 20"
      ],
      "execution_count": 10,
      "outputs": []
    },
    {
      "cell_type": "code",
      "metadata": {
        "colab": {
          "base_uri": "https://localhost:8080/"
        },
        "id": "qAcJ5dSkuKla",
        "outputId": "f99047d4-39f7-436d-d984-5cb763b03b06"
      },
      "source": [
        "callbacks_list = [\r\n",
        "    keras.callbacks.ModelCheckpoint(\r\n",
        "        filepath='model.h5',\r\n",
        "        monitor='val_loss', save_best_only=True, verbose=1),\r\n",
        "    keras.callbacks.EarlyStopping(monitor='val_loss', patience=10,verbose=1)\r\n",
        "]\r\n",
        "\r\n",
        "history = model.fit(x_train, y_train,\r\n",
        "                    batch_size=batch_size,\r\n",
        "                    epochs=epochs,\r\n",
        "                    callbacks = callbacks_list,\r\n",
        "                    verbose=1,\r\n",
        "                    validation_data=(x_val, y_val))"
      ],
      "execution_count": 11,
      "outputs": [
        {
          "output_type": "stream",
          "text": [
            "Epoch 1/20\n",
            "1182/1182 [==============================] - 28s 23ms/step - loss: 0.4216 - accuracy: 0.8663 - val_loss: 0.0742 - val_accuracy: 0.9774\n",
            "\n",
            "Epoch 00001: val_loss improved from inf to 0.07421, saving model to model.h5\n",
            "Epoch 2/20\n",
            "1182/1182 [==============================] - 27s 23ms/step - loss: 0.0857 - accuracy: 0.9754 - val_loss: 0.0553 - val_accuracy: 0.9833\n",
            "\n",
            "Epoch 00002: val_loss improved from 0.07421 to 0.05531, saving model to model.h5\n",
            "Epoch 3/20\n",
            "1182/1182 [==============================] - 27s 23ms/step - loss: 0.0540 - accuracy: 0.9848 - val_loss: 0.0474 - val_accuracy: 0.9871\n",
            "\n",
            "Epoch 00003: val_loss improved from 0.05531 to 0.04738, saving model to model.h5\n",
            "Epoch 4/20\n",
            "1182/1182 [==============================] - 27s 23ms/step - loss: 0.0449 - accuracy: 0.9871 - val_loss: 0.0562 - val_accuracy: 0.9836\n",
            "\n",
            "Epoch 00004: val_loss did not improve from 0.04738\n",
            "Epoch 5/20\n",
            "1182/1182 [==============================] - 27s 23ms/step - loss: 0.0352 - accuracy: 0.9887 - val_loss: 0.0542 - val_accuracy: 0.9840\n",
            "\n",
            "Epoch 00005: val_loss did not improve from 0.04738\n",
            "Epoch 6/20\n",
            "1182/1182 [==============================] - 27s 23ms/step - loss: 0.0321 - accuracy: 0.9906 - val_loss: 0.0543 - val_accuracy: 0.9867\n",
            "\n",
            "Epoch 00006: val_loss did not improve from 0.04738\n",
            "Epoch 7/20\n",
            "1182/1182 [==============================] - 27s 23ms/step - loss: 0.0319 - accuracy: 0.9904 - val_loss: 0.0484 - val_accuracy: 0.9871\n",
            "\n",
            "Epoch 00007: val_loss did not improve from 0.04738\n",
            "Epoch 8/20\n",
            "1182/1182 [==============================] - 27s 23ms/step - loss: 0.0308 - accuracy: 0.9913 - val_loss: 0.0524 - val_accuracy: 0.9871\n",
            "\n",
            "Epoch 00008: val_loss did not improve from 0.04738\n",
            "Epoch 9/20\n",
            "1182/1182 [==============================] - 27s 22ms/step - loss: 0.0271 - accuracy: 0.9917 - val_loss: 0.0767 - val_accuracy: 0.9843\n",
            "\n",
            "Epoch 00009: val_loss did not improve from 0.04738\n",
            "Epoch 10/20\n",
            "1182/1182 [==============================] - 27s 22ms/step - loss: 0.0273 - accuracy: 0.9924 - val_loss: 0.0703 - val_accuracy: 0.9798\n",
            "\n",
            "Epoch 00010: val_loss did not improve from 0.04738\n",
            "Epoch 11/20\n",
            "1182/1182 [==============================] - 27s 22ms/step - loss: 0.0264 - accuracy: 0.9930 - val_loss: 0.0637 - val_accuracy: 0.9867\n",
            "\n",
            "Epoch 00011: val_loss did not improve from 0.04738\n",
            "Epoch 12/20\n",
            "1182/1182 [==============================] - 27s 22ms/step - loss: 0.0321 - accuracy: 0.9909 - val_loss: 0.0603 - val_accuracy: 0.9881\n",
            "\n",
            "Epoch 00012: val_loss did not improve from 0.04738\n",
            "Epoch 13/20\n",
            "1182/1182 [==============================] - 26s 22ms/step - loss: 0.0316 - accuracy: 0.9918 - val_loss: 0.0552 - val_accuracy: 0.9867\n",
            "\n",
            "Epoch 00013: val_loss did not improve from 0.04738\n",
            "Epoch 00013: early stopping\n"
          ],
          "name": "stdout"
        }
      ]
    },
    {
      "cell_type": "code",
      "metadata": {
        "colab": {
          "base_uri": "https://localhost:8080/",
          "height": 483
        },
        "id": "Ax5zqwu0uKVX",
        "outputId": "c1628e1f-cc02-4b4a-ff7a-fa010e3f43f6"
      },
      "source": [
        "fig, ax = plt.subplots(1,2, figsize=(16,8))\r\n",
        "ax[0].plot(history.history['loss'], color='b', label=\"Training loss\")\r\n",
        "ax[0].plot(history.history['val_loss'], color='r', label=\"validation loss\",axes =ax[0])\r\n",
        "legend = ax[0].legend(loc='best', shadow=True)\r\n",
        "\r\n",
        "ax[1].plot(history.history['accuracy'], color='b', label=\"Training accuracy\")\r\n",
        "ax[1].plot(history.history['val_accuracy'], color='r',label=\"Validation accuracy\")\r\n",
        "legend = ax[1].legend(loc='best', shadow=True)"
      ],
      "execution_count": 12,
      "outputs": [
        {
          "output_type": "display_data",
          "data": {
            "image/png": "[encoded data removed]",
            "text/plain": [
              "<Figure size 1152x576 with 2 Axes>"
            ]
          },
          "metadata": {
            "tags": [],
            "needs_background": "light"
          }
        }
      ]
    },
    {
      "cell_type": "code",
      "metadata": {
        "id": "tCtfynZAvwzN"
      },
      "source": [
        "from tensorflow.keras.models import load_model\r\n",
        "\r\n",
        "model = load_model('model.h5')"
      ],
      "execution_count": 13,
      "outputs": []
    },
    {
      "cell_type": "code",
      "metadata": {
        "colab": {
          "base_uri": "https://localhost:8080/"
        },
        "id": "gaLYxxd-yKcH",
        "outputId": "64e27813-b0c4-4184-a8e9-02120e96ecba"
      },
      "source": [
        "score = model.evaluate(x_val, y_val, verbose=0)\r\n",
        "print('Test loss:', score[0])\r\n",
        "print('Test accuracy:', score[1])"
      ],
      "execution_count": 14,
      "outputs": [
        {
          "output_type": "stream",
          "text": [
            "Test loss: 0.04737789183855057\n",
            "Test accuracy: 0.9871428608894348\n"
          ],
          "name": "stdout"
        }
      ]
    },
    {
      "cell_type": "code",
      "metadata": {
        "colab": {
          "base_uri": "https://localhost:8080/"
        },
        "id": "uGKEG-wOyMdK",
        "outputId": "2b0e3964-f4b1-49b8-abec-949ee6968e4d"
      },
      "source": [
        "print(y_train[10])\r\n",
        "print(model.predict(x_train[10].reshape((1,28,28,1))))\r\n",
        "print(model.predict_classes(x_train[10].reshape((1,28,28,1))))"
      ],
      "execution_count": 15,
      "outputs": [
        {
          "output_type": "stream",
          "text": [
            "[0. 0. 0. 0. 1. 0. 0. 0. 0. 0.]\n",
            "[[1.2424860e-04 2.8368257e-05 1.1144112e-05 1.9641875e-05 7.5108325e-01\n",
            "  8.0129023e-05 2.3742092e-01 2.9046796e-04 9.9153342e-03 1.0264851e-03]]\n",
            "[4]\n"
          ],
          "name": "stdout"
        },
        {
          "output_type": "stream",
          "text": [
            "/usr/local/lib/python3.7/dist-packages/tensorflow/python/keras/engine/sequential.py:450: UserWarning: `model.predict_classes()` is deprecated and will be removed after 2021-01-01. Please use instead:* `np.argmax(model.predict(x), axis=-1)`,   if your model does multi-class classification   (e.g. if it uses a `softmax` last-layer activation).* `(model.predict(x) > 0.5).astype(\"int32\")`,   if your model does binary classification   (e.g. if it uses a `sigmoid` last-layer activation).\n",
            "  warnings.warn('`model.predict_classes()` is deprecated and '\n"
          ],
          "name": "stderr"
        }
      ]
    },
    {
      "cell_type": "code",
      "metadata": {
        "id": "nMggDbRMyQau"
      },
      "source": [
        "import itertools\r\n",
        "\r\n",
        "#Plot the confusion matrix. Set Normalize = True/False\r\n",
        "def plot_confusion_matrix(cm, classes, normalize=True, title='Confusion matrix', cmap=plt.cm.Blues):\r\n",
        "    \"\"\"\r\n",
        "    This function prints and plots the confusion matrix.\r\n",
        "    Normalization can be applied by setting `normalize=True`.\r\n",
        "    \"\"\"\r\n",
        "    plt.figure(figsize=(10,10))\r\n",
        "    plt.imshow(cm, interpolation='nearest', cmap=cmap)\r\n",
        "    plt.title(title)\r\n",
        "    plt.colorbar()\r\n",
        "    tick_marks = np.arange(len(classes))\r\n",
        "    plt.xticks(tick_marks, classes, rotation=45)\r\n",
        "    plt.yticks(tick_marks, classes)\r\n",
        "    if normalize:\r\n",
        "        cm = cm.astype('float') / cm.sum(axis=1)[:, np.newaxis]\r\n",
        "        cm = np.around(cm, decimals=2)\r\n",
        "        cm[np.isnan(cm)] = 0.0\r\n",
        "    thresh = cm.max() / 2.\r\n",
        "    for i, j in itertools.product(range(cm.shape[0]), range(cm.shape[1])):\r\n",
        "        plt.text(j, i, cm[i, j],\r\n",
        "                 horizontalalignment=\"center\",\r\n",
        "                 color=\"white\" if cm[i, j] > thresh else \"black\")\r\n",
        "    plt.tight_layout()\r\n",
        "    plt.ylabel('True label')\r\n",
        "    plt.xlabel('Predicted label')"
      ],
      "execution_count": 16,
      "outputs": []
    },
    {
      "cell_type": "code",
      "metadata": {
        "colab": {
          "base_uri": "https://localhost:8080/",
          "height": 1000
        },
        "id": "jSHn68llyZPB",
        "outputId": "fa7f2564-2d84-4a66-c6f6-92e3c5afc126"
      },
      "source": [
        "import numpy as np\r\n",
        "\r\n",
        "# Classificando toda base de teste\r\n",
        "y_pred = model.predict_classes(x_val)\r\n",
        "# voltando pro formato de classes\r\n",
        "y_test_c = np.argmax(y_val, axis=1)\r\n",
        "target_names = ['0', '1', '2', '3', '4', '5', '6', '7', '8', '9']\r\n",
        "\r\n",
        "#Confution Matrix\r\n",
        "cm = confusion_matrix(y_test_c, y_pred)\r\n",
        "plot_confusion_matrix(cm, target_names, normalize=False, title='Confusion Matrix')\r\n",
        "\r\n",
        "print('Classification Report')\r\n",
        "print(classification_report(y_test_c, y_pred, target_names=target_names))"
      ],
      "execution_count": 17,
      "outputs": [
        {
          "output_type": "stream",
          "text": [
            "/usr/local/lib/python3.7/dist-packages/tensorflow/python/keras/engine/sequential.py:450: UserWarning: `model.predict_classes()` is deprecated and will be removed after 2021-01-01. Please use instead:* `np.argmax(model.predict(x), axis=-1)`,   if your model does multi-class classification   (e.g. if it uses a `softmax` last-layer activation).* `(model.predict(x) > 0.5).astype(\"int32\")`,   if your model does binary classification   (e.g. if it uses a `sigmoid` last-layer activation).\n",
            "  warnings.warn('`model.predict_classes()` is deprecated and '\n"
          ],
          "name": "stderr"
        },
        {
          "output_type": "stream",
          "text": [
            "Classification Report\n",
            "              precision    recall  f1-score   support\n",
            "\n",
            "           0       0.98      0.99      0.99       417\n",
            "           1       1.00      1.00      1.00       480\n",
            "           2       0.99      0.99      0.99       408\n",
            "           3       1.00      0.97      0.98       437\n",
            "           4       0.99      0.99      0.99       391\n",
            "           5       0.98      0.98      0.98       377\n",
            "           6       0.98      1.00      0.99       413\n",
            "           7       0.99      0.99      0.99       450\n",
            "           8       0.98      0.99      0.98       381\n",
            "           9       0.98      0.98      0.98       446\n",
            "\n",
            "    accuracy                           0.99      4200\n",
            "   macro avg       0.99      0.99      0.99      4200\n",
            "weighted avg       0.99      0.99      0.99      4200\n",
            "\n"
          ],
          "name": "stdout"
        },
        {
          "output_type": "display_data",
          "data": {
            "image/png": "[encoded data removed]",
            "text/plain": [
              "<Figure size 720x720 with 2 Axes>"
            ]
          },
          "metadata": {
            "tags": [],
            "needs_background": "light"
          }
        }
      ]
    },
    {
      "cell_type": "code",
      "metadata": {
        "id": "kxJN0_7LyZ8V"
      },
      "source": [
        ""
      ],
      "execution_count": null,
      "outputs": []
    }
  ]
}