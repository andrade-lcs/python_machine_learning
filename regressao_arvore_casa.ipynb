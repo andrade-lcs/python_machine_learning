{
  "nbformat": 4,
  "nbformat_minor": 0,
  "metadata": {
    "colab": {
      "name": "regressao_arvore_casa.ipynb",
      "provenance": [],
      "authorship_tag": "ABX9TyPYbNsG+Z3nBK5jkFmwHuzl"
    },
    "kernelspec": {
      "name": "python3",
      "display_name": "Python 3"
    }
  },
  "cells": [
    {
      "cell_type": "markdown",
      "metadata": {
        "id": "T_Qy0mr5TQBN"
      },
      "source": [
        "Montando dataframe"
      ]
    },
    {
      "cell_type": "code",
      "metadata": {
        "id": "JuYddin9S4q-"
      },
      "source": [
        "import pandas as pd"
      ],
      "execution_count": 1,
      "outputs": []
    },
    {
      "cell_type": "code",
      "metadata": {
        "id": "Q_Najr02THuJ"
      },
      "source": [
        "base = pd.read_csv('house_prices.csv')"
      ],
      "execution_count": 2,
      "outputs": []
    },
    {
      "cell_type": "code",
      "metadata": {
        "id": "_aUNAdbOTTrk"
      },
      "source": [
        "x = base.iloc[:, 3:19].values\n",
        "y = base.iloc[:, 2].values"
      ],
      "execution_count": 3,
      "outputs": []
    },
    {
      "cell_type": "markdown",
      "metadata": {
        "id": "Z2u-zV5KU5H2"
      },
      "source": [
        "Divisão de dataframe em teste e treinamento"
      ]
    },
    {
      "cell_type": "code",
      "metadata": {
        "id": "vpjWQfqyTkvh"
      },
      "source": [
        "from sklearn.model_selection import train_test_split\n",
        "x_trein, x_teste, y_trein, y_teste = train_test_split(x, y, test_size=0.3, random_state=0)"
      ],
      "execution_count": 4,
      "outputs": []
    },
    {
      "cell_type": "markdown",
      "metadata": {
        "id": "F3_Cgi70U9h7"
      },
      "source": [
        "Regressão Random Forest"
      ]
    },
    {
      "cell_type": "code",
      "metadata": {
        "id": "3jereyo9Uwih",
        "colab": {
          "base_uri": "https://localhost:8080/"
        },
        "outputId": "811d1edd-a7ce-4592-b6e2-746d72b666a6"
      },
      "source": [
        "from sklearn.tree import DecisionTreeRegressor\n",
        "regressor = DecisionTreeRegressor()\n",
        "regressor.fit(x_trein, y_trein)"
      ],
      "execution_count": 5,
      "outputs": [
        {
          "output_type": "execute_result",
          "data": {
            "text/plain": [
              "DecisionTreeRegressor(ccp_alpha=0.0, criterion='mse', max_depth=None,\n",
              "                      max_features=None, max_leaf_nodes=None,\n",
              "                      min_impurity_decrease=0.0, min_impurity_split=None,\n",
              "                      min_samples_leaf=1, min_samples_split=2,\n",
              "                      min_weight_fraction_leaf=0.0, presort='deprecated',\n",
              "                      random_state=None, splitter='best')"
            ]
          },
          "metadata": {
            "tags": []
          },
          "execution_count": 5
        }
      ]
    },
    {
      "cell_type": "code",
      "metadata": {
        "colab": {
          "base_uri": "https://localhost:8080/"
        },
        "id": "l9e8fZKgV3I7",
        "outputId": "75000aa7-cabe-4024-b0c0-0da780ecf994"
      },
      "source": [
        "regressor.score(x_trein, y_trein)"
      ],
      "execution_count": 6,
      "outputs": [
        {
          "output_type": "execute_result",
          "data": {
            "text/plain": [
              "0.9992712177726063"
            ]
          },
          "metadata": {
            "tags": []
          },
          "execution_count": 6
        }
      ]
    },
    {
      "cell_type": "code",
      "metadata": {
        "id": "42T2MqbKWMiR"
      },
      "source": [
        "previsoes = regressor.predict(x_teste)"
      ],
      "execution_count": 7,
      "outputs": []
    },
    {
      "cell_type": "code",
      "metadata": {
        "colab": {
          "base_uri": "https://localhost:8080/"
        },
        "id": "kw7_5_ZAYy8E",
        "outputId": "92f11c9e-2a55-42aa-db1c-45da08786000"
      },
      "source": [
        "from sklearn.metrics import mean_absolute_error\n",
        "mae = mean_absolute_error(y_teste, previsoes)\n",
        "mae"
      ],
      "execution_count": 8,
      "outputs": [
        {
          "output_type": "execute_result",
          "data": {
            "text/plain": [
              "99422.6125077113"
            ]
          },
          "metadata": {
            "tags": []
          },
          "execution_count": 8
        }
      ]
    },
    {
      "cell_type": "code",
      "metadata": {
        "id": "I9iXMUFHZFnK",
        "colab": {
          "base_uri": "https://localhost:8080/"
        },
        "outputId": "cd228c3c-7b3b-43f3-cf2a-ec24d3e2f9ce"
      },
      "source": [
        "regressor.score(x_teste, y_teste)"
      ],
      "execution_count": 9,
      "outputs": [
        {
          "output_type": "execute_result",
          "data": {
            "text/plain": [
              "0.7369738224091871"
            ]
          },
          "metadata": {
            "tags": []
          },
          "execution_count": 9
        }
      ]
    }
  ]
}