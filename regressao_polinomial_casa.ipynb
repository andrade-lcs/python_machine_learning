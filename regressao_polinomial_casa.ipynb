{
  "nbformat": 4,
  "nbformat_minor": 0,
  "metadata": {
    "colab": {
      "name": "regressao_polinomial_casa.ipynb",
      "provenance": [],
      "authorship_tag": "ABX9TyMeUN4hZfu2xgg4zPFV++Gy"
    },
    "kernelspec": {
      "name": "python3",
      "display_name": "Python 3"
    }
  },
  "cells": [
    {
      "cell_type": "markdown",
      "metadata": {
        "id": "T_Qy0mr5TQBN"
      },
      "source": [
        "Montando dataframe"
      ]
    },
    {
      "cell_type": "code",
      "metadata": {
        "id": "JuYddin9S4q-"
      },
      "source": [
        "import pandas as pd"
      ],
      "execution_count": 1,
      "outputs": []
    },
    {
      "cell_type": "code",
      "metadata": {
        "id": "Q_Najr02THuJ"
      },
      "source": [
        "base = pd.read_csv('house_prices.csv')"
      ],
      "execution_count": 2,
      "outputs": []
    },
    {
      "cell_type": "code",
      "metadata": {
        "id": "_aUNAdbOTTrk"
      },
      "source": [
        "x = base.iloc[:, 3:19].values\n",
        "y = base.iloc[:, 2].values"
      ],
      "execution_count": 3,
      "outputs": []
    },
    {
      "cell_type": "markdown",
      "metadata": {
        "id": "Z2u-zV5KU5H2"
      },
      "source": [
        "Divisão de dataframe em teste e treinamento"
      ]
    },
    {
      "cell_type": "code",
      "metadata": {
        "id": "vpjWQfqyTkvh"
      },
      "source": [
        "from sklearn.model_selection import train_test_split\n",
        "x_trein, x_teste, y_trein, y_teste = train_test_split(x, y, test_size=0.3, random_state=0)"
      ],
      "execution_count": 4,
      "outputs": []
    },
    {
      "cell_type": "markdown",
      "metadata": {
        "id": "F3_Cgi70U9h7"
      },
      "source": [
        "Regressão Polinomial Multipla"
      ]
    },
    {
      "cell_type": "code",
      "metadata": {
        "id": "3jereyo9Uwih"
      },
      "source": [
        "from sklearn.preprocessing import PolynomialFeatures\n",
        "poly = PolynomialFeatures(degree = 4)\n",
        "x_trein_poly = poly.fit_transform(x_trein)\n",
        "x_teste_poly = poly.transform(x_teste)"
      ],
      "execution_count": 5,
      "outputs": []
    },
    {
      "cell_type": "code",
      "metadata": {
        "colab": {
          "base_uri": "https://localhost:8080/"
        },
        "id": "6oz9mSZWVXeq",
        "outputId": "50572366-0dfc-474f-d7d4-4be1f4a5adaa"
      },
      "source": [
        "from sklearn.linear_model import LinearRegression\n",
        "regressor = LinearRegression()\n",
        "regressor.fit(x_trein_poly, y_trein)"
      ],
      "execution_count": 6,
      "outputs": [
        {
          "output_type": "execute_result",
          "data": {
            "text/plain": [
              "LinearRegression(copy_X=True, fit_intercept=True, n_jobs=None, normalize=False)"
            ]
          },
          "metadata": {
            "tags": []
          },
          "execution_count": 6
        }
      ]
    },
    {
      "cell_type": "code",
      "metadata": {
        "colab": {
          "base_uri": "https://localhost:8080/"
        },
        "id": "l9e8fZKgV3I7",
        "outputId": "549c1981-ecd1-4e5b-8f74-feccb91bb300"
      },
      "source": [
        "regressor.score(x_trein_poly, y_trein)"
      ],
      "execution_count": 7,
      "outputs": [
        {
          "output_type": "execute_result",
          "data": {
            "text/plain": [
              "0.8576545685771056"
            ]
          },
          "metadata": {
            "tags": []
          },
          "execution_count": 7
        }
      ]
    },
    {
      "cell_type": "code",
      "metadata": {
        "id": "42T2MqbKWMiR"
      },
      "source": [
        "previsoes = regressor.predict(x_teste_poly)"
      ],
      "execution_count": 8,
      "outputs": []
    },
    {
      "cell_type": "code",
      "metadata": {
        "colab": {
          "base_uri": "https://localhost:8080/"
        },
        "id": "kw7_5_ZAYy8E",
        "outputId": "63033a85-aa7b-4135-886f-2a1eab4c04ba"
      },
      "source": [
        "from sklearn.metrics import mean_absolute_error\n",
        "mae = mean_absolute_error(y_teste, previsoes)\n",
        "mae"
      ],
      "execution_count": 9,
      "outputs": [
        {
          "output_type": "execute_result",
          "data": {
            "text/plain": [
              "141769.61227716008"
            ]
          },
          "metadata": {
            "tags": []
          },
          "execution_count": 9
        }
      ]
    }
  ]
}