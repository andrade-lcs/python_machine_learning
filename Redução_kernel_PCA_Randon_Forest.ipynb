{
  "nbformat": 4,
  "nbformat_minor": 0,
  "metadata": {
    "colab": {
      "name": "Redução_kernel_PCA_Randon_Forest.ipynb",
      "provenance": [],
      "authorship_tag": "ABX9TyO99vbPazTTt4CZOVhIEkFC"
    },
    "kernelspec": {
      "name": "python3",
      "display_name": "Python 3"
    }
  },
  "cells": [
    {
      "cell_type": "code",
      "metadata": {
        "id": "z20poExQzaeJ"
      },
      "source": [
        "import pandas as pd\n",
        "\n",
        "base = pd.read_csv('census.csv')"
      ],
      "execution_count": 1,
      "outputs": []
    },
    {
      "cell_type": "markdown",
      "metadata": {
        "id": "REAkvnfQUMuV"
      },
      "source": [
        "Transfomação de variáveis categóricas"
      ]
    },
    {
      "cell_type": "code",
      "metadata": {
        "id": "nv230P_06ATS"
      },
      "source": [
        "previsores = base.iloc[:, 0:14].values\n",
        "classe = base.iloc[:, 14].values"
      ],
      "execution_count": 2,
      "outputs": []
    },
    {
      "cell_type": "code",
      "metadata": {
        "id": "oMd3j3mq76P5"
      },
      "source": [
        "from sklearn.preprocessing import LabelEncoder\n",
        "from sklearn.compose import ColumnTransformer"
      ],
      "execution_count": 3,
      "outputs": []
    },
    {
      "cell_type": "code",
      "metadata": {
        "id": "3w3fPejK8S61"
      },
      "source": [
        "labelencoder_previsores = LabelEncoder()\n",
        "previsores[:, 1] = labelencoder_previsores.fit_transform(previsores[:,1])\n",
        "previsores[:, 3] = labelencoder_previsores.fit_transform(previsores[:,3])\n",
        "previsores[:, 5] = labelencoder_previsores.fit_transform(previsores[:,5])\n",
        "previsores[:, 6] = labelencoder_previsores.fit_transform(previsores[:,6])\n",
        "previsores[:, 7] = labelencoder_previsores.fit_transform(previsores[:,7])\n",
        "previsores[:, 8] = labelencoder_previsores.fit_transform(previsores[:,8])\n",
        "previsores[:, 9] = labelencoder_previsores.fit_transform(previsores[:,9])\n",
        "previsores[:, 13] = labelencoder_previsores.fit_transform(previsores[:,13])"
      ],
      "execution_count": 4,
      "outputs": []
    },
    {
      "cell_type": "markdown",
      "metadata": {
        "id": "9TJCZzvwUGZQ"
      },
      "source": [
        "Escalonamento dos valoers numéricos"
      ]
    },
    {
      "cell_type": "code",
      "metadata": {
        "id": "n3XPVUp6TwDX"
      },
      "source": [
        "from sklearn.preprocessing import StandardScaler\n",
        "scaler = StandardScaler()\n",
        "previsores = scaler.fit_transform(previsores)"
      ],
      "execution_count": 5,
      "outputs": []
    },
    {
      "cell_type": "code",
      "metadata": {
        "id": "C130M6zFUxBf"
      },
      "source": [
        "from sklearn.model_selection import train_test_split\n",
        "previsores_treinamento, previsores_teste, classe_treinamento, classe_teste =  train_test_split(previsores, classe, test_size=0.15, random_state=0)"
      ],
      "execution_count": 6,
      "outputs": []
    },
    {
      "cell_type": "markdown",
      "metadata": {
        "id": "GZy6HIS9UVQJ"
      },
      "source": [
        "Redução atrávez do PCA\n",
        "\n"
      ]
    },
    {
      "cell_type": "code",
      "metadata": {
        "id": "0yP5TedNEblg"
      },
      "source": [
        "from sklearn.decomposition import KernelPCA\n",
        "kpca = KernelPCA(n_components=6, kernel='rbf', ) #'linear', 'poly', 'sigmoid', 'cosine', 'precomputed'\n",
        "previsores_treinamento = kpca.fit_transform(previsores_treinamento)\n",
        "previsores_teste = kpca.transform(previsores_teste)"
      ],
      "execution_count": null,
      "outputs": []
    },
    {
      "cell_type": "code",
      "metadata": {
        "colab": {
          "base_uri": "https://localhost:8080/"
        },
        "id": "INcHnXMHNdbL",
        "outputId": "ba841590-17ee-414f-f6ed-5a57f45ec929"
      },
      "source": [
        "previsores_treinamento"
      ],
      "execution_count": 8,
      "outputs": [
        {
          "output_type": "execute_result",
          "data": {
            "text/plain": [
              "array([[ 0.18894283,  0.05517031, -0.08653531, -0.25935156, -0.12991785,\n",
              "         0.41350358],\n",
              "       [ 0.16165577, -0.07855932, -0.03858728, -0.03933047, -0.19262715,\n",
              "        -0.01994034],\n",
              "       [-0.085163  , -0.27486159,  0.12920466, -0.05076445, -0.26256701,\n",
              "         0.19029531],\n",
              "       ...,\n",
              "       [-0.27872683,  0.40033469,  0.20104327,  0.15686472,  0.08205174,\n",
              "        -0.17392304],\n",
              "       [ 0.21829898, -0.12392098, -0.02312817,  0.1059456 , -0.32953633,\n",
              "        -0.12231089],\n",
              "       [ 0.24961467,  0.42418174,  0.12141394, -0.12781321, -0.14906416,\n",
              "        -0.00408799]])"
            ]
          },
          "metadata": {
            "tags": []
          },
          "execution_count": 8
        }
      ]
    },
    {
      "cell_type": "code",
      "metadata": {
        "colab": {
          "base_uri": "https://localhost:8080/"
        },
        "id": "3tsJuzRmNf4S",
        "outputId": "a6043941-ae6e-40b4-8e16-3701c50ea0f4"
      },
      "source": [
        "previsores_teste"
      ],
      "execution_count": 9,
      "outputs": [
        {
          "output_type": "execute_result",
          "data": {
            "text/plain": [
              "array([[-0.2305274 ,  0.09216682, -0.35889558,  0.37892228,  0.05855862,\n",
              "         0.20619442],\n",
              "       [-0.08104678,  0.37831476,  0.25676557,  0.13851987, -0.02663966,\n",
              "        -0.02519549],\n",
              "       [ 0.29936848,  0.08812443,  0.37047773, -0.0849739 ,  0.03354713,\n",
              "         0.18397454],\n",
              "       ...,\n",
              "       [-0.34675858,  0.37151029,  0.17696698,  0.12378541,  0.05994199,\n",
              "         0.04998738],\n",
              "       [ 0.22278612,  0.31570043, -0.03235012, -0.08775353, -0.06049799,\n",
              "        -0.38373265],\n",
              "       [ 0.4670664 ,  0.02217354, -0.12841031,  0.02578596, -0.13517414,\n",
              "        -0.04612234]])"
            ]
          },
          "metadata": {
            "tags": []
          },
          "execution_count": 9
        }
      ]
    },
    {
      "cell_type": "code",
      "metadata": {
        "id": "4SiTJqMKniD1",
        "colab": {
          "base_uri": "https://localhost:8080/"
        },
        "outputId": "453ef86a-d80e-4a38-c7e4-5c3b096b6aab"
      },
      "source": [
        "from sklearn.ensemble import RandomForestClassifier\n",
        "classificador = RandomForestClassifier(n_estimators=40, criterion='entropy', random_state=0)\n",
        "classificador.fit(previsores_treinamento, classe_treinamento)"
      ],
      "execution_count": 10,
      "outputs": [
        {
          "output_type": "execute_result",
          "data": {
            "text/plain": [
              "RandomForestClassifier(bootstrap=True, ccp_alpha=0.0, class_weight=None,\n",
              "                       criterion='entropy', max_depth=None, max_features='auto',\n",
              "                       max_leaf_nodes=None, max_samples=None,\n",
              "                       min_impurity_decrease=0.0, min_impurity_split=None,\n",
              "                       min_samples_leaf=1, min_samples_split=2,\n",
              "                       min_weight_fraction_leaf=0.0, n_estimators=40,\n",
              "                       n_jobs=None, oob_score=False, random_state=0, verbose=0,\n",
              "                       warm_start=False)"
            ]
          },
          "metadata": {
            "tags": []
          },
          "execution_count": 10
        }
      ]
    },
    {
      "cell_type": "markdown",
      "metadata": {
        "id": "nK90iXOMUf2q"
      },
      "source": [
        "Resultado da previsão"
      ]
    },
    {
      "cell_type": "code",
      "metadata": {
        "id": "g3JFDrnGUgkq"
      },
      "source": [
        "previsoes = classificador.predict(previsores_teste)"
      ],
      "execution_count": 11,
      "outputs": []
    },
    {
      "cell_type": "code",
      "metadata": {
        "colab": {
          "base_uri": "https://localhost:8080/"
        },
        "id": "vG9frNDvUkSr",
        "outputId": "9a944821-6ea9-41be-9696-9b29d7f3a3a4"
      },
      "source": [
        "from sklearn.metrics import confusion_matrix, accuracy_score\n",
        "precisao = accuracy_score(classe_teste, previsoes)\n",
        "print(precisao)"
      ],
      "execution_count": 12,
      "outputs": [
        {
          "output_type": "stream",
          "text": [
            "0.8174002047082907\n"
          ],
          "name": "stdout"
        }
      ]
    },
    {
      "cell_type": "code",
      "metadata": {
        "colab": {
          "base_uri": "https://localhost:8080/"
        },
        "id": "bitwVS3DUpGT",
        "outputId": "dfb4aa43-fbe0-4cea-9881-2cbbba772954"
      },
      "source": [
        "matriz = confusion_matrix(classe_teste, previsoes)\n",
        "print(matriz)"
      ],
      "execution_count": 13,
      "outputs": [
        {
          "output_type": "stream",
          "text": [
            "[[3379  314]\n",
            " [ 578  614]]\n"
          ],
          "name": "stdout"
        }
      ]
    }
  ]
}