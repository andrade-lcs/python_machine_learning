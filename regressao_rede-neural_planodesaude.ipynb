{
  "nbformat": 4,
  "nbformat_minor": 0,
  "metadata": {
    "colab": {
      "name": "regressao_rna_planodesaude.ipynb",
      "provenance": [],
      "authorship_tag": "ABX9TyPBu2XwsZeOz777cm+kMfXA"
    },
    "kernelspec": {
      "name": "python3",
      "display_name": "Python 3"
    }
  },
  "cells": [
    {
      "cell_type": "markdown",
      "metadata": {
        "id": "jgU_-IE3LaC9"
      },
      "source": [
        "Montagem de dataframe"
      ]
    },
    {
      "cell_type": "code",
      "metadata": {
        "id": "SCyXdUW8HnI_"
      },
      "source": [
        "import pandas as pd"
      ],
      "execution_count": 1,
      "outputs": []
    },
    {
      "cell_type": "code",
      "metadata": {
        "id": "Llc_K1DJJzR9"
      },
      "source": [
        "base = pd.read_csv('plano_saude2.csv')"
      ],
      "execution_count": 2,
      "outputs": []
    },
    {
      "cell_type": "code",
      "metadata": {
        "id": "k1Eg8dr7J9a8"
      },
      "source": [
        "x = base.iloc[:, 0:1].values\n",
        "y = base.iloc[:, 1:2].values"
      ],
      "execution_count": 3,
      "outputs": []
    },
    {
      "cell_type": "markdown",
      "metadata": {
        "id": "0Yl6XmWYO84L"
      },
      "source": [
        "Pré-processamento dos dados"
      ]
    },
    {
      "cell_type": "code",
      "metadata": {
        "id": "x014dkJ-EsGX"
      },
      "source": [
        "from sklearn.preprocessing import StandardScaler\r\n",
        "scaler_x = StandardScaler()\r\n",
        "x = scaler_x.fit_transform(x)\r\n",
        "scaler_y = StandardScaler()\r\n",
        "y = scaler_y.fit_transform(y)"
      ],
      "execution_count": 4,
      "outputs": []
    },
    {
      "cell_type": "markdown",
      "metadata": {
        "id": "NfJHAuuYLYCF"
      },
      "source": [
        "Regressão Rede neural"
      ]
    },
    {
      "cell_type": "code",
      "metadata": {
        "colab": {
          "base_uri": "https://localhost:8080/"
        },
        "id": "8LtEL3QTKS68",
        "outputId": "decd29d7-8165-4396-e247-59ded5e4f342"
      },
      "source": [
        "from sklearn.neural_network import MLPRegressor\n",
        "regressor = MLPRegressor()\n",
        "regressor.fit(x, y)"
      ],
      "execution_count": 5,
      "outputs": [
        {
          "output_type": "stream",
          "text": [
            "/usr/local/lib/python3.7/dist-packages/sklearn/neural_network/_multilayer_perceptron.py:1342: DataConversionWarning: A column-vector y was passed when a 1d array was expected. Please change the shape of y to (n_samples, ), for example using ravel().\n",
            "  y = column_or_1d(y, warn=True)\n",
            "/usr/local/lib/python3.7/dist-packages/sklearn/neural_network/_multilayer_perceptron.py:571: ConvergenceWarning: Stochastic Optimizer: Maximum iterations (200) reached and the optimization hasn't converged yet.\n",
            "  % self.max_iter, ConvergenceWarning)\n"
          ],
          "name": "stderr"
        },
        {
          "output_type": "execute_result",
          "data": {
            "text/plain": [
              "MLPRegressor(activation='relu', alpha=0.0001, batch_size='auto', beta_1=0.9,\n",
              "             beta_2=0.999, early_stopping=False, epsilon=1e-08,\n",
              "             hidden_layer_sizes=(100,), learning_rate='constant',\n",
              "             learning_rate_init=0.001, max_fun=15000, max_iter=200,\n",
              "             momentum=0.9, n_iter_no_change=10, nesterovs_momentum=True,\n",
              "             power_t=0.5, random_state=None, shuffle=True, solver='adam',\n",
              "             tol=0.0001, validation_fraction=0.1, verbose=False,\n",
              "             warm_start=False)"
            ]
          },
          "metadata": {
            "tags": []
          },
          "execution_count": 5
        }
      ]
    },
    {
      "cell_type": "code",
      "metadata": {
        "colab": {
          "base_uri": "https://localhost:8080/"
        },
        "id": "RNGKORZJLPst",
        "outputId": "3ebacc2c-0b28-421a-9bd4-05399c0ed180"
      },
      "source": [
        "regressor.score(x, y)"
      ],
      "execution_count": 6,
      "outputs": [
        {
          "output_type": "execute_result",
          "data": {
            "text/plain": [
              "0.9195705584691506"
            ]
          },
          "metadata": {
            "tags": []
          },
          "execution_count": 6
        }
      ]
    },
    {
      "cell_type": "code",
      "metadata": {
        "id": "snwWbvqIbIu0"
      },
      "source": [
        "import matplotlib.pyplot as plt\n",
        "import numpy as np"
      ],
      "execution_count": 7,
      "outputs": []
    },
    {
      "cell_type": "code",
      "metadata": {
        "colab": {
          "base_uri": "https://localhost:8080/",
          "height": 312
        },
        "id": "712XRjoLRe4l",
        "outputId": "733bf6ac-be2a-4503-d9af-50b92be1df2c"
      },
      "source": [
        "plt.scatter(x, y)\n",
        "plt.plot(x, regressor.predict(x), color='red')\n",
        "plt.title('Regressão random forest')\n",
        "plt.xlabel('Idade')\n",
        "plt.ylabel('Custo')"
      ],
      "execution_count": 8,
      "outputs": [
        {
          "output_type": "execute_result",
          "data": {
            "text/plain": [
              "Text(0, 0.5, 'Custo')"
            ]
          },
          "metadata": {
            "tags": []
          },
          "execution_count": 8
        },
        {
          "output_type": "display_data",
          "data": {
            "image/png": "[encoded data removed]",
            "text/plain": [
              "<Figure size 432x288 with 1 Axes>"
            ]
          },
          "metadata": {
            "tags": [],
            "needs_background": "light"
          }
        }
      ]
    },
    {
      "cell_type": "code",
      "metadata": {
        "colab": {
          "base_uri": "https://localhost:8080/"
        },
        "id": "OHMrNb1n9zqM",
        "outputId": "adbe909d-07ce-4279-c26b-6dc7e69abd7f"
      },
      "source": [
        "previsao = scaler_y.inverse_transform(regressor.predict(scaler_x.transform(np.array(40).reshape(1, -1))))\r\n",
        "previsao"
      ],
      "execution_count": 9,
      "outputs": [
        {
          "output_type": "execute_result",
          "data": {
            "text/plain": [
              "array([1030.38305908])"
            ]
          },
          "metadata": {
            "tags": []
          },
          "execution_count": 9
        }
      ]
    },
    {
      "cell_type": "code",
      "metadata": {
        "id": "BN_To2Um_Z7y"
      },
      "source": [
        "previsao = scaler_y.inverse_transform(regressor.predict(x))\r\n",
        "x = scaler_x.inverse_transform(x)\r\n",
        "y = scaler_y.inverse_transform(y)"
      ],
      "execution_count": 10,
      "outputs": []
    },
    {
      "cell_type": "code",
      "metadata": {
        "colab": {
          "base_uri": "https://localhost:8080/",
          "height": 312
        },
        "id": "ku6nsArV-OjK",
        "outputId": "113b8e8a-0368-47c8-823b-51e9fa3f42ae"
      },
      "source": [
        "plt.scatter(x, y)\r\n",
        "plt.plot(x, previsao, color='red')\r\n",
        "plt.title('Regressão random forest')\r\n",
        "plt.xlabel('Idade')\r\n",
        "plt.ylabel('Custo')"
      ],
      "execution_count": 13,
      "outputs": [
        {
          "output_type": "execute_result",
          "data": {
            "text/plain": [
              "Text(0, 0.5, 'Custo')"
            ]
          },
          "metadata": {
            "tags": []
          },
          "execution_count": 13
        },
        {
          "output_type": "display_data",
          "data": {
            "image/png": "[encoded data removed]",
            "text/plain": [
              "<Figure size 432x288 with 1 Axes>"
            ]
          },
          "metadata": {
            "tags": [],
            "needs_background": "light"
          }
        }
      ]
    },
    {
      "cell_type": "code",
      "metadata": {
        "id": "rejSropX_-wa"
      },
      "source": [
        ""
      ],
      "execution_count": null,
      "outputs": []
    }
  ]
}