{
  "nbformat": 4,
  "nbformat_minor": 0,
  "metadata": {
    "colab": {
      "name": "tensor_flow_cred_data.ipynb",
      "provenance": [],
      "authorship_tag": "ABX9TyPcXN/mV8fYB4XkuxxXOVPJ"
    },
    "kernelspec": {
      "name": "python3",
      "display_name": "Python 3"
    }
  },
  "cells": [
    {
      "cell_type": "code",
      "metadata": {
        "colab": {
          "base_uri": "https://localhost:8080/"
        },
        "id": "iFlQ3LP2JJdp",
        "outputId": "da2dc199-35c1-41a3-d611-83c2fc702d9c"
      },
      "source": [
        "!pip install tensorflow\n",
        "!pip install keras"
      ],
      "execution_count": 1,
      "outputs": [
        {
          "output_type": "stream",
          "text": [
            "Requirement already satisfied: tensorflow in /usr/local/lib/python3.6/dist-packages (2.4.1)\n",
            "Requirement already satisfied: grpcio~=1.32.0 in /usr/local/lib/python3.6/dist-packages (from tensorflow) (1.32.0)\n",
            "Requirement already satisfied: opt-einsum~=3.3.0 in /usr/local/lib/python3.6/dist-packages (from tensorflow) (3.3.0)\n",
            "Requirement already satisfied: protobuf>=3.9.2 in /usr/local/lib/python3.6/dist-packages (from tensorflow) (3.12.4)\n",
            "Requirement already satisfied: six~=1.15.0 in /usr/local/lib/python3.6/dist-packages (from tensorflow) (1.15.0)\n",
            "Requirement already satisfied: gast==0.3.3 in /usr/local/lib/python3.6/dist-packages (from tensorflow) (0.3.3)\n",
            "Requirement already satisfied: termcolor~=1.1.0 in /usr/local/lib/python3.6/dist-packages (from tensorflow) (1.1.0)\n",
            "Requirement already satisfied: absl-py~=0.10 in /usr/local/lib/python3.6/dist-packages (from tensorflow) (0.10.0)\n",
            "Requirement already satisfied: keras-preprocessing~=1.1.2 in /usr/local/lib/python3.6/dist-packages (from tensorflow) (1.1.2)\n",
            "Requirement already satisfied: google-pasta~=0.2 in /usr/local/lib/python3.6/dist-packages (from tensorflow) (0.2.0)\n",
            "Requirement already satisfied: flatbuffers~=1.12.0 in /usr/local/lib/python3.6/dist-packages (from tensorflow) (1.12)\n",
            "Requirement already satisfied: wrapt~=1.12.1 in /usr/local/lib/python3.6/dist-packages (from tensorflow) (1.12.1)\n",
            "Requirement already satisfied: numpy~=1.19.2 in /usr/local/lib/python3.6/dist-packages (from tensorflow) (1.19.5)\n",
            "Requirement already satisfied: tensorflow-estimator<2.5.0,>=2.4.0 in /usr/local/lib/python3.6/dist-packages (from tensorflow) (2.4.0)\n",
            "Requirement already satisfied: tensorboard~=2.4 in /usr/local/lib/python3.6/dist-packages (from tensorflow) (2.4.1)\n",
            "Requirement already satisfied: wheel~=0.35 in /usr/local/lib/python3.6/dist-packages (from tensorflow) (0.36.2)\n",
            "Requirement already satisfied: h5py~=2.10.0 in /usr/local/lib/python3.6/dist-packages (from tensorflow) (2.10.0)\n",
            "Requirement already satisfied: astunparse~=1.6.3 in /usr/local/lib/python3.6/dist-packages (from tensorflow) (1.6.3)\n",
            "Requirement already satisfied: typing-extensions~=3.7.4 in /usr/local/lib/python3.6/dist-packages (from tensorflow) (3.7.4.3)\n",
            "Requirement already satisfied: setuptools in /usr/local/lib/python3.6/dist-packages (from protobuf>=3.9.2->tensorflow) (53.0.0)\n",
            "Requirement already satisfied: google-auth<2,>=1.6.3 in /usr/local/lib/python3.6/dist-packages (from tensorboard~=2.4->tensorflow) (1.25.0)\n",
            "Requirement already satisfied: werkzeug>=0.11.15 in /usr/local/lib/python3.6/dist-packages (from tensorboard~=2.4->tensorflow) (1.0.1)\n",
            "Requirement already satisfied: tensorboard-plugin-wit>=1.6.0 in /usr/local/lib/python3.6/dist-packages (from tensorboard~=2.4->tensorflow) (1.8.0)\n",
            "Requirement already satisfied: markdown>=2.6.8 in /usr/local/lib/python3.6/dist-packages (from tensorboard~=2.4->tensorflow) (3.3.3)\n",
            "Requirement already satisfied: requests<3,>=2.21.0 in /usr/local/lib/python3.6/dist-packages (from tensorboard~=2.4->tensorflow) (2.23.0)\n",
            "Requirement already satisfied: google-auth-oauthlib<0.5,>=0.4.1 in /usr/local/lib/python3.6/dist-packages (from tensorboard~=2.4->tensorflow) (0.4.2)\n",
            "Requirement already satisfied: pyasn1-modules>=0.2.1 in /usr/local/lib/python3.6/dist-packages (from google-auth<2,>=1.6.3->tensorboard~=2.4->tensorflow) (0.2.8)\n",
            "Requirement already satisfied: cachetools<5.0,>=2.0.0 in /usr/local/lib/python3.6/dist-packages (from google-auth<2,>=1.6.3->tensorboard~=2.4->tensorflow) (4.2.1)\n",
            "Requirement already satisfied: rsa<5,>=3.1.4; python_version >= \"3.6\" in /usr/local/lib/python3.6/dist-packages (from google-auth<2,>=1.6.3->tensorboard~=2.4->tensorflow) (4.7)\n",
            "Requirement already satisfied: importlib-metadata; python_version < \"3.8\" in /usr/local/lib/python3.6/dist-packages (from markdown>=2.6.8->tensorboard~=2.4->tensorflow) (3.4.0)\n",
            "Requirement already satisfied: idna<3,>=2.5 in /usr/local/lib/python3.6/dist-packages (from requests<3,>=2.21.0->tensorboard~=2.4->tensorflow) (2.10)\n",
            "Requirement already satisfied: urllib3!=1.25.0,!=1.25.1,<1.26,>=1.21.1 in /usr/local/lib/python3.6/dist-packages (from requests<3,>=2.21.0->tensorboard~=2.4->tensorflow) (1.24.3)\n",
            "Requirement already satisfied: certifi>=2017.4.17 in /usr/local/lib/python3.6/dist-packages (from requests<3,>=2.21.0->tensorboard~=2.4->tensorflow) (2020.12.5)\n",
            "Requirement already satisfied: chardet<4,>=3.0.2 in /usr/local/lib/python3.6/dist-packages (from requests<3,>=2.21.0->tensorboard~=2.4->tensorflow) (3.0.4)\n",
            "Requirement already satisfied: requests-oauthlib>=0.7.0 in /usr/local/lib/python3.6/dist-packages (from google-auth-oauthlib<0.5,>=0.4.1->tensorboard~=2.4->tensorflow) (1.3.0)\n",
            "Requirement already satisfied: pyasn1<0.5.0,>=0.4.6 in /usr/local/lib/python3.6/dist-packages (from pyasn1-modules>=0.2.1->google-auth<2,>=1.6.3->tensorboard~=2.4->tensorflow) (0.4.8)\n",
            "Requirement already satisfied: zipp>=0.5 in /usr/local/lib/python3.6/dist-packages (from importlib-metadata; python_version < \"3.8\"->markdown>=2.6.8->tensorboard~=2.4->tensorflow) (3.4.0)\n",
            "Requirement already satisfied: oauthlib>=3.0.0 in /usr/local/lib/python3.6/dist-packages (from requests-oauthlib>=0.7.0->google-auth-oauthlib<0.5,>=0.4.1->tensorboard~=2.4->tensorflow) (3.1.0)\n",
            "Requirement already satisfied: keras in /usr/local/lib/python3.6/dist-packages (2.4.3)\n",
            "Requirement already satisfied: numpy>=1.9.1 in /usr/local/lib/python3.6/dist-packages (from keras) (1.19.5)\n",
            "Requirement already satisfied: scipy>=0.14 in /usr/local/lib/python3.6/dist-packages (from keras) (1.4.1)\n",
            "Requirement already satisfied: h5py in /usr/local/lib/python3.6/dist-packages (from keras) (2.10.0)\n",
            "Requirement already satisfied: pyyaml in /usr/local/lib/python3.6/dist-packages (from keras) (3.13)\n",
            "Requirement already satisfied: six in /usr/local/lib/python3.6/dist-packages (from h5py->keras) (1.15.0)\n"
          ],
          "name": "stdout"
        }
      ]
    },
    {
      "cell_type": "code",
      "metadata": {
        "id": "HTqXDEEWc9Hl"
      },
      "source": [
        "import pandas as pd\n",
        "import numpy as np"
      ],
      "execution_count": 2,
      "outputs": []
    },
    {
      "cell_type": "markdown",
      "metadata": {
        "id": "xehNSauEdueh"
      },
      "source": [
        "Importação de Banco de dados"
      ]
    },
    {
      "cell_type": "code",
      "metadata": {
        "id": "uueSwgrxdf2Z"
      },
      "source": [
        "base = pd.read_csv('credit_data.csv')\n",
        "base.loc[base.age < 0, 'age'] = 40.92\n",
        "               \n",
        "previsores = base.iloc[:, 1:4].values\n",
        "classe = base.iloc[:, 4].values"
      ],
      "execution_count": 3,
      "outputs": []
    },
    {
      "cell_type": "markdown",
      "metadata": {
        "id": "Qfegwg_EdzbL"
      },
      "source": [
        "Tratando valores faltantes"
      ]
    },
    {
      "cell_type": "code",
      "metadata": {
        "id": "dirfZKGtdjaq"
      },
      "source": [
        "from sklearn.impute import SimpleImputer\n",
        "imputer = SimpleImputer(missing_values = np.nan, strategy = 'mean')\n",
        "imputer = imputer.fit(previsores[:, 1:4])\n",
        "previsores[:, 1:4] = imputer.transform(previsores[:, 1:4])"
      ],
      "execution_count": 4,
      "outputs": []
    },
    {
      "cell_type": "markdown",
      "metadata": {
        "id": "R2hTsgfAd3rx"
      },
      "source": [
        "Padronizando os valores"
      ]
    },
    {
      "cell_type": "code",
      "metadata": {
        "id": "i6WQBzXPdlYC"
      },
      "source": [
        "from sklearn.preprocessing import StandardScaler\n",
        "scaler = StandardScaler()\n",
        "previsores = scaler.fit_transform(previsores)"
      ],
      "execution_count": 5,
      "outputs": []
    },
    {
      "cell_type": "markdown",
      "metadata": {
        "id": "n0fuikdHeHNX"
      },
      "source": [
        "Teste do banco de dados"
      ]
    },
    {
      "cell_type": "code",
      "metadata": {
        "id": "Wfv1_VJFdn8S"
      },
      "source": [
        "from sklearn.model_selection import train_test_split\n",
        "previsores_treinamento, previsores_teste, classe_treinamento, classe_teste = train_test_split(previsores, classe, test_size=0.25, random_state=0)"
      ],
      "execution_count": 6,
      "outputs": []
    },
    {
      "cell_type": "markdown",
      "metadata": {
        "id": "0ExmLlAuO8y3"
      },
      "source": [
        "Treinamento Tensor Flow"
      ]
    },
    {
      "cell_type": "code",
      "metadata": {
        "id": "UAp_G34xdqGC",
        "colab": {
          "base_uri": "https://localhost:8080/"
        },
        "outputId": "754c230e-de27-4077-f13b-74db50daccc0"
      },
      "source": [
        "import keras\n",
        "from keras.models import Sequential\n",
        "from keras.layers import Dense\n",
        "\n",
        "classificador = Sequential()\n",
        "classificador.add(Dense(units=2, activation='relu', input_dim=3))\n",
        "classificador.add(Dense(units=2, activation='relu'))\n",
        "classificador.add(Dense(units=1, activation='sigmoid'))\n",
        "classificador.compile(optimizer='adam', loss='binary_crossentropy', metrics=['accuracy'])\n",
        "\n",
        "classificador.fit(previsores_treinamento, classe_treinamento, batch_size=10, epochs=100)"
      ],
      "execution_count": 7,
      "outputs": [
        {
          "output_type": "stream",
          "text": [
            "Epoch 1/100\n",
            "150/150 [==============================] - 1s 918us/step - loss: 0.5799 - accuracy: 0.8605\n",
            "Epoch 2/100\n",
            "150/150 [==============================] - 0s 902us/step - loss: 0.4610 - accuracy: 0.8430\n",
            "Epoch 3/100\n",
            "150/150 [==============================] - 0s 1ms/step - loss: 0.3602 - accuracy: 0.8610\n",
            "Epoch 4/100\n",
            "150/150 [==============================] - 0s 920us/step - loss: 0.3064 - accuracy: 0.8675\n",
            "Epoch 5/100\n",
            "150/150 [==============================] - 0s 954us/step - loss: 0.2500 - accuracy: 0.9219\n",
            "Epoch 6/100\n",
            "150/150 [==============================] - 0s 969us/step - loss: 0.2096 - accuracy: 0.9498\n",
            "Epoch 7/100\n",
            "150/150 [==============================] - 0s 961us/step - loss: 0.1756 - accuracy: 0.9646\n",
            "Epoch 8/100\n",
            "150/150 [==============================] - 0s 955us/step - loss: 0.1471 - accuracy: 0.9716\n",
            "Epoch 9/100\n",
            "150/150 [==============================] - 0s 944us/step - loss: 0.1416 - accuracy: 0.9610\n",
            "Epoch 10/100\n",
            "150/150 [==============================] - 0s 980us/step - loss: 0.1202 - accuracy: 0.9624\n",
            "Epoch 11/100\n",
            "150/150 [==============================] - 0s 930us/step - loss: 0.1265 - accuracy: 0.9578\n",
            "Epoch 12/100\n",
            "150/150 [==============================] - 0s 939us/step - loss: 0.1189 - accuracy: 0.9635\n",
            "Epoch 13/100\n",
            "150/150 [==============================] - 0s 998us/step - loss: 0.1017 - accuracy: 0.9682\n",
            "Epoch 14/100\n",
            "150/150 [==============================] - 0s 951us/step - loss: 0.1116 - accuracy: 0.9617\n",
            "Epoch 15/100\n",
            "150/150 [==============================] - 0s 1ms/step - loss: 0.1053 - accuracy: 0.9657\n",
            "Epoch 16/100\n",
            "150/150 [==============================] - 0s 961us/step - loss: 0.0894 - accuracy: 0.9709\n",
            "Epoch 17/100\n",
            "150/150 [==============================] - 0s 1ms/step - loss: 0.0953 - accuracy: 0.9672\n",
            "Epoch 18/100\n",
            "150/150 [==============================] - 0s 947us/step - loss: 0.0959 - accuracy: 0.9647\n",
            "Epoch 19/100\n",
            "150/150 [==============================] - 0s 1ms/step - loss: 0.1008 - accuracy: 0.9576\n",
            "Epoch 20/100\n",
            "150/150 [==============================] - 0s 987us/step - loss: 0.0897 - accuracy: 0.9635\n",
            "Epoch 21/100\n",
            "150/150 [==============================] - 0s 972us/step - loss: 0.0859 - accuracy: 0.9688\n",
            "Epoch 22/100\n",
            "150/150 [==============================] - 0s 951us/step - loss: 0.0908 - accuracy: 0.9642\n",
            "Epoch 23/100\n",
            "150/150 [==============================] - 0s 948us/step - loss: 0.0900 - accuracy: 0.9674\n",
            "Epoch 24/100\n",
            "150/150 [==============================] - 0s 946us/step - loss: 0.0850 - accuracy: 0.9710\n",
            "Epoch 25/100\n",
            "150/150 [==============================] - 0s 950us/step - loss: 0.0837 - accuracy: 0.9696\n",
            "Epoch 26/100\n",
            "150/150 [==============================] - 0s 946us/step - loss: 0.0807 - accuracy: 0.9675\n",
            "Epoch 27/100\n",
            "150/150 [==============================] - 0s 1ms/step - loss: 0.0765 - accuracy: 0.9699\n",
            "Epoch 28/100\n",
            "150/150 [==============================] - 0s 954us/step - loss: 0.0788 - accuracy: 0.9746\n",
            "Epoch 29/100\n",
            "150/150 [==============================] - 0s 932us/step - loss: 0.0828 - accuracy: 0.9651\n",
            "Epoch 30/100\n",
            "150/150 [==============================] - 0s 951us/step - loss: 0.0770 - accuracy: 0.9703\n",
            "Epoch 31/100\n",
            "150/150 [==============================] - 0s 894us/step - loss: 0.0774 - accuracy: 0.9669\n",
            "Epoch 32/100\n",
            "150/150 [==============================] - 0s 966us/step - loss: 0.0821 - accuracy: 0.9675\n",
            "Epoch 33/100\n",
            "150/150 [==============================] - 0s 987us/step - loss: 0.0674 - accuracy: 0.9750\n",
            "Epoch 34/100\n",
            "150/150 [==============================] - 0s 963us/step - loss: 0.0612 - accuracy: 0.9769\n",
            "Epoch 35/100\n",
            "150/150 [==============================] - 0s 910us/step - loss: 0.0695 - accuracy: 0.9755\n",
            "Epoch 36/100\n",
            "150/150 [==============================] - 0s 929us/step - loss: 0.0662 - accuracy: 0.9671\n",
            "Epoch 37/100\n",
            "150/150 [==============================] - 0s 987us/step - loss: 0.0668 - accuracy: 0.9723\n",
            "Epoch 38/100\n",
            "150/150 [==============================] - 0s 975us/step - loss: 0.0761 - accuracy: 0.9668\n",
            "Epoch 39/100\n",
            "150/150 [==============================] - 0s 919us/step - loss: 0.0556 - accuracy: 0.9821\n",
            "Epoch 40/100\n",
            "150/150 [==============================] - 0s 964us/step - loss: 0.0558 - accuracy: 0.9749\n",
            "Epoch 41/100\n",
            "150/150 [==============================] - 0s 959us/step - loss: 0.0635 - accuracy: 0.9760\n",
            "Epoch 42/100\n",
            "150/150 [==============================] - 0s 901us/step - loss: 0.0621 - accuracy: 0.9764\n",
            "Epoch 43/100\n",
            "150/150 [==============================] - 0s 945us/step - loss: 0.0589 - accuracy: 0.9778\n",
            "Epoch 44/100\n",
            "150/150 [==============================] - 0s 954us/step - loss: 0.0605 - accuracy: 0.9780\n",
            "Epoch 45/100\n",
            "150/150 [==============================] - 0s 1ms/step - loss: 0.0577 - accuracy: 0.9832\n",
            "Epoch 46/100\n",
            "150/150 [==============================] - 0s 999us/step - loss: 0.0523 - accuracy: 0.9800\n",
            "Epoch 47/100\n",
            "150/150 [==============================] - 0s 966us/step - loss: 0.0635 - accuracy: 0.9754\n",
            "Epoch 48/100\n",
            "150/150 [==============================] - 0s 989us/step - loss: 0.0545 - accuracy: 0.9821\n",
            "Epoch 49/100\n",
            "150/150 [==============================] - 0s 948us/step - loss: 0.0571 - accuracy: 0.9773\n",
            "Epoch 50/100\n",
            "150/150 [==============================] - 0s 925us/step - loss: 0.0437 - accuracy: 0.9875\n",
            "Epoch 51/100\n",
            "150/150 [==============================] - 0s 981us/step - loss: 0.0453 - accuracy: 0.9870\n",
            "Epoch 52/100\n",
            "150/150 [==============================] - 0s 952us/step - loss: 0.0516 - accuracy: 0.9812\n",
            "Epoch 53/100\n",
            "150/150 [==============================] - 0s 920us/step - loss: 0.0512 - accuracy: 0.9845\n",
            "Epoch 54/100\n",
            "150/150 [==============================] - 0s 990us/step - loss: 0.0518 - accuracy: 0.9825\n",
            "Epoch 55/100\n",
            "150/150 [==============================] - 0s 993us/step - loss: 0.0423 - accuracy: 0.9839\n",
            "Epoch 56/100\n",
            "150/150 [==============================] - 0s 1ms/step - loss: 0.0398 - accuracy: 0.9889\n",
            "Epoch 57/100\n",
            "150/150 [==============================] - 0s 928us/step - loss: 0.0473 - accuracy: 0.9855\n",
            "Epoch 58/100\n",
            "150/150 [==============================] - 0s 971us/step - loss: 0.0457 - accuracy: 0.9833\n",
            "Epoch 59/100\n",
            "150/150 [==============================] - 0s 1ms/step - loss: 0.0459 - accuracy: 0.9887\n",
            "Epoch 60/100\n",
            "150/150 [==============================] - 0s 955us/step - loss: 0.0506 - accuracy: 0.9788\n",
            "Epoch 61/100\n",
            "150/150 [==============================] - 0s 985us/step - loss: 0.0440 - accuracy: 0.9834\n",
            "Epoch 62/100\n",
            "150/150 [==============================] - 0s 949us/step - loss: 0.0496 - accuracy: 0.9815\n",
            "Epoch 63/100\n",
            "150/150 [==============================] - 0s 968us/step - loss: 0.0385 - accuracy: 0.9886\n",
            "Epoch 64/100\n",
            "150/150 [==============================] - 0s 944us/step - loss: 0.0420 - accuracy: 0.9837\n",
            "Epoch 65/100\n",
            "150/150 [==============================] - 0s 949us/step - loss: 0.0386 - accuracy: 0.9889\n",
            "Epoch 66/100\n",
            "150/150 [==============================] - 0s 958us/step - loss: 0.0398 - accuracy: 0.9935\n",
            "Epoch 67/100\n",
            "150/150 [==============================] - 0s 993us/step - loss: 0.0361 - accuracy: 0.9933\n",
            "Epoch 68/100\n",
            "150/150 [==============================] - 0s 942us/step - loss: 0.0414 - accuracy: 0.9900\n",
            "Epoch 69/100\n",
            "150/150 [==============================] - 0s 1ms/step - loss: 0.0332 - accuracy: 0.9914\n",
            "Epoch 70/100\n",
            "150/150 [==============================] - 0s 940us/step - loss: 0.0403 - accuracy: 0.9846\n",
            "Epoch 71/100\n",
            "150/150 [==============================] - 0s 945us/step - loss: 0.0322 - accuracy: 0.9943\n",
            "Epoch 72/100\n",
            "150/150 [==============================] - 0s 1ms/step - loss: 0.0375 - accuracy: 0.9890\n",
            "Epoch 73/100\n",
            "150/150 [==============================] - 0s 950us/step - loss: 0.0349 - accuracy: 0.9893\n",
            "Epoch 74/100\n",
            "150/150 [==============================] - 0s 1ms/step - loss: 0.0345 - accuracy: 0.9907\n",
            "Epoch 75/100\n",
            "150/150 [==============================] - 0s 987us/step - loss: 0.0310 - accuracy: 0.9943\n",
            "Epoch 76/100\n",
            "150/150 [==============================] - 0s 965us/step - loss: 0.0307 - accuracy: 0.9949\n",
            "Epoch 77/100\n",
            "150/150 [==============================] - 0s 990us/step - loss: 0.0301 - accuracy: 0.9939\n",
            "Epoch 78/100\n",
            "150/150 [==============================] - 0s 937us/step - loss: 0.0354 - accuracy: 0.9896\n",
            "Epoch 79/100\n",
            "150/150 [==============================] - 0s 1ms/step - loss: 0.0333 - accuracy: 0.9916\n",
            "Epoch 80/100\n",
            "150/150 [==============================] - 0s 1ms/step - loss: 0.0326 - accuracy: 0.9923\n",
            "Epoch 81/100\n",
            "150/150 [==============================] - 0s 968us/step - loss: 0.0286 - accuracy: 0.9929\n",
            "Epoch 82/100\n",
            "150/150 [==============================] - 0s 947us/step - loss: 0.0311 - accuracy: 0.9905\n",
            "Epoch 83/100\n",
            "150/150 [==============================] - 0s 1ms/step - loss: 0.0278 - accuracy: 0.9916\n",
            "Epoch 84/100\n",
            "150/150 [==============================] - 0s 938us/step - loss: 0.0283 - accuracy: 0.9962\n",
            "Epoch 85/100\n",
            "150/150 [==============================] - 0s 999us/step - loss: 0.0285 - accuracy: 0.9930\n",
            "Epoch 86/100\n",
            "150/150 [==============================] - 0s 976us/step - loss: 0.0292 - accuracy: 0.9902\n",
            "Epoch 87/100\n",
            "150/150 [==============================] - 0s 1ms/step - loss: 0.0223 - accuracy: 0.9969\n",
            "Epoch 88/100\n",
            "150/150 [==============================] - 0s 932us/step - loss: 0.0260 - accuracy: 0.9965\n",
            "Epoch 89/100\n",
            "150/150 [==============================] - 0s 1ms/step - loss: 0.0265 - accuracy: 0.9949\n",
            "Epoch 90/100\n",
            "150/150 [==============================] - 0s 957us/step - loss: 0.0262 - accuracy: 0.9936\n",
            "Epoch 91/100\n",
            "150/150 [==============================] - 0s 911us/step - loss: 0.0258 - accuracy: 0.9926\n",
            "Epoch 92/100\n",
            "150/150 [==============================] - 0s 1ms/step - loss: 0.0222 - accuracy: 0.9944\n",
            "Epoch 93/100\n",
            "150/150 [==============================] - 0s 985us/step - loss: 0.0244 - accuracy: 0.9955\n",
            "Epoch 94/100\n",
            "150/150 [==============================] - 0s 1ms/step - loss: 0.0225 - accuracy: 0.9950\n",
            "Epoch 95/100\n",
            "150/150 [==============================] - 0s 965us/step - loss: 0.0225 - accuracy: 0.9943\n",
            "Epoch 96/100\n",
            "150/150 [==============================] - 0s 1ms/step - loss: 0.0232 - accuracy: 0.9972\n",
            "Epoch 97/100\n",
            "150/150 [==============================] - 0s 1ms/step - loss: 0.0238 - accuracy: 0.9961\n",
            "Epoch 98/100\n",
            "150/150 [==============================] - 0s 997us/step - loss: 0.0241 - accuracy: 0.9965\n",
            "Epoch 99/100\n",
            "150/150 [==============================] - 0s 917us/step - loss: 0.0205 - accuracy: 0.9938\n",
            "Epoch 100/100\n",
            "150/150 [==============================] - 0s 1ms/step - loss: 0.0224 - accuracy: 0.9941\n"
          ],
          "name": "stdout"
        },
        {
          "output_type": "execute_result",
          "data": {
            "text/plain": [
              "<tensorflow.python.keras.callbacks.History at 0x7f9f72f89550>"
            ]
          },
          "metadata": {
            "tags": []
          },
          "execution_count": 7
        }
      ]
    },
    {
      "cell_type": "code",
      "metadata": {
        "id": "FB9D8pquPQJB"
      },
      "source": [
        "previsoes = classificador.predict(previsores_teste)"
      ],
      "execution_count": 8,
      "outputs": []
    },
    {
      "cell_type": "code",
      "metadata": {
        "id": "8SLoCuigPuDo"
      },
      "source": [
        "previsoes = (previsoes > 0.5)"
      ],
      "execution_count": 9,
      "outputs": []
    },
    {
      "cell_type": "markdown",
      "metadata": {
        "id": "UO67DHGNQxcp"
      },
      "source": [
        "Resultado da previsão"
      ]
    },
    {
      "cell_type": "code",
      "metadata": {
        "colab": {
          "base_uri": "https://localhost:8080/"
        },
        "id": "o7z0-RGIQZbQ",
        "outputId": "62ee0266-7a46-4263-b47c-cee4c9f79248"
      },
      "source": [
        "from sklearn.metrics import confusion_matrix, accuracy_score\n",
        "precisao = accuracy_score(classe_teste, previsoes)\n",
        "print(precisao)"
      ],
      "execution_count": 10,
      "outputs": [
        {
          "output_type": "stream",
          "text": [
            "0.996\n"
          ],
          "name": "stdout"
        }
      ]
    },
    {
      "cell_type": "code",
      "metadata": {
        "id": "_2aBOrKXRRpC"
      },
      "source": [
        "matriz = confusion_matrix(classe_teste, previsoes)"
      ],
      "execution_count": 11,
      "outputs": []
    },
    {
      "cell_type": "code",
      "metadata": {
        "id": "0ojgtGCHRibB",
        "colab": {
          "base_uri": "https://localhost:8080/"
        },
        "outputId": "6a6d40de-4363-41c4-d891-2336f643e029"
      },
      "source": [
        "matriz"
      ],
      "execution_count": 12,
      "outputs": [
        {
          "output_type": "execute_result",
          "data": {
            "text/plain": [
              "array([[436,   0],\n",
              "       [  2,  62]])"
            ]
          },
          "metadata": {
            "tags": []
          },
          "execution_count": 12
        }
      ]
    }
  ]
}