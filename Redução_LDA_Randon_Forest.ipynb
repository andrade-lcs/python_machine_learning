{
  "nbformat": 4,
  "nbformat_minor": 0,
  "metadata": {
    "colab": {
      "name": "Redução_LDA_Randon_Forest.ipynb",
      "provenance": [],
      "authorship_tag": "ABX9TyMe5m8U/Pa41sypNXoua/pd"
    },
    "kernelspec": {
      "name": "python3",
      "display_name": "Python 3"
    }
  },
  "cells": [
    {
      "cell_type": "code",
      "metadata": {
        "id": "z20poExQzaeJ"
      },
      "source": [
        "import pandas as pd\n",
        "\n",
        "base = pd.read_csv('census.csv')"
      ],
      "execution_count": 1,
      "outputs": []
    },
    {
      "cell_type": "markdown",
      "metadata": {
        "id": "REAkvnfQUMuV"
      },
      "source": [
        "Transfomação de variáveis categóricas"
      ]
    },
    {
      "cell_type": "code",
      "metadata": {
        "id": "nv230P_06ATS"
      },
      "source": [
        "previsores = base.iloc[:, 0:14].values\n",
        "classe = base.iloc[:, 14].values"
      ],
      "execution_count": 2,
      "outputs": []
    },
    {
      "cell_type": "code",
      "metadata": {
        "id": "oMd3j3mq76P5"
      },
      "source": [
        "from sklearn.preprocessing import LabelEncoder  "
      ],
      "execution_count": 3,
      "outputs": []
    },
    {
      "cell_type": "code",
      "metadata": {
        "id": "3w3fPejK8S61"
      },
      "source": [
        "labelencoder_previsores = LabelEncoder()\n",
        "previsores[:, 1] = labelencoder_previsores.fit_transform(previsores[:,1])\n",
        "previsores[:, 3] = labelencoder_previsores.fit_transform(previsores[:,3])\n",
        "previsores[:, 5] = labelencoder_previsores.fit_transform(previsores[:,5])\n",
        "previsores[:, 6] = labelencoder_previsores.fit_transform(previsores[:,6])\n",
        "previsores[:, 7] = labelencoder_previsores.fit_transform(previsores[:,7])\n",
        "previsores[:, 8] = labelencoder_previsores.fit_transform(previsores[:,8])\n",
        "previsores[:, 9] = labelencoder_previsores.fit_transform(previsores[:,9])\n",
        "previsores[:, 13] = labelencoder_previsores.fit_transform(previsores[:,13])"
      ],
      "execution_count": 4,
      "outputs": []
    },
    {
      "cell_type": "markdown",
      "metadata": {
        "id": "9TJCZzvwUGZQ"
      },
      "source": [
        "Escalonamento dos valoers numéricos"
      ]
    },
    {
      "cell_type": "code",
      "metadata": {
        "id": "n3XPVUp6TwDX"
      },
      "source": [
        "from sklearn.preprocessing import StandardScaler\n",
        "scaler = StandardScaler()\n",
        "previsores = scaler.fit_transform(previsores)"
      ],
      "execution_count": 5,
      "outputs": []
    },
    {
      "cell_type": "code",
      "metadata": {
        "id": "C130M6zFUxBf"
      },
      "source": [
        "from sklearn.model_selection import train_test_split\n",
        "previsores_treinamento, previsores_teste, classe_treinamento, classe_teste =  train_test_split(previsores, classe, test_size=0.15, random_state=0)"
      ],
      "execution_count": 10,
      "outputs": []
    },
    {
      "cell_type": "markdown",
      "metadata": {
        "id": "GZy6HIS9UVQJ"
      },
      "source": [
        "Redução atrávez do LDA\n",
        "\n"
      ]
    },
    {
      "cell_type": "code",
      "metadata": {
        "id": "0yP5TedNEblg",
        "colab": {
          "base_uri": "https://localhost:8080/"
        },
        "outputId": "87e6f408-852e-449c-a354-946969d68e8d"
      },
      "source": [
        "from sklearn.discriminant_analysis import LinearDiscriminantAnalysis\n",
        "lda = LinearDiscriminantAnalysis(n_components=6)\n",
        "previsores_treinamento = lda.fit_transform(previsores_treinamento, classe_treinamento)\n",
        "previsores_teste = lda.transform(previsores_teste)"
      ],
      "execution_count": 11,
      "outputs": [
        {
          "output_type": "stream",
          "text": [
            "/usr/local/lib/python3.7/dist-packages/sklearn/discriminant_analysis.py:463: ChangedBehaviorWarning: n_components cannot be larger than min(n_features, n_classes - 1). Using min(n_features, n_classes - 1) = min(14, 2 - 1) = 1 components.\n",
            "  ChangedBehaviorWarning)\n",
            "/usr/local/lib/python3.7/dist-packages/sklearn/discriminant_analysis.py:469: FutureWarning: In version 0.23, setting n_components > min(n_features, n_classes - 1) will raise a ValueError. You should set n_components to None (default), or a value smaller or equal to min(n_features, n_classes - 1).\n",
            "  warnings.warn(future_msg, FutureWarning)\n"
          ],
          "name": "stderr"
        }
      ]
    },
    {
      "cell_type": "code",
      "metadata": {
        "colab": {
          "base_uri": "https://localhost:8080/"
        },
        "id": "INcHnXMHNdbL",
        "outputId": "4cd739a0-cc7a-4a52-d36b-98cd8354ba7f"
      },
      "source": [
        "previsores_treinamento"
      ],
      "execution_count": 12,
      "outputs": [
        {
          "output_type": "execute_result",
          "data": {
            "text/plain": [
              "array([[-0.30226006],\n",
              "       [ 0.64945145],\n",
              "       [ 1.57912192],\n",
              "       ...,\n",
              "       [-1.37887999],\n",
              "       [ 2.44698101],\n",
              "       [-0.19212323]])"
            ]
          },
          "metadata": {
            "tags": []
          },
          "execution_count": 12
        }
      ]
    },
    {
      "cell_type": "code",
      "metadata": {
        "colab": {
          "base_uri": "https://localhost:8080/"
        },
        "id": "3tsJuzRmNf4S",
        "outputId": "ce71d4dd-e43c-422e-8192-5fe3d1331045"
      },
      "source": [
        "previsores_teste"
      ],
      "execution_count": 13,
      "outputs": [
        {
          "output_type": "execute_result",
          "data": {
            "text/plain": [
              "array([[-0.73054783],\n",
              "       [-0.07265437],\n",
              "       [ 0.60947027],\n",
              "       ...,\n",
              "       [-1.71469259],\n",
              "       [ 0.43978213],\n",
              "       [ 1.11869646]])"
            ]
          },
          "metadata": {
            "tags": []
          },
          "execution_count": 13
        }
      ]
    },
    {
      "cell_type": "code",
      "metadata": {
        "id": "4SiTJqMKniD1",
        "colab": {
          "base_uri": "https://localhost:8080/"
        },
        "outputId": "98625e67-5212-4a8f-cbd9-bc40842f1183"
      },
      "source": [
        "from sklearn.ensemble import RandomForestClassifier\n",
        "classificador = RandomForestClassifier(n_estimators=40, criterion='entropy', random_state=0)\n",
        "classificador.fit(previsores_treinamento, classe_treinamento)"
      ],
      "execution_count": 15,
      "outputs": [
        {
          "output_type": "execute_result",
          "data": {
            "text/plain": [
              "RandomForestClassifier(bootstrap=True, ccp_alpha=0.0, class_weight=None,\n",
              "                       criterion='entropy', max_depth=None, max_features='auto',\n",
              "                       max_leaf_nodes=None, max_samples=None,\n",
              "                       min_impurity_decrease=0.0, min_impurity_split=None,\n",
              "                       min_samples_leaf=1, min_samples_split=2,\n",
              "                       min_weight_fraction_leaf=0.0, n_estimators=40,\n",
              "                       n_jobs=None, oob_score=False, random_state=0, verbose=0,\n",
              "                       warm_start=False)"
            ]
          },
          "metadata": {
            "tags": []
          },
          "execution_count": 15
        }
      ]
    },
    {
      "cell_type": "markdown",
      "metadata": {
        "id": "nK90iXOMUf2q"
      },
      "source": [
        "Resultado da previsão"
      ]
    },
    {
      "cell_type": "code",
      "metadata": {
        "id": "g3JFDrnGUgkq"
      },
      "source": [
        "previsoes = classificador.predict(previsores_teste)"
      ],
      "execution_count": 16,
      "outputs": []
    },
    {
      "cell_type": "code",
      "metadata": {
        "colab": {
          "base_uri": "https://localhost:8080/"
        },
        "id": "vG9frNDvUkSr",
        "outputId": "78ba23b7-3fc8-4aa9-f213-3fbd5fde0051"
      },
      "source": [
        "from sklearn.metrics import confusion_matrix, accuracy_score\n",
        "precisao = accuracy_score(classe_teste, previsoes)\n",
        "print(precisao)"
      ],
      "execution_count": 17,
      "outputs": [
        {
          "output_type": "stream",
          "text": [
            "0.7334698055271238\n"
          ],
          "name": "stdout"
        }
      ]
    },
    {
      "cell_type": "code",
      "metadata": {
        "colab": {
          "base_uri": "https://localhost:8080/"
        },
        "id": "bitwVS3DUpGT",
        "outputId": "244a8866-38b9-455f-c21e-af6c0954a8ec"
      },
      "source": [
        "matriz = confusion_matrix(classe_teste, previsoes)\n",
        "print(matriz)"
      ],
      "execution_count": 18,
      "outputs": [
        {
          "output_type": "stream",
          "text": [
            "[[3044  649]\n",
            " [ 653  539]]\n"
          ],
          "name": "stdout"
        }
      ]
    }
  ]
}