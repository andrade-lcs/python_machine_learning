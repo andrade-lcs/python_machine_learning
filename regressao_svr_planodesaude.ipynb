{
  "nbformat": 4,
  "nbformat_minor": 0,
  "metadata": {
    "colab": {
      "name": "regressao_svr_planodesaude.ipynb",
      "provenance": [],
      "authorship_tag": "ABX9TyOSy5HJlWTuZJ8KJQ6Ormrp"
    },
    "kernelspec": {
      "name": "python3",
      "display_name": "Python 3"
    }
  },
  "cells": [
    {
      "cell_type": "markdown",
      "metadata": {
        "id": "jgU_-IE3LaC9"
      },
      "source": [
        "Montagem de dataframe"
      ]
    },
    {
      "cell_type": "code",
      "metadata": {
        "id": "SCyXdUW8HnI_"
      },
      "source": [
        "import pandas as pd"
      ],
      "execution_count": 1,
      "outputs": []
    },
    {
      "cell_type": "code",
      "metadata": {
        "id": "Llc_K1DJJzR9"
      },
      "source": [
        "base = pd.read_csv('plano_saude2.csv')"
      ],
      "execution_count": 2,
      "outputs": []
    },
    {
      "cell_type": "code",
      "metadata": {
        "id": "k1Eg8dr7J9a8"
      },
      "source": [
        "x = base.iloc[:, 0:1].values\n",
        "y = base.iloc[:, 1:2].values"
      ],
      "execution_count": 3,
      "outputs": []
    },
    {
      "cell_type": "code",
      "metadata": {
        "id": "x014dkJ-EsGX"
      },
      "source": [
        "#pré-processamento dos dados\r\n",
        "from sklearn.preprocessing import StandardScaler\r\n",
        "scaler_x = StandardScaler()\r\n",
        "x = scaler_x.fit_transform(x)\r\n",
        "scaler_y = StandardScaler()\r\n",
        "y = scaler_y.fit_transform(y)"
      ],
      "execution_count": 4,
      "outputs": []
    },
    {
      "cell_type": "markdown",
      "metadata": {
        "id": "NfJHAuuYLYCF"
      },
      "source": [
        "Regressão kernel linear"
      ]
    },
    {
      "cell_type": "code",
      "metadata": {
        "colab": {
          "base_uri": "https://localhost:8080/"
        },
        "id": "8LtEL3QTKS68",
        "outputId": "6a8e752d-37f0-4b75-d8ff-24f9a858c9de"
      },
      "source": [
        "from sklearn.svm import SVR\n",
        "regressor_linear = SVR(kernel='linear')\n",
        "regressor_linear.fit(x, y)"
      ],
      "execution_count": 5,
      "outputs": [
        {
          "output_type": "stream",
          "text": [
            "/usr/local/lib/python3.7/dist-packages/sklearn/utils/validation.py:760: DataConversionWarning: A column-vector y was passed when a 1d array was expected. Please change the shape of y to (n_samples, ), for example using ravel().\n",
            "  y = column_or_1d(y, warn=True)\n"
          ],
          "name": "stderr"
        },
        {
          "output_type": "execute_result",
          "data": {
            "text/plain": [
              "SVR(C=1.0, cache_size=200, coef0=0.0, degree=3, epsilon=0.1, gamma='scale',\n",
              "    kernel='linear', max_iter=-1, shrinking=True, tol=0.001, verbose=False)"
            ]
          },
          "metadata": {
            "tags": []
          },
          "execution_count": 5
        }
      ]
    },
    {
      "cell_type": "code",
      "metadata": {
        "colab": {
          "base_uri": "https://localhost:8080/"
        },
        "id": "RNGKORZJLPst",
        "outputId": "72776ca9-babc-4c8b-a83c-22be2a27ef82"
      },
      "source": [
        "regressor_linear.score(x, y)"
      ],
      "execution_count": 6,
      "outputs": [
        {
          "output_type": "execute_result",
          "data": {
            "text/plain": [
              "0.458439513430054"
            ]
          },
          "metadata": {
            "tags": []
          },
          "execution_count": 6
        }
      ]
    },
    {
      "cell_type": "code",
      "metadata": {
        "id": "snwWbvqIbIu0"
      },
      "source": [
        "import matplotlib.pyplot as plt\n",
        "import numpy as np"
      ],
      "execution_count": 7,
      "outputs": []
    },
    {
      "cell_type": "code",
      "metadata": {
        "colab": {
          "base_uri": "https://localhost:8080/",
          "height": 312
        },
        "id": "712XRjoLRe4l",
        "outputId": "219dd80a-4bb1-4579-e0ea-db0aac2c9f57"
      },
      "source": [
        "plt.scatter(x, y)\n",
        "plt.plot(x, regressor_linear.predict(x), color='red')\n",
        "plt.title('Regressão random forest')\n",
        "plt.xlabel('Idade')\n",
        "plt.ylabel('Custo')"
      ],
      "execution_count": 8,
      "outputs": [
        {
          "output_type": "execute_result",
          "data": {
            "text/plain": [
              "Text(0, 0.5, 'Custo')"
            ]
          },
          "metadata": {
            "tags": []
          },
          "execution_count": 8
        },
        {
          "output_type": "display_data",
          "data": {
            "image/png": "[encoded data removed]",
            "text/plain": [
              "<Figure size 432x288 with 1 Axes>"
            ]
          },
          "metadata": {
            "tags": [],
            "needs_background": "light"
          }
        }
      ]
    },
    {
      "cell_type": "markdown",
      "metadata": {
        "id": "t6i5ssvnDM5K"
      },
      "source": [
        "Regressão kernel polinomial"
      ]
    },
    {
      "cell_type": "code",
      "metadata": {
        "id": "jxGxce4zSTM3",
        "colab": {
          "base_uri": "https://localhost:8080/"
        },
        "outputId": "91e7792c-f0b9-4f3c-b01d-869889ff1f09"
      },
      "source": [
        "regressor_poly = SVR(kernel='poly', degree=3)\r\n",
        "regressor_poly.fit(x, y)"
      ],
      "execution_count": 9,
      "outputs": [
        {
          "output_type": "stream",
          "text": [
            "/usr/local/lib/python3.7/dist-packages/sklearn/utils/validation.py:760: DataConversionWarning: A column-vector y was passed when a 1d array was expected. Please change the shape of y to (n_samples, ), for example using ravel().\n",
            "  y = column_or_1d(y, warn=True)\n"
          ],
          "name": "stderr"
        },
        {
          "output_type": "execute_result",
          "data": {
            "text/plain": [
              "SVR(C=1.0, cache_size=200, coef0=0.0, degree=3, epsilon=0.1, gamma='scale',\n",
              "    kernel='poly', max_iter=-1, shrinking=True, tol=0.001, verbose=False)"
            ]
          },
          "metadata": {
            "tags": []
          },
          "execution_count": 9
        }
      ]
    },
    {
      "cell_type": "code",
      "metadata": {
        "colab": {
          "base_uri": "https://localhost:8080/"
        },
        "id": "yvxJ0JfpDTSc",
        "outputId": "8bfa092b-6714-455b-9375-241a055abcd0"
      },
      "source": [
        "regressor_poly.score(x, y)"
      ],
      "execution_count": 10,
      "outputs": [
        {
          "output_type": "execute_result",
          "data": {
            "text/plain": [
              "0.6452017680102275"
            ]
          },
          "metadata": {
            "tags": []
          },
          "execution_count": 10
        }
      ]
    },
    {
      "cell_type": "code",
      "metadata": {
        "colab": {
          "base_uri": "https://localhost:8080/",
          "height": 312
        },
        "id": "6IedDbDsDX2I",
        "outputId": "134e7914-2d9d-410e-d975-62224459922b"
      },
      "source": [
        "plt.scatter(x, y)\r\n",
        "plt.plot(x, regressor_poly.predict(x), color='red')\r\n",
        "plt.title('Regressão random forest')\r\n",
        "plt.xlabel('Idade')\r\n",
        "plt.ylabel('Custo')"
      ],
      "execution_count": 11,
      "outputs": [
        {
          "output_type": "execute_result",
          "data": {
            "text/plain": [
              "Text(0, 0.5, 'Custo')"
            ]
          },
          "metadata": {
            "tags": []
          },
          "execution_count": 11
        },
        {
          "output_type": "display_data",
          "data": {
            "image/png": "[encoded data removed]",
            "text/plain": [
              "<Figure size 432x288 with 1 Axes>"
            ]
          },
          "metadata": {
            "tags": [],
            "needs_background": "light"
          }
        }
      ]
    },
    {
      "cell_type": "markdown",
      "metadata": {
        "id": "K2VdDjZqEAHk"
      },
      "source": [
        "Regressão kernel RBF"
      ]
    },
    {
      "cell_type": "code",
      "metadata": {
        "colab": {
          "base_uri": "https://localhost:8080/"
        },
        "id": "E6RPconADkOt",
        "outputId": "7de4a068-7d7a-45d2-d072-843daf251ca6"
      },
      "source": [
        "regressor_rbf = SVR(kernel='rbf')\r\n",
        "regressor_rbf.fit(x, y)"
      ],
      "execution_count": 12,
      "outputs": [
        {
          "output_type": "stream",
          "text": [
            "/usr/local/lib/python3.7/dist-packages/sklearn/utils/validation.py:760: DataConversionWarning: A column-vector y was passed when a 1d array was expected. Please change the shape of y to (n_samples, ), for example using ravel().\n",
            "  y = column_or_1d(y, warn=True)\n"
          ],
          "name": "stderr"
        },
        {
          "output_type": "execute_result",
          "data": {
            "text/plain": [
              "SVR(C=1.0, cache_size=200, coef0=0.0, degree=3, epsilon=0.1, gamma='scale',\n",
              "    kernel='rbf', max_iter=-1, shrinking=True, tol=0.001, verbose=False)"
            ]
          },
          "metadata": {
            "tags": []
          },
          "execution_count": 12
        }
      ]
    },
    {
      "cell_type": "code",
      "metadata": {
        "colab": {
          "base_uri": "https://localhost:8080/"
        },
        "id": "_57OzXIIEJYi",
        "outputId": "05df8524-0b12-4e8e-c2f7-538c53dd9b47"
      },
      "source": [
        "regressor_rbf.score(x, y)"
      ],
      "execution_count": 13,
      "outputs": [
        {
          "output_type": "execute_result",
          "data": {
            "text/plain": [
              "0.7561578176049305"
            ]
          },
          "metadata": {
            "tags": []
          },
          "execution_count": 13
        }
      ]
    },
    {
      "cell_type": "code",
      "metadata": {
        "colab": {
          "base_uri": "https://localhost:8080/",
          "height": 312
        },
        "id": "mrTjh64FEJH4",
        "outputId": "d4132cfd-2f2c-4b17-eddc-3cdde7b8e8f5"
      },
      "source": [
        "plt.scatter(x, y)\r\n",
        "plt.plot(x, regressor_rbf.predict(y), color='red')\r\n",
        "plt.title('Regressão random forest')\r\n",
        "plt.xlabel('Idade')\r\n",
        "plt.ylabel('Custo')"
      ],
      "execution_count": 14,
      "outputs": [
        {
          "output_type": "execute_result",
          "data": {
            "text/plain": [
              "Text(0, 0.5, 'Custo')"
            ]
          },
          "metadata": {
            "tags": []
          },
          "execution_count": 14
        },
        {
          "output_type": "display_data",
          "data": {
            "image/png": "[encoded data removed]",
            "text/plain": [
              "<Figure size 432x288 with 1 Axes>"
            ]
          },
          "metadata": {
            "tags": [],
            "needs_background": "light"
          }
        }
      ]
    },
    {
      "cell_type": "code",
      "metadata": {
        "colab": {
          "base_uri": "https://localhost:8080/"
        },
        "id": "x4IyTnjMEgKo",
        "outputId": "5e926728-b417-49d6-bb02-0eb2b94e8ca7"
      },
      "source": [
        "previsao_1 = scaler_y.inverse_transform(regressor_linear.predict(scaler_x.transform(np.array(40).reshape(1, -1))))\r\n",
        "previsao_1"
      ],
      "execution_count": 15,
      "outputs": [
        {
          "output_type": "execute_result",
          "data": {
            "text/plain": [
              "array([1734.83442497])"
            ]
          },
          "metadata": {
            "tags": []
          },
          "execution_count": 15
        }
      ]
    },
    {
      "cell_type": "code",
      "metadata": {
        "colab": {
          "base_uri": "https://localhost:8080/"
        },
        "id": "8I812Y8sKhQD",
        "outputId": "477d2eab-208c-4c1b-c2db-9d7aadc26f3f"
      },
      "source": [
        "previsao_2 = scaler_y.inverse_transform(regressor_poly.predict(scaler_x.transform(np.array(40).reshape(1, -1))))\r\n",
        "previsao_2"
      ],
      "execution_count": 16,
      "outputs": [
        {
          "output_type": "execute_result",
          "data": {
            "text/plain": [
              "array([1957.34429238])"
            ]
          },
          "metadata": {
            "tags": []
          },
          "execution_count": 16
        }
      ]
    },
    {
      "cell_type": "code",
      "metadata": {
        "colab": {
          "base_uri": "https://localhost:8080/"
        },
        "id": "8CYLt4bRNoC9",
        "outputId": "e0d9d57d-6e75-4246-ba7b-78f1fd79db02"
      },
      "source": [
        "previsao_3 = scaler_y.inverse_transform(regressor_rbf.predict(scaler_x.transform(np.array(40).reshape(1, -1))))\r\n",
        "previsao_3"
      ],
      "execution_count": 17,
      "outputs": [
        {
          "output_type": "execute_result",
          "data": {
            "text/plain": [
              "array([1333.85650748])"
            ]
          },
          "metadata": {
            "tags": []
          },
          "execution_count": 17
        }
      ]
    }
  ]
}