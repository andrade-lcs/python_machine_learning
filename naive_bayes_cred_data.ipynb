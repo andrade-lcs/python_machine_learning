{
  "nbformat": 4,
  "nbformat_minor": 0,
  "metadata": {
    "colab": {
      "name": "naive_bayes_cred_data.ipynb",
      "provenance": [],
      "authorship_tag": "ABX9TyNUS/rDbIe2fjf90YYGw4lr"
    },
    "kernelspec": {
      "name": "python3",
      "display_name": "Python 3"
    }
  },
  "cells": [
    {
      "cell_type": "code",
      "metadata": {
        "id": "HTqXDEEWc9Hl"
      },
      "source": [
        "import pandas as pd\n",
        "import numpy as np"
      ],
      "execution_count": 1,
      "outputs": []
    },
    {
      "cell_type": "markdown",
      "metadata": {
        "id": "xehNSauEdueh"
      },
      "source": [
        "Importação de Banco de dados"
      ]
    },
    {
      "cell_type": "code",
      "metadata": {
        "id": "uueSwgrxdf2Z"
      },
      "source": [
        "base = pd.read_csv('credit_data.csv')\n",
        "base.loc[base.age < 0, 'age'] = 40.92\n",
        "               \n",
        "previsores = base.iloc[:, 1:4].values\n",
        "classe = base.iloc[:, 4].values"
      ],
      "execution_count": 2,
      "outputs": []
    },
    {
      "cell_type": "markdown",
      "metadata": {
        "id": "Qfegwg_EdzbL"
      },
      "source": [
        "Tratando valores faltantes"
      ]
    },
    {
      "cell_type": "code",
      "metadata": {
        "id": "dirfZKGtdjaq"
      },
      "source": [
        "from sklearn.impute import SimpleImputer\n",
        "imputer = SimpleImputer(missing_values = np.nan, strategy = 'mean')\n",
        "imputer = imputer.fit(previsores[:, 1:4])\n",
        "previsores[:, 1:4] = imputer.transform(previsores[:, 1:4])"
      ],
      "execution_count": 3,
      "outputs": []
    },
    {
      "cell_type": "markdown",
      "metadata": {
        "id": "R2hTsgfAd3rx"
      },
      "source": [
        "Padronizando os valores"
      ]
    },
    {
      "cell_type": "code",
      "metadata": {
        "id": "i6WQBzXPdlYC"
      },
      "source": [
        "from sklearn.preprocessing import StandardScaler\n",
        "scaler = StandardScaler()\n",
        "previsores = scaler.fit_transform(previsores)"
      ],
      "execution_count": 4,
      "outputs": []
    },
    {
      "cell_type": "markdown",
      "metadata": {
        "id": "n0fuikdHeHNX"
      },
      "source": [
        "Divisão do banco de dados"
      ]
    },
    {
      "cell_type": "code",
      "metadata": {
        "id": "A_F2uR5Db59Y"
      },
      "source": [
        "from sklearn.model_selection import train_test_split\r\n",
        "previsores_treinamento, previsores_test, classe_treinamento, classe_teste = train_test_split(previsores, classe, test_size=0.25, random_state=0)"
      ],
      "execution_count": 11,
      "outputs": []
    },
    {
      "cell_type": "markdown",
      "metadata": {
        "id": "0ExmLlAuO8y3"
      },
      "source": [
        "Treinamento Naives Bayes"
      ]
    },
    {
      "cell_type": "code",
      "metadata": {
        "id": "UAp_G34xdqGC",
        "colab": {
          "base_uri": "https://localhost:8080/"
        },
        "outputId": "2b0ecf52-f9f4-44bf-cb88-0ee98f6f994c"
      },
      "source": [
        "from sklearn.naive_bayes import GaussianNB\n",
        "classificador = GaussianNB()\n",
        "classificador.fit(previsores_treinamento, classe_treinamento)"
      ],
      "execution_count": 6,
      "outputs": [
        {
          "output_type": "execute_result",
          "data": {
            "text/plain": [
              "GaussianNB(priors=None, var_smoothing=1e-09)"
            ]
          },
          "metadata": {
            "tags": []
          },
          "execution_count": 6
        }
      ]
    },
    {
      "cell_type": "markdown",
      "metadata": {
        "id": "ZOftkEdYdNxm"
      },
      "source": [
        "Teste Naives Bayes"
      ]
    },
    {
      "cell_type": "code",
      "metadata": {
        "id": "jjaiuRAidMq4"
      },
      "source": [
        "previsoes = classificador.predict(previsores_test)"
      ],
      "execution_count": 7,
      "outputs": []
    },
    {
      "cell_type": "markdown",
      "metadata": {
        "id": "UO67DHGNQxcp"
      },
      "source": [
        "Resultado da previsão"
      ]
    },
    {
      "cell_type": "code",
      "metadata": {
        "colab": {
          "base_uri": "https://localhost:8080/"
        },
        "id": "yqKyGU0tTD7L",
        "outputId": "ccec6a18-f97a-4c56-fda1-0a9bf1127bd6"
      },
      "source": [
        "from sklearn.model_selection import cross_val_score \n",
        "resultados = cross_val_score(classificador, previsores, classe, cv=10)\n",
        "resultados.mean()"
      ],
      "execution_count": 8,
      "outputs": [
        {
          "output_type": "execute_result",
          "data": {
            "text/plain": [
              "0.924"
            ]
          },
          "metadata": {
            "tags": []
          },
          "execution_count": 8
        }
      ]
    },
    {
      "cell_type": "code",
      "metadata": {
        "id": "rphRDcQ2fszB",
        "colab": {
          "base_uri": "https://localhost:8080/"
        },
        "outputId": "373939d8-2b25-4ad6-fcda-6c41351224d3"
      },
      "source": [
        "resultados.std()"
      ],
      "execution_count": 9,
      "outputs": [
        {
          "output_type": "execute_result",
          "data": {
            "text/plain": [
              "0.020223748416156664"
            ]
          },
          "metadata": {
            "tags": []
          },
          "execution_count": 9
        }
      ]
    },
    {
      "cell_type": "code",
      "metadata": {
        "id": "o7z0-RGIQZbQ",
        "colab": {
          "base_uri": "https://localhost:8080/"
        },
        "outputId": "8aa460b1-039f-4137-fd81-775279f654f2"
      },
      "source": [
        "#avaliação da precisão das previsões\n",
        "from sklearn.metrics import confusion_matrix, accuracy_score\n",
        "precisao = accuracy_score(classe_teste, previsoes)\n",
        "print(precisao)"
      ],
      "execution_count": 12,
      "outputs": [
        {
          "output_type": "stream",
          "text": [
            "0.938\n"
          ],
          "name": "stdout"
        }
      ]
    },
    {
      "cell_type": "code",
      "metadata": {
        "id": "_2aBOrKXRRpC",
        "colab": {
          "base_uri": "https://localhost:8080/"
        },
        "outputId": "06149bab-5e0e-4751-d17a-ce40d7931114"
      },
      "source": [
        "#matriz de avaliação das previsões\r\n",
        "matriz = confusion_matrix(classe_teste, previsoes)\r\n",
        "matriz"
      ],
      "execution_count": 15,
      "outputs": [
        {
          "output_type": "execute_result",
          "data": {
            "text/plain": [
              "array([[428,   8],\n",
              "       [ 23,  41]])"
            ]
          },
          "metadata": {
            "tags": []
          },
          "execution_count": 15
        }
      ]
    }
  ]
}