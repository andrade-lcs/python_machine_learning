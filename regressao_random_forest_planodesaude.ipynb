{
  "nbformat": 4,
  "nbformat_minor": 0,
  "metadata": {
    "colab": {
      "name": "regressao_random_forest_planodesaude.ipynb",
      "provenance": [],
      "authorship_tag": "ABX9TyPEJVIHthznvt1NnSr9C2Zm"
    },
    "kernelspec": {
      "name": "python3",
      "display_name": "Python 3"
    }
  },
  "cells": [
    {
      "cell_type": "markdown",
      "metadata": {
        "id": "jgU_-IE3LaC9"
      },
      "source": [
        "Montagem de dataframe"
      ]
    },
    {
      "cell_type": "code",
      "metadata": {
        "id": "SCyXdUW8HnI_"
      },
      "source": [
        "import pandas as pd"
      ],
      "execution_count": 1,
      "outputs": []
    },
    {
      "cell_type": "code",
      "metadata": {
        "id": "Llc_K1DJJzR9"
      },
      "source": [
        "base = pd.read_csv('plano_saude2.csv')"
      ],
      "execution_count": 2,
      "outputs": []
    },
    {
      "cell_type": "code",
      "metadata": {
        "id": "k1Eg8dr7J9a8"
      },
      "source": [
        "x = base.iloc[:, 0:1].values\n",
        "y = base.iloc[:, 1].values"
      ],
      "execution_count": 3,
      "outputs": []
    },
    {
      "cell_type": "markdown",
      "metadata": {
        "id": "NfJHAuuYLYCF"
      },
      "source": [
        "Regressão random forest"
      ]
    },
    {
      "cell_type": "code",
      "metadata": {
        "colab": {
          "base_uri": "https://localhost:8080/"
        },
        "id": "8LtEL3QTKS68",
        "outputId": "f63bec34-69f6-4693-b6b7-5a5a2c1e9072"
      },
      "source": [
        "from sklearn.ensemble import RandomForestRegressor\n",
        "regressor1 = RandomForestRegressor(n_estimators=100)\n",
        "regressor1.fit(x, y)"
      ],
      "execution_count": 4,
      "outputs": [
        {
          "output_type": "execute_result",
          "data": {
            "text/plain": [
              "RandomForestRegressor(bootstrap=True, ccp_alpha=0.0, criterion='mse',\n",
              "                      max_depth=None, max_features='auto', max_leaf_nodes=None,\n",
              "                      max_samples=None, min_impurity_decrease=0.0,\n",
              "                      min_impurity_split=None, min_samples_leaf=1,\n",
              "                      min_samples_split=2, min_weight_fraction_leaf=0.0,\n",
              "                      n_estimators=100, n_jobs=None, oob_score=False,\n",
              "                      random_state=None, verbose=0, warm_start=False)"
            ]
          },
          "metadata": {
            "tags": []
          },
          "execution_count": 4
        }
      ]
    },
    {
      "cell_type": "code",
      "metadata": {
        "colab": {
          "base_uri": "https://localhost:8080/"
        },
        "id": "RNGKORZJLPst",
        "outputId": "5e772d85-1211-461d-dfa8-a658df946ab8"
      },
      "source": [
        "regressor1.score(x, y)"
      ],
      "execution_count": 5,
      "outputs": [
        {
          "output_type": "execute_result",
          "data": {
            "text/plain": [
              "0.9437807284669445"
            ]
          },
          "metadata": {
            "tags": []
          },
          "execution_count": 5
        }
      ]
    },
    {
      "cell_type": "code",
      "metadata": {
        "id": "9x9QfGCWLVV0"
      },
      "source": [
        "import matplotlib.pyplot as plt"
      ],
      "execution_count": 6,
      "outputs": []
    },
    {
      "cell_type": "code",
      "metadata": {
        "id": "snwWbvqIbIu0"
      },
      "source": [
        "import numpy as np\n",
        "x_teste = np.arange(min(x), max(x), 0.1)\n",
        "x_teste = x_teste.reshape(-1, 1)"
      ],
      "execution_count": 7,
      "outputs": []
    },
    {
      "cell_type": "code",
      "metadata": {
        "colab": {
          "base_uri": "https://localhost:8080/",
          "height": 312
        },
        "id": "712XRjoLRe4l",
        "outputId": "39dfc786-34d4-4866-b48c-3b1e1867e040"
      },
      "source": [
        "plt.scatter(x, y)\n",
        "plt.plot(x_teste, regressor1.predict(x_teste), color='red')\n",
        "plt.title('Regressão random forest')\n",
        "plt.xlabel('Idade')\n",
        "plt.ylabel('Custo')"
      ],
      "execution_count": 8,
      "outputs": [
        {
          "output_type": "execute_result",
          "data": {
            "text/plain": [
              "Text(0, 0.5, 'Custo')"
            ]
          },
          "metadata": {
            "tags": []
          },
          "execution_count": 8
        },
        {
          "output_type": "display_data",
          "data": {
            "image/png": "[encoded data removed]",
            "text/plain": [
              "<Figure size 432x288 with 1 Axes>"
            ]
          },
          "metadata": {
            "tags": [],
            "needs_background": "light"
          }
        }
      ]
    },
    {
      "cell_type": "code",
      "metadata": {
        "id": "jxGxce4zSTM3"
      },
      "source": [
        ""
      ],
      "execution_count": 8,
      "outputs": []
    }
  ]
}