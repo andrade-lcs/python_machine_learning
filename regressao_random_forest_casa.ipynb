{
  "nbformat": 4,
  "nbformat_minor": 0,
  "metadata": {
    "colab": {
      "name": "regressao_random_forest_casa.ipynb",
      "provenance": [],
      "authorship_tag": "ABX9TyPJtL/E2eLX8HYFbwByp2x8"
    },
    "kernelspec": {
      "name": "python3",
      "display_name": "Python 3"
    }
  },
  "cells": [
    {
      "cell_type": "markdown",
      "metadata": {
        "id": "T_Qy0mr5TQBN"
      },
      "source": [
        "Montando dataframe"
      ]
    },
    {
      "cell_type": "code",
      "metadata": {
        "id": "JuYddin9S4q-"
      },
      "source": [
        "import pandas as pd"
      ],
      "execution_count": 1,
      "outputs": []
    },
    {
      "cell_type": "code",
      "metadata": {
        "id": "Q_Najr02THuJ"
      },
      "source": [
        "base = pd.read_csv('house_prices.csv')"
      ],
      "execution_count": 2,
      "outputs": []
    },
    {
      "cell_type": "code",
      "metadata": {
        "id": "_aUNAdbOTTrk"
      },
      "source": [
        "x = base.iloc[:, 3:19].values\n",
        "y = base.iloc[:, 2].values"
      ],
      "execution_count": 3,
      "outputs": []
    },
    {
      "cell_type": "markdown",
      "metadata": {
        "id": "Z2u-zV5KU5H2"
      },
      "source": [
        "Divisão de dataframe em teste e treinamento"
      ]
    },
    {
      "cell_type": "code",
      "metadata": {
        "id": "vpjWQfqyTkvh"
      },
      "source": [
        "from sklearn.model_selection import train_test_split\n",
        "x_trein, x_teste, y_trein, y_teste = train_test_split(x, y, test_size=0.3, random_state=0)"
      ],
      "execution_count": 4,
      "outputs": []
    },
    {
      "cell_type": "markdown",
      "metadata": {
        "id": "F3_Cgi70U9h7"
      },
      "source": [
        "Regressão Random Forest"
      ]
    },
    {
      "cell_type": "code",
      "metadata": {
        "id": "3jereyo9Uwih",
        "colab": {
          "base_uri": "https://localhost:8080/"
        },
        "outputId": "389a4c17-0d1a-4df7-eb0f-e22ec88eb2b7"
      },
      "source": [
        "from sklearn.ensemble import RandomForestRegressor\n",
        "regressor = RandomForestRegressor(n_estimators=100)\n",
        "regressor.fit(x_trein, y_trein)"
      ],
      "execution_count": 5,
      "outputs": [
        {
          "output_type": "execute_result",
          "data": {
            "text/plain": [
              "RandomForestRegressor(bootstrap=True, ccp_alpha=0.0, criterion='mse',\n",
              "                      max_depth=None, max_features='auto', max_leaf_nodes=None,\n",
              "                      max_samples=None, min_impurity_decrease=0.0,\n",
              "                      min_impurity_split=None, min_samples_leaf=1,\n",
              "                      min_samples_split=2, min_weight_fraction_leaf=0.0,\n",
              "                      n_estimators=100, n_jobs=None, oob_score=False,\n",
              "                      random_state=None, verbose=0, warm_start=False)"
            ]
          },
          "metadata": {
            "tags": []
          },
          "execution_count": 5
        }
      ]
    },
    {
      "cell_type": "code",
      "metadata": {
        "colab": {
          "base_uri": "https://localhost:8080/"
        },
        "id": "l9e8fZKgV3I7",
        "outputId": "64cfb3d9-1339-419c-f885-15663982b803"
      },
      "source": [
        "regressor.score(x_trein, y_trein)"
      ],
      "execution_count": 6,
      "outputs": [
        {
          "output_type": "execute_result",
          "data": {
            "text/plain": [
              "0.9813579137570679"
            ]
          },
          "metadata": {
            "tags": []
          },
          "execution_count": 6
        }
      ]
    },
    {
      "cell_type": "code",
      "metadata": {
        "id": "42T2MqbKWMiR"
      },
      "source": [
        "previsoes = regressor.predict(x_teste)"
      ],
      "execution_count": 7,
      "outputs": []
    },
    {
      "cell_type": "code",
      "metadata": {
        "colab": {
          "base_uri": "https://localhost:8080/"
        },
        "id": "kw7_5_ZAYy8E",
        "outputId": "a01ebe5e-b2a9-47df-c383-5819099466fa"
      },
      "source": [
        "from sklearn.metrics import mean_absolute_error\n",
        "mae = mean_absolute_error(y_teste, previsoes)\n",
        "mae"
      ],
      "execution_count": 8,
      "outputs": [
        {
          "output_type": "execute_result",
          "data": {
            "text/plain": [
              "68200.01708712656"
            ]
          },
          "metadata": {
            "tags": []
          },
          "execution_count": 8
        }
      ]
    },
    {
      "cell_type": "code",
      "metadata": {
        "id": "I9iXMUFHZFnK",
        "colab": {
          "base_uri": "https://localhost:8080/"
        },
        "outputId": "cce36c41-bed2-4c49-f25f-3dbbded786f7"
      },
      "source": [
        "regressor.score(x_teste, y_teste)"
      ],
      "execution_count": 9,
      "outputs": [
        {
          "output_type": "execute_result",
          "data": {
            "text/plain": [
              "0.8817404193245376"
            ]
          },
          "metadata": {
            "tags": []
          },
          "execution_count": 9
        }
      ]
    }
  ]
}