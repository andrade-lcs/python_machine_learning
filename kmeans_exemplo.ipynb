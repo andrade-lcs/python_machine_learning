{
  "nbformat": 4,
  "nbformat_minor": 0,
  "metadata": {
    "colab": {
      "name": "kmeans_exemplo.ipynb",
      "provenance": [],
      "authorship_tag": "ABX9TyOAwiEB1lhYj2BdpjL91c7s"
    },
    "kernelspec": {
      "name": "python3",
      "display_name": "Python 3"
    }
  },
  "cells": [
    {
      "cell_type": "code",
      "metadata": {
        "id": "ID-KguhvUePa"
      },
      "source": [
        "import numpy as np\r\n",
        "import matplotlib.pyplot as plt\r\n",
        "from sklearn.cluster import KMeans"
      ],
      "execution_count": 6,
      "outputs": []
    },
    {
      "cell_type": "code",
      "metadata": {
        "colab": {
          "base_uri": "https://localhost:8080/",
          "height": 282
        },
        "id": "jcqCYep_UvGB",
        "outputId": "e4438d0a-da1e-466c-8cf3-fc2f33adb00c"
      },
      "source": [
        "x = [20,  27,  21,  37,  46, 53, 55,  47,  52,  32,  39,  41,  39,  48,  48]  \r\n",
        "y = [1000,1200,2900,1850,900,950,2000,2100,3000,5900,4100,5100,7000,5000,6500] \r\n",
        "plt.scatter(x, y)"
      ],
      "execution_count": 9,
      "outputs": [
        {
          "output_type": "execute_result",
          "data": {
            "text/plain": [
              "<matplotlib.collections.PathCollection at 0x7f54e744fdd0>"
            ]
          },
          "metadata": {
            "tags": []
          },
          "execution_count": 9
        },
        {
          "output_type": "display_data",
          "data": {
            "image/png": "[encoded data removed]",
            "text/plain": [
              "<Figure size 432x288 with 1 Axes>"
            ]
          },
          "metadata": {
            "tags": [],
            "needs_background": "light"
          }
        }
      ]
    },
    {
      "cell_type": "code",
      "metadata": {
        "id": "kuxkHxyLU5jI"
      },
      "source": [
        "base = np.array([[20,1000],[27,1200],[21,2900],[37,1850],[46,900],\r\n",
        "                 [53,950],[55,2000],[47,2100],[52,3000],[32,5900],\r\n",
        "                 [39,4100],[41,5100],[39,7000],[48,5000],[48,6500]])"
      ],
      "execution_count": 10,
      "outputs": []
    },
    {
      "cell_type": "code",
      "metadata": {
        "colab": {
          "base_uri": "https://localhost:8080/"
        },
        "id": "AOrpVwLzWLVI",
        "outputId": "79a7d88b-0c4a-4cca-f124-1d52832bad9c"
      },
      "source": [
        "kmeans = KMeans(n_clusters=3)\r\n",
        "kmeans.fit(base)"
      ],
      "execution_count": 11,
      "outputs": [
        {
          "output_type": "execute_result",
          "data": {
            "text/plain": [
              "KMeans(algorithm='auto', copy_x=True, init='k-means++', max_iter=300,\n",
              "       n_clusters=3, n_init=10, n_jobs=None, precompute_distances='auto',\n",
              "       random_state=None, tol=0.0001, verbose=0)"
            ]
          },
          "metadata": {
            "tags": []
          },
          "execution_count": 11
        }
      ]
    },
    {
      "cell_type": "code",
      "metadata": {
        "colab": {
          "base_uri": "https://localhost:8080/"
        },
        "id": "bP5rMHwqWxmM",
        "outputId": "981c96ac-33f4-41b6-c800-b01b136f0ebf"
      },
      "source": [
        "centroides = kmeans.cluster_centers_\r\n",
        "centroides"
      ],
      "execution_count": 12,
      "outputs": [
        {
          "output_type": "execute_result",
          "data": {
            "text/plain": [
              "array([[  41.6, 5900. ],\n",
              "       [  36.6, 1180. ],\n",
              "       [  42.8, 2820. ]])"
            ]
          },
          "metadata": {
            "tags": []
          },
          "execution_count": 12
        }
      ]
    },
    {
      "cell_type": "code",
      "metadata": {
        "colab": {
          "base_uri": "https://localhost:8080/"
        },
        "id": "-scymrtsXM7w",
        "outputId": "01edae31-03bf-43ee-fa43-ee3b0adbf198"
      },
      "source": [
        "rotulos = kmeans.labels_\r\n",
        "rotulos"
      ],
      "execution_count": 13,
      "outputs": [
        {
          "output_type": "execute_result",
          "data": {
            "text/plain": [
              "array([1, 1, 2, 1, 1, 1, 2, 2, 2, 0, 2, 0, 0, 0, 0], dtype=int32)"
            ]
          },
          "metadata": {
            "tags": []
          },
          "execution_count": 13
        }
      ]
    },
    {
      "cell_type": "code",
      "metadata": {
        "colab": {
          "base_uri": "https://localhost:8080/",
          "height": 282
        },
        "id": "BAAY4VIhXVpH",
        "outputId": "7e10c5a8-bc08-49e2-a107-091837b499a4"
      },
      "source": [
        "cores = ['g.', 'r.', 'b.']\r\n",
        "for i in range(len(x)):\r\n",
        "    plt.plot(base[i][0], base[i][1], cores[rotulos[i]], markersize=15)\r\n",
        "plt.scatter(centroides[:,0], centroides[:,1], marker='x')"
      ],
      "execution_count": 18,
      "outputs": [
        {
          "output_type": "execute_result",
          "data": {
            "text/plain": [
              "<matplotlib.collections.PathCollection at 0x7f54e6f50a90>"
            ]
          },
          "metadata": {
            "tags": []
          },
          "execution_count": 18
        },
        {
          "output_type": "display_data",
          "data": {
            "image/png": "[encoded data removed]",
            "text/plain": [
              "<Figure size 432x288 with 1 Axes>"
            ]
          },
          "metadata": {
            "tags": [],
            "needs_background": "light"
          }
        }
      ]
    },
    {
      "cell_type": "code",
      "metadata": {
        "id": "ceI7OEDJeDE_"
      },
      "source": [
        "from sklearn.preprocessing import StandardScaler\r\n",
        "scaler = StandardScaler()\r\n",
        "base = scaler.fit_transform(base)"
      ],
      "execution_count": 19,
      "outputs": []
    },
    {
      "cell_type": "code",
      "metadata": {
        "colab": {
          "base_uri": "https://localhost:8080/"
        },
        "id": "21XkBMpWgJB4",
        "outputId": "cd70064f-181f-47fc-d0e0-f6a8161708d3"
      },
      "source": [
        "kmeans = KMeans(n_clusters=3)\r\n",
        "kmeans.fit(base)"
      ],
      "execution_count": 20,
      "outputs": [
        {
          "output_type": "execute_result",
          "data": {
            "text/plain": [
              "KMeans(algorithm='auto', copy_x=True, init='k-means++', max_iter=300,\n",
              "       n_clusters=3, n_init=10, n_jobs=None, precompute_distances='auto',\n",
              "       random_state=None, tol=0.0001, verbose=0)"
            ]
          },
          "metadata": {
            "tags": []
          },
          "execution_count": 20
        }
      ]
    },
    {
      "cell_type": "code",
      "metadata": {
        "id": "C4B6zE8AgLf4"
      },
      "source": [
        "centroides = kmeans.cluster_centers_\r\n",
        "rotulos = kmeans.labels_"
      ],
      "execution_count": 21,
      "outputs": []
    },
    {
      "cell_type": "code",
      "metadata": {
        "colab": {
          "base_uri": "https://localhost:8080/",
          "height": 282
        },
        "id": "F7YO5m6PgQ1w",
        "outputId": "da2a7237-5926-4902-923d-cd147fda803d"
      },
      "source": [
        "cores = ['g.', 'r.', 'b.']\r\n",
        "for i in range(len(x)):\r\n",
        "    plt.plot(base[i][0], base[i][1], cores[rotulos[i]], markersize=15)\r\n",
        "plt.scatter(centroides[:,0], centroides[:,1], marker='x')"
      ],
      "execution_count": 22,
      "outputs": [
        {
          "output_type": "execute_result",
          "data": {
            "text/plain": [
              "<matplotlib.collections.PathCollection at 0x7f54e6e91650>"
            ]
          },
          "metadata": {
            "tags": []
          },
          "execution_count": 22
        },
        {
          "output_type": "display_data",
          "data": {
            "image/png": "[encoded data removed]",
            "text/plain": [
              "<Figure size 432x288 with 1 Axes>"
            ]
          },
          "metadata": {
            "tags": [],
            "needs_background": "light"
          }
        }
      ]
    },
    {
      "cell_type": "code",
      "metadata": {
        "id": "TdQiBmqxgTir"
      },
      "source": [
        ""
      ],
      "execution_count": null,
      "outputs": []
    }
  ]
}