{
  "nbformat": 4,
  "nbformat_minor": 0,
  "metadata": {
    "colab": {
      "name": "naive_bayes_census.ipynb",
      "provenance": [],
      "authorship_tag": "ABX9TyPYzOhRkVRhHad9v/HHB8pw"
    },
    "kernelspec": {
      "name": "python3",
      "display_name": "Python 3"
    }
  },
  "cells": [
    {
      "cell_type": "code",
      "metadata": {
        "id": "z20poExQzaeJ"
      },
      "source": [
        "import pandas as pd\n",
        "\n",
        "base = pd.read_csv('census.csv')"
      ],
      "execution_count": 1,
      "outputs": []
    },
    {
      "cell_type": "markdown",
      "metadata": {
        "id": "REAkvnfQUMuV"
      },
      "source": [
        "Transfomação de variáveis categóricas"
      ]
    },
    {
      "cell_type": "code",
      "metadata": {
        "id": "nv230P_06ATS"
      },
      "source": [
        "previsores = base.iloc[:, 0:14].values\r\n",
        "classe = base.iloc[:, 14].values"
      ],
      "execution_count": 2,
      "outputs": []
    },
    {
      "cell_type": "code",
      "metadata": {
        "id": "oMd3j3mq76P5"
      },
      "source": [
        "from sklearn.preprocessing import LabelEncoder, OneHotEncoder\n",
        "from sklearn.compose import ColumnTransformer"
      ],
      "execution_count": 3,
      "outputs": []
    },
    {
      "cell_type": "code",
      "metadata": {
        "id": "3w3fPejK8S61"
      },
      "source": [
        "labelencoder_previsores = LabelEncoder()"
      ],
      "execution_count": 4,
      "outputs": []
    },
    {
      "cell_type": "code",
      "metadata": {
        "id": "5Opkyl5l8n1m"
      },
      "source": [
        "labelencoder_previsores = LabelEncoder()\r\n",
        "previsores[:, 1] = labelencoder_previsores.fit_transform(previsores[:,1])\r\n",
        "previsores[:, 4] = labelencoder_previsores.fit_transform(previsores[:,3])\r\n",
        "previsores[:, 5] = labelencoder_previsores.fit_transform(previsores[:,5])\r\n",
        "previsores[:, 6] = labelencoder_previsores.fit_transform(previsores[:,6])\r\n",
        "previsores[:, 7] = labelencoder_previsores.fit_transform(previsores[:,7])\r\n",
        "previsores[:, 8] = labelencoder_previsores.fit_transform(previsores[:,8])\r\n",
        "previsores[:, 9] = labelencoder_previsores.fit_transform(previsores[:,9])\r\n",
        "previsores[:, 13] = labelencoder_previsores.fit_transform(previsores[:,13])"
      ],
      "execution_count": 5,
      "outputs": []
    },
    {
      "cell_type": "code",
      "metadata": {
        "id": "C9IRFqJ59P_o"
      },
      "source": [
        "onehotencorder = ColumnTransformer(transformers=[(\"OneHot\", OneHotEncoder(), [1,3,5,6,7,8,9,13])],remainder='passthrough')\n",
        "previsores = onehotencorder.fit_transform(previsores).toarray()"
      ],
      "execution_count": 6,
      "outputs": []
    },
    {
      "cell_type": "code",
      "metadata": {
        "id": "12cTsvUaTjYV"
      },
      "source": [
        "labelencorder_classe = LabelEncoder()\n",
        "classe = labelencorder_classe.fit_transform(classe)"
      ],
      "execution_count": 7,
      "outputs": []
    },
    {
      "cell_type": "markdown",
      "metadata": {
        "id": "9TJCZzvwUGZQ"
      },
      "source": [
        "Escalonamento dos valoers numéricos"
      ]
    },
    {
      "cell_type": "code",
      "metadata": {
        "id": "n3XPVUp6TwDX"
      },
      "source": [
        "from sklearn.preprocessing import StandardScaler\r\n",
        "scaler = StandardScaler()\r\n",
        "previsores = scaler.fit_transform(previsores)"
      ],
      "execution_count": 8,
      "outputs": []
    },
    {
      "cell_type": "markdown",
      "metadata": {
        "id": "OzsjsidigkhS"
      },
      "source": [
        "Divisão de base em Classe e Previsores"
      ]
    },
    {
      "cell_type": "code",
      "metadata": {
        "id": "C130M6zFUxBf"
      },
      "source": [
        "from sklearn.model_selection import train_test_split\n",
        "previsores_treinamento, previsores_teste, classe_treinamento, classe_teste =  train_test_split(previsores, classe, test_size=0.15, random_state=0)"
      ],
      "execution_count": 9,
      "outputs": []
    },
    {
      "cell_type": "markdown",
      "metadata": {
        "id": "GZy6HIS9UVQJ"
      },
      "source": [
        "Treinamento Naives Bayes"
      ]
    },
    {
      "cell_type": "code",
      "metadata": {
        "id": "4SiTJqMKniD1"
      },
      "source": [
        "from sklearn.naive_bayes import GaussianNB\n",
        "classificador = GaussianNB()"
      ],
      "execution_count": 10,
      "outputs": []
    },
    {
      "cell_type": "code",
      "metadata": {
        "colab": {
          "base_uri": "https://localhost:8080/"
        },
        "id": "nvrw_rIeUcI6",
        "outputId": "bd432ae5-2e9e-4bd5-baf6-da87b0152226"
      },
      "source": [
        "classificador.fit(previsores_treinamento, classe_treinamento)"
      ],
      "execution_count": 11,
      "outputs": [
        {
          "output_type": "execute_result",
          "data": {
            "text/plain": [
              "GaussianNB(priors=None, var_smoothing=1e-09)"
            ]
          },
          "metadata": {
            "tags": []
          },
          "execution_count": 11
        }
      ]
    },
    {
      "cell_type": "markdown",
      "metadata": {
        "id": "nK90iXOMUf2q"
      },
      "source": [
        "Resultado da previsão"
      ]
    },
    {
      "cell_type": "code",
      "metadata": {
        "id": "g3JFDrnGUgkq"
      },
      "source": [
        "previsoes = classificador.predict(previsores_teste)"
      ],
      "execution_count": 12,
      "outputs": []
    },
    {
      "cell_type": "code",
      "metadata": {
        "colab": {
          "base_uri": "https://localhost:8080/"
        },
        "id": "vG9frNDvUkSr",
        "outputId": "413500ff-d70c-45c1-cfd2-17f303aaf91d"
      },
      "source": [
        "from sklearn.metrics import confusion_matrix, accuracy_score\n",
        "precisao = accuracy_score(classe_teste, previsoes)\n",
        "print(precisao)"
      ],
      "execution_count": 13,
      "outputs": [
        {
          "output_type": "stream",
          "text": [
            "0.4346846846846847\n"
          ],
          "name": "stdout"
        }
      ]
    },
    {
      "cell_type": "code",
      "metadata": {
        "colab": {
          "base_uri": "https://localhost:8080/"
        },
        "id": "bitwVS3DUpGT",
        "outputId": "ba1f688a-a745-452d-d94c-80253023c828"
      },
      "source": [
        "matriz = confusion_matrix(classe_teste, previsoes)\n",
        "print(matriz)"
      ],
      "execution_count": 14,
      "outputs": [
        {
          "output_type": "stream",
          "text": [
            "[[1029 2730]\n",
            " [  31 1094]]\n"
          ],
          "name": "stdout"
        }
      ]
    }
  ]
}