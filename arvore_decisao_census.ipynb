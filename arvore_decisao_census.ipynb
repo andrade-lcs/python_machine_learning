{
  "nbformat": 4,
  "nbformat_minor": 0,
  "metadata": {
    "colab": {
      "name": "arvore_decisao_census.ipynb",
      "provenance": [],
      "authorship_tag": "ABX9TyOaldobB6a6RtLJGc1jFPph"
    },
    "kernelspec": {
      "name": "python3",
      "display_name": "Python 3"
    }
  },
  "cells": [
    {
      "cell_type": "code",
      "metadata": {
        "id": "z20poExQzaeJ"
      },
      "source": [
        "import pandas as pd\n",
        "\n",
        "base = pd.read_csv('census.csv')"
      ],
      "execution_count": 1,
      "outputs": []
    },
    {
      "cell_type": "markdown",
      "metadata": {
        "id": "REAkvnfQUMuV"
      },
      "source": [
        "Transfomação de variáveis categóricas"
      ]
    },
    {
      "cell_type": "code",
      "metadata": {
        "id": "nv230P_06ATS"
      },
      "source": [
        "previsores = base.iloc[:, 0:14].values\r\n",
        "classe = base.iloc[:, 14].values"
      ],
      "execution_count": 2,
      "outputs": []
    },
    {
      "cell_type": "code",
      "metadata": {
        "id": "oMd3j3mq76P5"
      },
      "source": [
        "from sklearn.preprocessing import LabelEncoder, OneHotEncoder\n",
        "from sklearn.compose import ColumnTransformer"
      ],
      "execution_count": 3,
      "outputs": []
    },
    {
      "cell_type": "code",
      "metadata": {
        "id": "3w3fPejK8S61"
      },
      "source": [
        "labelencoder_previsores = LabelEncoder()"
      ],
      "execution_count": 4,
      "outputs": []
    },
    {
      "cell_type": "code",
      "metadata": {
        "id": "5Opkyl5l8n1m"
      },
      "source": [
        "labelencoder_previsores = LabelEncoder()\r\n",
        "previsores[:, 1] = labelencoder_previsores.fit_transform(previsores[:,1])\r\n",
        "previsores[:, 3] = labelencoder_previsores.fit_transform(previsores[:,3])\r\n",
        "previsores[:, 5] = labelencoder_previsores.fit_transform(previsores[:,5])\r\n",
        "previsores[:, 6] = labelencoder_previsores.fit_transform(previsores[:,6])\r\n",
        "previsores[:, 7] = labelencoder_previsores.fit_transform(previsores[:,7])\r\n",
        "previsores[:, 8] = labelencoder_previsores.fit_transform(previsores[:,8])\r\n",
        "previsores[:, 9] = labelencoder_previsores.fit_transform(previsores[:,9])\r\n",
        "previsores[:, 13] = labelencoder_previsores.fit_transform(previsores[:,13])"
      ],
      "execution_count": 5,
      "outputs": []
    },
    {
      "cell_type": "code",
      "metadata": {
        "id": "C9IRFqJ59P_o"
      },
      "source": [
        "onehotencorder = ColumnTransformer(transformers=[(\"OneHot\", OneHotEncoder(), [1,3,5,6,7,8,9,13])],remainder='passthrough')\n",
        "previsores = onehotencorder.fit_transform(previsores).toarray()"
      ],
      "execution_count": 6,
      "outputs": []
    },
    {
      "cell_type": "code",
      "metadata": {
        "id": "12cTsvUaTjYV"
      },
      "source": [
        "labelencorder_classe = LabelEncoder()\n",
        "classe = labelencorder_classe.fit_transform(classe)"
      ],
      "execution_count": 7,
      "outputs": []
    },
    {
      "cell_type": "markdown",
      "metadata": {
        "id": "9TJCZzvwUGZQ"
      },
      "source": [
        "Escalonamento dos valoers numéricos"
      ]
    },
    {
      "cell_type": "code",
      "metadata": {
        "id": "n3XPVUp6TwDX"
      },
      "source": [
        "from sklearn.preprocessing import StandardScaler\r\n",
        "scaler = StandardScaler()\r\n",
        "previsores = scaler.fit_transform(previsores)"
      ],
      "execution_count": 8,
      "outputs": []
    },
    {
      "cell_type": "code",
      "metadata": {
        "id": "C130M6zFUxBf"
      },
      "source": [
        "from sklearn.model_selection import train_test_split\n",
        "previsores_treinamento, previsores_teste, classe_treinamento, classe_teste =  train_test_split(previsores, classe, test_size=0.15, random_state=0)"
      ],
      "execution_count": 9,
      "outputs": []
    },
    {
      "cell_type": "markdown",
      "metadata": {
        "id": "GZy6HIS9UVQJ"
      },
      "source": [
        "Treinamento arvore de decisão"
      ]
    },
    {
      "cell_type": "code",
      "metadata": {
        "id": "4SiTJqMKniD1",
        "colab": {
          "base_uri": "https://localhost:8080/"
        },
        "outputId": "964def90-fcf5-41ca-d437-fe282e7561c5"
      },
      "source": [
        "from sklearn.tree import DecisionTreeClassifier\r\n",
        "classificador = DecisionTreeClassifier(criterion='entropy', random_state=0)\r\n",
        "classificador.fit(previsores_treinamento, classe_treinamento)"
      ],
      "execution_count": 10,
      "outputs": [
        {
          "output_type": "execute_result",
          "data": {
            "text/plain": [
              "DecisionTreeClassifier(ccp_alpha=0.0, class_weight=None, criterion='entropy',\n",
              "                       max_depth=None, max_features=None, max_leaf_nodes=None,\n",
              "                       min_impurity_decrease=0.0, min_impurity_split=None,\n",
              "                       min_samples_leaf=1, min_samples_split=2,\n",
              "                       min_weight_fraction_leaf=0.0, presort='deprecated',\n",
              "                       random_state=0, splitter='best')"
            ]
          },
          "metadata": {
            "tags": []
          },
          "execution_count": 10
        }
      ]
    },
    {
      "cell_type": "markdown",
      "metadata": {
        "id": "nK90iXOMUf2q"
      },
      "source": [
        "Resultado da previsão"
      ]
    },
    {
      "cell_type": "code",
      "metadata": {
        "id": "g3JFDrnGUgkq"
      },
      "source": [
        "previsoes = classificador.predict(previsores_teste)"
      ],
      "execution_count": 11,
      "outputs": []
    },
    {
      "cell_type": "code",
      "metadata": {
        "colab": {
          "base_uri": "https://localhost:8080/"
        },
        "id": "vG9frNDvUkSr",
        "outputId": "0d0d4fd1-c334-46cf-eaa0-1d49c9ee07a7"
      },
      "source": [
        "from sklearn.metrics import confusion_matrix, accuracy_score\n",
        "precisao = accuracy_score(classe_teste, previsoes)\n",
        "precisao"
      ],
      "execution_count": 12,
      "outputs": [
        {
          "output_type": "execute_result",
          "data": {
            "text/plain": [
              "0.8216625716625716"
            ]
          },
          "metadata": {
            "tags": []
          },
          "execution_count": 12
        }
      ]
    },
    {
      "cell_type": "code",
      "metadata": {
        "colab": {
          "base_uri": "https://localhost:8080/"
        },
        "id": "bitwVS3DUpGT",
        "outputId": "6bf9dd02-1afc-44ff-82f5-ce0a532e5c0b"
      },
      "source": [
        "matriz = confusion_matrix(classe_teste, previsoes)\n",
        "matriz"
      ],
      "execution_count": 13,
      "outputs": [
        {
          "output_type": "execute_result",
          "data": {
            "text/plain": [
              "array([[3300,  459],\n",
              "       [ 412,  713]])"
            ]
          },
          "metadata": {
            "tags": []
          },
          "execution_count": 13
        }
      ]
    }
  ]
}