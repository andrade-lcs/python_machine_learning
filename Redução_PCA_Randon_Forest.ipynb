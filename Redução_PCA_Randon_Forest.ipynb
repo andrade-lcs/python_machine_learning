{
  "nbformat": 4,
  "nbformat_minor": 0,
  "metadata": {
    "colab": {
      "name": "Redução_PCA_Randon_Forest.ipynb",
      "provenance": [],
      "authorship_tag": "ABX9TyMuUPxoxiNJpIzoaqzArDMa"
    },
    "kernelspec": {
      "name": "python3",
      "display_name": "Python 3"
    }
  },
  "cells": [
    {
      "cell_type": "code",
      "metadata": {
        "id": "z20poExQzaeJ"
      },
      "source": [
        "import pandas as pd\n",
        "\n",
        "base = pd.read_csv('census.csv')"
      ],
      "execution_count": 17,
      "outputs": []
    },
    {
      "cell_type": "markdown",
      "metadata": {
        "id": "REAkvnfQUMuV"
      },
      "source": [
        "Transfomação de variáveis categóricas"
      ]
    },
    {
      "cell_type": "code",
      "metadata": {
        "id": "nv230P_06ATS"
      },
      "source": [
        "previsores = base.iloc[:, 0:14].values\n",
        "classe = base.iloc[:, 14].values"
      ],
      "execution_count": 18,
      "outputs": []
    },
    {
      "cell_type": "code",
      "metadata": {
        "id": "oMd3j3mq76P5"
      },
      "source": [
        "from sklearn.preprocessing import LabelEncoder\n",
        "from sklearn.compose import ColumnTransformer"
      ],
      "execution_count": 19,
      "outputs": []
    },
    {
      "cell_type": "code",
      "metadata": {
        "id": "3w3fPejK8S61"
      },
      "source": [
        "labelencoder_previsores = LabelEncoder()\n",
        "previsores[:, 1] = labelencoder_previsores.fit_transform(previsores[:,1])\n",
        "previsores[:, 3] = labelencoder_previsores.fit_transform(previsores[:,3])\n",
        "previsores[:, 5] = labelencoder_previsores.fit_transform(previsores[:,5])\n",
        "previsores[:, 6] = labelencoder_previsores.fit_transform(previsores[:,6])\n",
        "previsores[:, 7] = labelencoder_previsores.fit_transform(previsores[:,7])\n",
        "previsores[:, 8] = labelencoder_previsores.fit_transform(previsores[:,8])\n",
        "previsores[:, 9] = labelencoder_previsores.fit_transform(previsores[:,9])\n",
        "previsores[:, 13] = labelencoder_previsores.fit_transform(previsores[:,13])"
      ],
      "execution_count": 20,
      "outputs": []
    },
    {
      "cell_type": "markdown",
      "metadata": {
        "id": "9TJCZzvwUGZQ"
      },
      "source": [
        "Escalonamento dos valoers numéricos"
      ]
    },
    {
      "cell_type": "code",
      "metadata": {
        "id": "n3XPVUp6TwDX"
      },
      "source": [
        "from sklearn.preprocessing import StandardScaler\n",
        "scaler = StandardScaler()\n",
        "previsores = scaler.fit_transform(previsores)"
      ],
      "execution_count": 21,
      "outputs": []
    },
    {
      "cell_type": "code",
      "metadata": {
        "id": "C130M6zFUxBf"
      },
      "source": [
        "from sklearn.model_selection import train_test_split\n",
        "previsores_treinamento, previsores_teste, classe_treinamento, classe_teste =  train_test_split(previsores, classe, test_size=0.15, random_state=0)"
      ],
      "execution_count": 23,
      "outputs": []
    },
    {
      "cell_type": "markdown",
      "metadata": {
        "id": "GZy6HIS9UVQJ"
      },
      "source": [
        "Redução atrávez do PCA\n",
        "\n"
      ]
    },
    {
      "cell_type": "code",
      "metadata": {
        "id": "0yP5TedNEblg"
      },
      "source": [
        "from sklearn.decomposition import PCA\n",
        "pca = PCA(n_components=6)\n",
        "previsores_treinamento = pca.fit_transform(previsores_treinamento)\n",
        "previsores_teste = pca.transform(previsores_teste)\n",
        "componentes = pca.explained_variance_ratio_"
      ],
      "execution_count": 24,
      "outputs": []
    },
    {
      "cell_type": "code",
      "metadata": {
        "colab": {
          "base_uri": "https://localhost:8080/"
        },
        "id": "INcHnXMHNdbL",
        "outputId": "aed937dc-e5fe-4c17-8e2a-077da81feb5f"
      },
      "source": [
        "previsores_treinamento"
      ],
      "execution_count": 26,
      "outputs": [
        {
          "output_type": "execute_result",
          "data": {
            "text/plain": [
              "array([[ 0.72756979, -0.63707837, -0.92959677, -0.51196631,  1.32386555,\n",
              "         0.4750941 ],\n",
              "       [ 1.94861194,  0.52336888, -0.11546966, -0.12953582,  1.35834981,\n",
              "         0.20608772],\n",
              "       [ 0.90984576, -0.49631087,  0.21043617,  1.9866043 ,  1.28736521,\n",
              "         0.22000605],\n",
              "       ...,\n",
              "       [-1.55068874,  1.8706316 , -1.18829813, -1.00624063, -0.44968694,\n",
              "        -0.15217589],\n",
              "       [ 1.50148337,  0.90027   ,  1.39911867,  0.45498765,  1.03381826,\n",
              "         0.83827868],\n",
              "       [ 0.39972037,  0.73809833, -0.78746921, -0.54623561,  1.21693501,\n",
              "         0.39215363]])"
            ]
          },
          "metadata": {
            "tags": []
          },
          "execution_count": 26
        }
      ]
    },
    {
      "cell_type": "code",
      "metadata": {
        "colab": {
          "base_uri": "https://localhost:8080/"
        },
        "id": "3tsJuzRmNf4S",
        "outputId": "4f6186d6-4de6-42ca-d54d-8fb6cc76014f"
      },
      "source": [
        "previsores_teste"
      ],
      "execution_count": 27,
      "outputs": [
        {
          "output_type": "execute_result",
          "data": {
            "text/plain": [
              "array([[-1.08298961,  1.511411  ,  1.08120223, -0.23854539, -0.54709231,\n",
              "         0.06702911],\n",
              "       [-0.66641733,  1.0460399 , -0.97351947, -0.58193493,  0.20794149,\n",
              "         0.10110174],\n",
              "       [ 0.93608   , -0.308498  , -1.22111646, -0.61203396,  0.60119126,\n",
              "         0.21778025],\n",
              "       ...,\n",
              "       [-2.16532876,  1.59502382, -1.06746787, -0.95742495, -0.08221146,\n",
              "         0.02514694],\n",
              "       [ 0.19659401,  0.41114736,  0.02324993, -0.71116502,  0.59508906,\n",
              "         0.103306  ],\n",
              "       [ 1.14525469, -0.01332434,  0.56413852, -0.24902614,  0.49825307,\n",
              "         0.19973128]])"
            ]
          },
          "metadata": {
            "tags": []
          },
          "execution_count": 27
        }
      ]
    },
    {
      "cell_type": "code",
      "metadata": {
        "colab": {
          "base_uri": "https://localhost:8080/"
        },
        "id": "uj_Hc-7ONiBy",
        "outputId": "61f73c20-19e8-488a-d675-a19d6730e027"
      },
      "source": [
        "componentes"
      ],
      "execution_count": 25,
      "outputs": [
        {
          "output_type": "execute_result",
          "data": {
            "text/plain": [
              "array([0.151561  , 0.10109701, 0.08980379, 0.08076277, 0.07627678,\n",
              "       0.07357646])"
            ]
          },
          "metadata": {
            "tags": []
          },
          "execution_count": 25
        }
      ]
    },
    {
      "cell_type": "code",
      "metadata": {
        "id": "4SiTJqMKniD1",
        "colab": {
          "base_uri": "https://localhost:8080/"
        },
        "outputId": "8cb48052-1ddc-401b-b4d8-fd4a0598060d"
      },
      "source": [
        "from sklearn.ensemble import RandomForestClassifier\n",
        "classificador = RandomForestClassifier(n_estimators=40, criterion='entropy', random_state=0)\n",
        "classificador.fit(previsores_treinamento, classe_treinamento)"
      ],
      "execution_count": 28,
      "outputs": [
        {
          "output_type": "execute_result",
          "data": {
            "text/plain": [
              "RandomForestClassifier(bootstrap=True, ccp_alpha=0.0, class_weight=None,\n",
              "                       criterion='entropy', max_depth=None, max_features='auto',\n",
              "                       max_leaf_nodes=None, max_samples=None,\n",
              "                       min_impurity_decrease=0.0, min_impurity_split=None,\n",
              "                       min_samples_leaf=1, min_samples_split=2,\n",
              "                       min_weight_fraction_leaf=0.0, n_estimators=40,\n",
              "                       n_jobs=None, oob_score=False, random_state=0, verbose=0,\n",
              "                       warm_start=False)"
            ]
          },
          "metadata": {
            "tags": []
          },
          "execution_count": 28
        }
      ]
    },
    {
      "cell_type": "markdown",
      "metadata": {
        "id": "nK90iXOMUf2q"
      },
      "source": [
        "Resultado da previsão"
      ]
    },
    {
      "cell_type": "code",
      "metadata": {
        "id": "g3JFDrnGUgkq"
      },
      "source": [
        "previsoes = classificador.predict(previsores_teste)"
      ],
      "execution_count": 29,
      "outputs": []
    },
    {
      "cell_type": "code",
      "metadata": {
        "colab": {
          "base_uri": "https://localhost:8080/"
        },
        "id": "vG9frNDvUkSr",
        "outputId": "8ff5000d-3a13-4cc2-8e85-2328e1972099"
      },
      "source": [
        "from sklearn.metrics import confusion_matrix, accuracy_score\n",
        "precisao = accuracy_score(classe_teste, previsoes)\n",
        "print(precisao)"
      ],
      "execution_count": 30,
      "outputs": [
        {
          "output_type": "stream",
          "text": [
            "0.8321392016376663\n"
          ],
          "name": "stdout"
        }
      ]
    },
    {
      "cell_type": "code",
      "metadata": {
        "colab": {
          "base_uri": "https://localhost:8080/"
        },
        "id": "bitwVS3DUpGT",
        "outputId": "c60f1799-23a7-42b0-d2ef-12ec5c07059f"
      },
      "source": [
        "matriz = confusion_matrix(classe_teste, previsoes)\n",
        "print(matriz)"
      ],
      "execution_count": 31,
      "outputs": [
        {
          "output_type": "stream",
          "text": [
            "[[3428  265]\n",
            " [ 555  637]]\n"
          ],
          "name": "stdout"
        }
      ]
    }
  ]
}