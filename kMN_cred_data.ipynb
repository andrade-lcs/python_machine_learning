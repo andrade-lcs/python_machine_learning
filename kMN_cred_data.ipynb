{
  "nbformat": 4,
  "nbformat_minor": 0,
  "metadata": {
    "colab": {
      "name": "kMN_cred_data.ipynb",
      "provenance": [],
      "authorship_tag": "ABX9TyM/dS2KiqKBN5WZ2MNl+3m4"
    },
    "kernelspec": {
      "name": "python3",
      "display_name": "Python 3"
    }
  },
  "cells": [
    {
      "cell_type": "code",
      "metadata": {
        "id": "HTqXDEEWc9Hl"
      },
      "source": [
        "import pandas as pd\n",
        "import numpy as np"
      ],
      "execution_count": 1,
      "outputs": []
    },
    {
      "cell_type": "markdown",
      "metadata": {
        "id": "xehNSauEdueh"
      },
      "source": [
        "Importação de Banco de dados"
      ]
    },
    {
      "cell_type": "code",
      "metadata": {
        "id": "uueSwgrxdf2Z"
      },
      "source": [
        "base = pd.read_csv('credit_data.csv')\n",
        "base.loc[base.age < 0, 'age'] = 40.92\n",
        "               \n",
        "previsores = base.iloc[:, 1:4].values\n",
        "classe = base.iloc[:, 4].values"
      ],
      "execution_count": 2,
      "outputs": []
    },
    {
      "cell_type": "markdown",
      "metadata": {
        "id": "Qfegwg_EdzbL"
      },
      "source": [
        "Tratando valores faltantes"
      ]
    },
    {
      "cell_type": "code",
      "metadata": {
        "id": "dirfZKGtdjaq"
      },
      "source": [
        "from sklearn.impute import SimpleImputer\n",
        "imputer = SimpleImputer(missing_values = np.nan, strategy = 'mean')\n",
        "imputer = imputer.fit(previsores[:, 1:4])\n",
        "previsores[:, 1:4] = imputer.transform(previsores[:, 1:4])"
      ],
      "execution_count": 3,
      "outputs": []
    },
    {
      "cell_type": "markdown",
      "metadata": {
        "id": "R2hTsgfAd3rx"
      },
      "source": [
        "Padronizando os valores"
      ]
    },
    {
      "cell_type": "code",
      "metadata": {
        "id": "i6WQBzXPdlYC"
      },
      "source": [
        "from sklearn.preprocessing import StandardScaler\n",
        "scaler = StandardScaler()\n",
        "previsores = scaler.fit_transform(previsores)"
      ],
      "execution_count": 4,
      "outputs": []
    },
    {
      "cell_type": "markdown",
      "metadata": {
        "id": "n0fuikdHeHNX"
      },
      "source": [
        "Teste do banco de dados"
      ]
    },
    {
      "cell_type": "code",
      "metadata": {
        "id": "Wfv1_VJFdn8S"
      },
      "source": [
        "from sklearn.model_selection import train_test_split\n",
        "previsores_treinamento, previsores_teste, classe_treinamento, classe_teste = train_test_split(previsores, classe, test_size=0.25, random_state=0)"
      ],
      "execution_count": 5,
      "outputs": []
    },
    {
      "cell_type": "markdown",
      "metadata": {
        "id": "0ExmLlAuO8y3"
      },
      "source": [
        "Treinamento Arvore de decisão"
      ]
    },
    {
      "cell_type": "code",
      "metadata": {
        "id": "UAp_G34xdqGC",
        "colab": {
          "base_uri": "https://localhost:8080/"
        },
        "outputId": "1b4c6361-5c4f-4d00-ce80-990cd9fe9acf"
      },
      "source": [
        "from sklearn.neighbors import KNeighborsClassifier\r\n",
        "classificador = KNeighborsClassifier(n_neighbors=5, metric='minkowski', p=2)\r\n",
        "classificador.fit(previsores_treinamento, classe_treinamento)"
      ],
      "execution_count": 6,
      "outputs": [
        {
          "output_type": "execute_result",
          "data": {
            "text/plain": [
              "KNeighborsClassifier(algorithm='auto', leaf_size=30, metric='minkowski',\n",
              "                     metric_params=None, n_jobs=None, n_neighbors=5, p=2,\n",
              "                     weights='uniform')"
            ]
          },
          "metadata": {
            "tags": []
          },
          "execution_count": 6
        }
      ]
    },
    {
      "cell_type": "markdown",
      "metadata": {
        "id": "UO67DHGNQxcp"
      },
      "source": [
        "Resultado da previsão"
      ]
    },
    {
      "cell_type": "code",
      "metadata": {
        "id": "ZMvGo_CXqNe6"
      },
      "source": [
        "previsoes = classificador.predict(previsores_teste)"
      ],
      "execution_count": 7,
      "outputs": []
    },
    {
      "cell_type": "code",
      "metadata": {
        "colab": {
          "base_uri": "https://localhost:8080/"
        },
        "id": "o7z0-RGIQZbQ",
        "outputId": "2f092406-26d8-4788-ea95-fc7db0e901d1"
      },
      "source": [
        "from sklearn.metrics import confusion_matrix, accuracy_score\n",
        "precisao = accuracy_score(classe_teste, previsoes)\n",
        "print(precisao)"
      ],
      "execution_count": 8,
      "outputs": [
        {
          "output_type": "stream",
          "text": [
            "0.986\n"
          ],
          "name": "stdout"
        }
      ]
    },
    {
      "cell_type": "code",
      "metadata": {
        "id": "_2aBOrKXRRpC",
        "colab": {
          "base_uri": "https://localhost:8080/"
        },
        "outputId": "4bf1c6c6-5671-4c54-bd47-ccd263af9e92"
      },
      "source": [
        "matriz = confusion_matrix(classe_teste, previsoes)\r\n",
        "matriz"
      ],
      "execution_count": 9,
      "outputs": [
        {
          "output_type": "execute_result",
          "data": {
            "text/plain": [
              "array([[432,   4],\n",
              "       [  3,  61]])"
            ]
          },
          "metadata": {
            "tags": []
          },
          "execution_count": 9
        }
      ]
    }
  ]
}