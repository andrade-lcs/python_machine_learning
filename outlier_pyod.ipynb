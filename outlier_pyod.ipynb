{
  "nbformat": 4,
  "nbformat_minor": 0,
  "metadata": {
    "colab": {
      "name": "outlier_pyod.ipynb",
      "provenance": [],
      "authorship_tag": "ABX9TyNM2TiYKpMqQVv1YVdlTMTQ"
    },
    "kernelspec": {
      "name": "python3",
      "display_name": "Python 3"
    },
    "language_info": {
      "name": "python"
    }
  },
  "cells": [
    {
      "cell_type": "code",
      "metadata": {
        "id": "pRb4DXuroWAP"
      },
      "source": [
        "!pip install pyod"
      ],
      "execution_count": null,
      "outputs": []
    },
    {
      "cell_type": "code",
      "metadata": {
        "id": "9TxpR_voocFg"
      },
      "source": [
        "import pandas as pd\n",
        "\n",
        "base = pd.read_csv('credit_data.csv')"
      ],
      "execution_count": 2,
      "outputs": []
    },
    {
      "cell_type": "code",
      "metadata": {
        "id": "L0xJKdpVo55J"
      },
      "source": [
        "base = base.dropna()"
      ],
      "execution_count": 3,
      "outputs": []
    },
    {
      "cell_type": "code",
      "metadata": {
        "colab": {
          "base_uri": "https://localhost:8080/"
        },
        "id": "z3MbUAddo239",
        "outputId": "7dfa0415-effe-49e1-c209-ab4e9cedca46"
      },
      "source": [
        "from pyod.models.knn import KNN\n",
        "detector = KNN()\n",
        "detector.fit(base.iloc[:, 1:4])"
      ],
      "execution_count": 4,
      "outputs": [
        {
          "output_type": "execute_result",
          "data": {
            "text/plain": [
              "KNN(algorithm='auto', contamination=0.1, leaf_size=30, method='largest',\n",
              "  metric='minkowski', metric_params=None, n_jobs=1, n_neighbors=5, p=2,\n",
              "  radius=1.0)"
            ]
          },
          "metadata": {
            "tags": []
          },
          "execution_count": 4
        }
      ]
    },
    {
      "cell_type": "code",
      "metadata": {
        "colab": {
          "base_uri": "https://localhost:8080/"
        },
        "id": "VvrrfIZmpG86",
        "outputId": "c26ea040-6fff-4207-807e-d476ba1871dd"
      },
      "source": [
        "previsoes = detector.labels_\n",
        "previsoes"
      ],
      "execution_count": 5,
      "outputs": [
        {
          "output_type": "execute_result",
          "data": {
            "text/plain": [
              "array([0, 0, 0, ..., 0, 0, 1])"
            ]
          },
          "metadata": {
            "tags": []
          },
          "execution_count": 5
        }
      ]
    },
    {
      "cell_type": "code",
      "metadata": {
        "colab": {
          "base_uri": "https://localhost:8080/"
        },
        "id": "YqUvOHUjp6WH",
        "outputId": "9c22ad40-4e9a-410c-84df-0390c0783b4f"
      },
      "source": [
        "confianca_previsoes = detector.decision_scores_\n",
        "confianca_previsoes"
      ],
      "execution_count": 6,
      "outputs": [
        {
          "output_type": "execute_result",
          "data": {
            "text/plain": [
              "array([ 704.78948078,  365.218309  ,  583.2159934 , ...,  395.01466508,\n",
              "        557.88978241, 1071.5109404 ])"
            ]
          },
          "metadata": {
            "tags": []
          },
          "execution_count": 6
        }
      ]
    },
    {
      "cell_type": "code",
      "metadata": {
        "id": "vkmd3mxdqGxx"
      },
      "source": [
        "outlier = list()\n",
        "for i in range(len(previsoes)):\n",
        "    #print(previsoes[i])\n",
        "    if previsoes[i] == 1:\n",
        "        outlier.append(i)"
      ],
      "execution_count": 13,
      "outputs": []
    },
    {
      "cell_type": "code",
      "metadata": {
        "colab": {
          "base_uri": "https://localhost:8080/",
          "height": 419
        },
        "id": "Den5V6UxqgXt",
        "outputId": "752ae5e2-89b3-406b-86c7-df1ede23ab7a"
      },
      "source": [
        "lista_outlier = base.iloc[outlier, :]\n",
        "lista_outlier"
      ],
      "execution_count": 15,
      "outputs": [
        {
          "output_type": "execute_result",
          "data": {
            "text/html": [
              "<div>\n",
              "<style scoped>\n",
              "    .dataframe tbody tr th:only-of-type {\n",
              "        vertical-align: middle;\n",
              "    }\n",
              "\n",
              "    .dataframe tbody tr th {\n",
              "        vertical-align: top;\n",
              "    }\n",
              "\n",
              "    .dataframe thead th {\n",
              "        text-align: right;\n",
              "    }\n",
              "</style>\n",
              "<table border=\"1\" class=\"dataframe\">\n",
              "  <thead>\n",
              "    <tr style=\"text-align: right;\">\n",
              "      <th></th>\n",
              "      <th>i#clientid</th>\n",
              "      <th>income</th>\n",
              "      <th>age</th>\n",
              "      <th>loan</th>\n",
              "      <th>c#default</th>\n",
              "    </tr>\n",
              "  </thead>\n",
              "  <tbody>\n",
              "    <tr>\n",
              "      <th>4</th>\n",
              "      <td>5</td>\n",
              "      <td>66952.688845</td>\n",
              "      <td>18.584336</td>\n",
              "      <td>8770.099235</td>\n",
              "      <td>1</td>\n",
              "    </tr>\n",
              "    <tr>\n",
              "      <th>24</th>\n",
              "      <td>25</td>\n",
              "      <td>65301.984029</td>\n",
              "      <td>48.840922</td>\n",
              "      <td>5465.267886</td>\n",
              "      <td>0</td>\n",
              "    </tr>\n",
              "    <tr>\n",
              "      <th>29</th>\n",
              "      <td>30</td>\n",
              "      <td>58842.891308</td>\n",
              "      <td>54.510948</td>\n",
              "      <td>10871.186790</td>\n",
              "      <td>0</td>\n",
              "    </tr>\n",
              "    <tr>\n",
              "      <th>34</th>\n",
              "      <td>35</td>\n",
              "      <td>57584.973790</td>\n",
              "      <td>36.672021</td>\n",
              "      <td>1728.423755</td>\n",
              "      <td>0</td>\n",
              "    </tr>\n",
              "    <tr>\n",
              "      <th>38</th>\n",
              "      <td>39</td>\n",
              "      <td>60921.063104</td>\n",
              "      <td>18.840526</td>\n",
              "      <td>968.836383</td>\n",
              "      <td>0</td>\n",
              "    </tr>\n",
              "    <tr>\n",
              "      <th>...</th>\n",
              "      <td>...</td>\n",
              "      <td>...</td>\n",
              "      <td>...</td>\n",
              "      <td>...</td>\n",
              "      <td>...</td>\n",
              "    </tr>\n",
              "    <tr>\n",
              "      <th>1943</th>\n",
              "      <td>1944</td>\n",
              "      <td>59792.508585</td>\n",
              "      <td>24.187499</td>\n",
              "      <td>660.241453</td>\n",
              "      <td>0</td>\n",
              "    </tr>\n",
              "    <tr>\n",
              "      <th>1944</th>\n",
              "      <td>1945</td>\n",
              "      <td>35879.519994</td>\n",
              "      <td>41.072935</td>\n",
              "      <td>5335.403499</td>\n",
              "      <td>0</td>\n",
              "    </tr>\n",
              "    <tr>\n",
              "      <th>1957</th>\n",
              "      <td>1958</td>\n",
              "      <td>50458.958203</td>\n",
              "      <td>52.314565</td>\n",
              "      <td>9852.889427</td>\n",
              "      <td>0</td>\n",
              "    </tr>\n",
              "    <tr>\n",
              "      <th>1996</th>\n",
              "      <td>1997</td>\n",
              "      <td>69516.127573</td>\n",
              "      <td>23.162104</td>\n",
              "      <td>3503.176156</td>\n",
              "      <td>0</td>\n",
              "    </tr>\n",
              "    <tr>\n",
              "      <th>1999</th>\n",
              "      <td>2000</td>\n",
              "      <td>69436.579552</td>\n",
              "      <td>56.152617</td>\n",
              "      <td>7378.833599</td>\n",
              "      <td>0</td>\n",
              "    </tr>\n",
              "  </tbody>\n",
              "</table>\n",
              "<p>200 rows × 5 columns</p>\n",
              "</div>"
            ],
            "text/plain": [
              "      i#clientid        income        age          loan  c#default\n",
              "4              5  66952.688845  18.584336   8770.099235          1\n",
              "24            25  65301.984029  48.840922   5465.267886          0\n",
              "29            30  58842.891308  54.510948  10871.186790          0\n",
              "34            35  57584.973790  36.672021   1728.423755          0\n",
              "38            39  60921.063104  18.840526    968.836383          0\n",
              "...          ...           ...        ...           ...        ...\n",
              "1943        1944  59792.508585  24.187499    660.241453          0\n",
              "1944        1945  35879.519994  41.072935   5335.403499          0\n",
              "1957        1958  50458.958203  52.314565   9852.889427          0\n",
              "1996        1997  69516.127573  23.162104   3503.176156          0\n",
              "1999        2000  69436.579552  56.152617   7378.833599          0\n",
              "\n",
              "[200 rows x 5 columns]"
            ]
          },
          "metadata": {
            "tags": []
          },
          "execution_count": 15
        }
      ]
    },
    {
      "cell_type": "code",
      "metadata": {
        "id": "Aq4UDBJVrWug"
      },
      "source": [
        ""
      ],
      "execution_count": null,
      "outputs": []
    }
  ]
}