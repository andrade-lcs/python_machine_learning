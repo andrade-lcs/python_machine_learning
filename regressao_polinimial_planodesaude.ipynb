{
  "nbformat": 4,
  "nbformat_minor": 0,
  "metadata": {
    "colab": {
      "name": "regressao_polinimial_planodesaude.ipynb",
      "provenance": [],
      "authorship_tag": "ABX9TyPKqug4kM1OEorvJNKHfyab"
    },
    "kernelspec": {
      "name": "python3",
      "display_name": "Python 3"
    }
  },
  "cells": [
    {
      "cell_type": "markdown",
      "metadata": {
        "id": "jgU_-IE3LaC9"
      },
      "source": [
        "Montagem de dataframe"
      ]
    },
    {
      "cell_type": "code",
      "metadata": {
        "id": "SCyXdUW8HnI_"
      },
      "source": [
        "import pandas as pd"
      ],
      "execution_count": 1,
      "outputs": []
    },
    {
      "cell_type": "code",
      "metadata": {
        "id": "Llc_K1DJJzR9"
      },
      "source": [
        "base = pd.read_csv('plano_saude2.csv')"
      ],
      "execution_count": 2,
      "outputs": []
    },
    {
      "cell_type": "code",
      "metadata": {
        "id": "k1Eg8dr7J9a8"
      },
      "source": [
        "x = base.iloc[:, 0:1].values\n",
        "y = base.iloc[:, 1].values"
      ],
      "execution_count": 3,
      "outputs": []
    },
    {
      "cell_type": "markdown",
      "metadata": {
        "id": "NfJHAuuYLYCF"
      },
      "source": [
        "Regressão Linear "
      ]
    },
    {
      "cell_type": "code",
      "metadata": {
        "colab": {
          "base_uri": "https://localhost:8080/"
        },
        "id": "8LtEL3QTKS68",
        "outputId": "910f6edb-cb59-4278-aa2a-eafa0aaabc52"
      },
      "source": [
        "from sklearn.linear_model import LinearRegression\n",
        "regressor1 = LinearRegression()\n",
        "regressor1.fit(x, y)"
      ],
      "execution_count": 4,
      "outputs": [
        {
          "output_type": "execute_result",
          "data": {
            "text/plain": [
              "LinearRegression(copy_X=True, fit_intercept=True, n_jobs=None, normalize=False)"
            ]
          },
          "metadata": {
            "tags": []
          },
          "execution_count": 4
        }
      ]
    },
    {
      "cell_type": "code",
      "metadata": {
        "colab": {
          "base_uri": "https://localhost:8080/"
        },
        "id": "RNGKORZJLPst",
        "outputId": "4170802c-2c38-4a56-8645-f316611551b4"
      },
      "source": [
        "regressor1.score(x, y)"
      ],
      "execution_count": 5,
      "outputs": [
        {
          "output_type": "execute_result",
          "data": {
            "text/plain": [
              "0.6722701203412687"
            ]
          },
          "metadata": {
            "tags": []
          },
          "execution_count": 5
        }
      ]
    },
    {
      "cell_type": "code",
      "metadata": {
        "colab": {
          "base_uri": "https://localhost:8080/",
          "height": 312
        },
        "id": "9x9QfGCWLVV0",
        "outputId": "e4a30f6f-4c68-4fd9-952f-523ee9e59601"
      },
      "source": [
        "import matplotlib.pyplot as plt\n",
        "plt.scatter(x, y)\n",
        "plt.plot(x, regressor1.predict(x), color='red')\n",
        "plt.title('Regressão Linear')\n",
        "plt.xlabel('Idade')\n",
        "plt.ylabel('Custo')"
      ],
      "execution_count": 6,
      "outputs": [
        {
          "output_type": "execute_result",
          "data": {
            "text/plain": [
              "Text(0, 0.5, 'Custo')"
            ]
          },
          "metadata": {
            "tags": []
          },
          "execution_count": 6
        },
        {
          "output_type": "display_data",
          "data": {
            "image/png": "[encoded data removed]",
            "text/plain": [
              "<Figure size 432x288 with 1 Axes>"
            ]
          },
          "metadata": {
            "tags": [],
            "needs_background": "light"
          }
        }
      ]
    },
    {
      "cell_type": "markdown",
      "metadata": {
        "id": "yNNWBQ2xQTa3"
      },
      "source": [
        "Regressão Polinomial"
      ]
    },
    {
      "cell_type": "code",
      "metadata": {
        "id": "aJkIwgwBMcv2"
      },
      "source": [
        "from sklearn.preprocessing import PolynomialFeatures\n",
        "poly = PolynomialFeatures(degree = 5)\n",
        "x_poly = poly.fit_transform(x)"
      ],
      "execution_count": 11,
      "outputs": []
    },
    {
      "cell_type": "code",
      "metadata": {
        "colab": {
          "base_uri": "https://localhost:8080/"
        },
        "id": "rK7RH1JzQ_7k",
        "outputId": "ed46fef0-bed1-4c7f-e756-dbb23e351450"
      },
      "source": [
        "regressor2 = LinearRegression()\n",
        "regressor2.fit(x_poly, y)"
      ],
      "execution_count": 12,
      "outputs": [
        {
          "output_type": "execute_result",
          "data": {
            "text/plain": [
              "LinearRegression(copy_X=True, fit_intercept=True, n_jobs=None, normalize=False)"
            ]
          },
          "metadata": {
            "tags": []
          },
          "execution_count": 12
        }
      ]
    },
    {
      "cell_type": "code",
      "metadata": {
        "colab": {
          "base_uri": "https://localhost:8080/"
        },
        "id": "rRCViqwuRTbm",
        "outputId": "cfb41e7f-0f34-4d08-9158-ea46042615f4"
      },
      "source": [
        "regressor2.score(x_poly, y)"
      ],
      "execution_count": 13,
      "outputs": [
        {
          "output_type": "execute_result",
          "data": {
            "text/plain": [
              "0.9997860563090523"
            ]
          },
          "metadata": {
            "tags": []
          },
          "execution_count": 13
        }
      ]
    },
    {
      "cell_type": "code",
      "metadata": {
        "colab": {
          "base_uri": "https://localhost:8080/",
          "height": 312
        },
        "id": "712XRjoLRe4l",
        "outputId": "2ca688c0-4d8f-4a30-dc10-3c98ecea7df4"
      },
      "source": [
        "plt.scatter(x, y)\n",
        "plt.plot(x, regressor2.predict(poly.fit_transform(x)), color='red')\n",
        "plt.title('Regressão Polinomial')\n",
        "plt.xlabel('Idade')\n",
        "plt.ylabel('Custo')"
      ],
      "execution_count": 14,
      "outputs": [
        {
          "output_type": "execute_result",
          "data": {
            "text/plain": [
              "Text(0, 0.5, 'Custo')"
            ]
          },
          "metadata": {
            "tags": []
          },
          "execution_count": 14
        },
        {
          "output_type": "display_data",
          "data": {
            "image/png": "[encoded data removed]",
            "text/plain": [
              "<Figure size 432x288 with 1 Axes>"
            ]
          },
          "metadata": {
            "tags": [],
            "needs_background": "light"
          }
        }
      ]
    },
    {
      "cell_type": "code",
      "metadata": {
        "id": "jxGxce4zSTM3"
      },
      "source": [
        ""
      ],
      "execution_count": 10,
      "outputs": []
    }
  ]
}