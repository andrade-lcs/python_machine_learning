{
  "nbformat": 4,
  "nbformat_minor": 0,
  "metadata": {
    "colab": {
      "name": "validação_cruzada_stratifield_naives_bayes_cred_data.ipynb",
      "provenance": [],
      "authorship_tag": "ABX9TyMjZci1c8MJ+o9oaLIYIEgu"
    },
    "kernelspec": {
      "name": "python3",
      "display_name": "Python 3"
    }
  },
  "cells": [
    {
      "cell_type": "code",
      "metadata": {
        "id": "HTqXDEEWc9Hl"
      },
      "source": [
        "import pandas as pd\n",
        "import numpy as np"
      ],
      "execution_count": 1,
      "outputs": []
    },
    {
      "cell_type": "markdown",
      "metadata": {
        "id": "xehNSauEdueh"
      },
      "source": [
        "Importação de Banco de dados"
      ]
    },
    {
      "cell_type": "code",
      "metadata": {
        "id": "uueSwgrxdf2Z"
      },
      "source": [
        "base = pd.read_csv('credit_data.csv')\n",
        "base.loc[base.age < 0, 'age'] = 40.92\n",
        "               \n",
        "previsores = base.iloc[:, 1:4].values\n",
        "classe = base.iloc[:, 4].values"
      ],
      "execution_count": 2,
      "outputs": []
    },
    {
      "cell_type": "markdown",
      "metadata": {
        "id": "Qfegwg_EdzbL"
      },
      "source": [
        "Tratando valores faltantes"
      ]
    },
    {
      "cell_type": "code",
      "metadata": {
        "id": "dirfZKGtdjaq"
      },
      "source": [
        "from sklearn.impute import SimpleImputer\n",
        "imputer = SimpleImputer(missing_values = np.nan, strategy = 'mean')\n",
        "imputer = imputer.fit(previsores[:, 1:4])\n",
        "previsores[:, 1:4] = imputer.transform(previsores[:, 1:4])"
      ],
      "execution_count": 3,
      "outputs": []
    },
    {
      "cell_type": "markdown",
      "metadata": {
        "id": "R2hTsgfAd3rx"
      },
      "source": [
        "Padronizando os valores"
      ]
    },
    {
      "cell_type": "code",
      "metadata": {
        "id": "i6WQBzXPdlYC"
      },
      "source": [
        "from sklearn.preprocessing import StandardScaler\n",
        "scaler = StandardScaler()\n",
        "previsores = scaler.fit_transform(previsores)"
      ],
      "execution_count": 4,
      "outputs": []
    },
    {
      "cell_type": "markdown",
      "metadata": {
        "id": "0ExmLlAuO8y3"
      },
      "source": [
        "Treinamento Naives Bayes"
      ]
    },
    {
      "cell_type": "code",
      "metadata": {
        "id": "UAp_G34xdqGC"
      },
      "source": [
        "from sklearn.naive_bayes import GaussianNB"
      ],
      "execution_count": 5,
      "outputs": []
    },
    {
      "cell_type": "markdown",
      "metadata": {
        "id": "N6tgBy3j9uuk"
      },
      "source": [
        "Vaidação da base de dados"
      ]
    },
    {
      "cell_type": "code",
      "metadata": {
        "id": "_2aBOrKXRRpC"
      },
      "source": [
        "from sklearn.model_selection import StratifiedKFold\n",
        "from sklearn.metrics import accuracy_score"
      ],
      "execution_count": 6,
      "outputs": []
    },
    {
      "cell_type": "code",
      "metadata": {
        "id": "0ojgtGCHRibB",
        "colab": {
          "base_uri": "https://localhost:8080/"
        },
        "outputId": "1fc72be9-eb74-4c94-e36d-76e6c6b66bc2"
      },
      "source": [
        "resultados_30 = []\n",
        "for i in range(30):\n",
        "    kfold = StratifiedKFold(n_splits=10, shuffle=True, random_state=i)\n",
        "    resultados_i = []\n",
        "    for indice_treinamento, indice_teste in kfold.split(previsores, np.zeros(shape=(previsores.shape[0], 1))):\n",
        "        classificador = GaussianNB()\n",
        "        classificador.fit(previsores[indice_treinamento], classe[indice_treinamento])\n",
        "        previsoes = classificador.predict(previsores[indice_teste])\n",
        "        precisao = accuracy_score(classe[indice_teste], previsoes)\n",
        "        resultados_i.append(precisao)\n",
        "    resultados_i = np.array(resultados_i)\n",
        "    media = resultados_i.mean()\n",
        "    resultados_30.append(media)\n",
        "resultados_30 = np.array(resultados_30)\n",
        "for i in range(resultados_30.size):\n",
        "    print(f'{i+1}: {resultados_30[i]:.4f}')\n",
        "print(f'Média:{resultados_30.mean():.2f}\\nDesvio padrão:{resultados_30.std():.2f}')"
      ],
      "execution_count": 27,
      "outputs": [
        {
          "output_type": "stream",
          "text": [
            "1: 0.9255\n",
            "2: 0.9245\n",
            "3: 0.9255\n",
            "4: 0.9250\n",
            "5: 0.9260\n",
            "6: 0.9250\n",
            "7: 0.9260\n",
            "8: 0.9255\n",
            "9: 0.9265\n",
            "10: 0.9255\n",
            "11: 0.9250\n",
            "12: 0.9255\n",
            "13: 0.9260\n",
            "14: 0.9255\n",
            "15: 0.9265\n",
            "16: 0.9260\n",
            "17: 0.9245\n",
            "18: 0.9270\n",
            "19: 0.9255\n",
            "20: 0.9265\n",
            "21: 0.9260\n",
            "22: 0.9250\n",
            "23: 0.9270\n",
            "24: 0.9270\n",
            "25: 0.9255\n",
            "26: 0.9255\n",
            "27: 0.9250\n",
            "28: 0.9270\n",
            "29: 0.9255\n",
            "30: 0.9260\n",
            "Média:0.93\n",
            "Desvio padrão:0.00\n"
          ],
          "name": "stdout"
        }
      ]
    },
    {
      "cell_type": "code",
      "metadata": {
        "id": "8mWdhVd3EOBQ"
      },
      "source": [
        ""
      ],
      "execution_count": 7,
      "outputs": []
    }
  ]
}