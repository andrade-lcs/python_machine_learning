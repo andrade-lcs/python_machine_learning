{
  "nbformat": 4,
  "nbformat_minor": 0,
  "metadata": {
    "colab": {
      "name": "validação_cruzada_stratifield_naives_bayes_cred_data.ipynb",
      "provenance": [],
      "authorship_tag": "ABX9TyNAQjpd7zPjo0k3D8qwBAzX"
    },
    "kernelspec": {
      "name": "python3",
      "display_name": "Python 3"
    }
  },
  "cells": [
    {
      "cell_type": "code",
      "metadata": {
        "id": "HTqXDEEWc9Hl"
      },
      "source": [
        "import pandas as pd\n",
        "import numpy as np"
      ],
      "execution_count": 1,
      "outputs": []
    },
    {
      "cell_type": "markdown",
      "metadata": {
        "id": "xehNSauEdueh"
      },
      "source": [
        "Importação de Banco de dados"
      ]
    },
    {
      "cell_type": "code",
      "metadata": {
        "id": "uueSwgrxdf2Z"
      },
      "source": [
        "base = pd.read_csv('credit_data.csv')\n",
        "base.loc[base.age < 0, 'age'] = 40.92\n",
        "               \n",
        "previsores = base.iloc[:, 1:4].values\n",
        "classe = base.iloc[:, 4].values"
      ],
      "execution_count": 2,
      "outputs": []
    },
    {
      "cell_type": "markdown",
      "metadata": {
        "id": "Qfegwg_EdzbL"
      },
      "source": [
        "Tratando valores faltantes"
      ]
    },
    {
      "cell_type": "code",
      "metadata": {
        "id": "dirfZKGtdjaq"
      },
      "source": [
        "from sklearn.impute import SimpleImputer\n",
        "imputer = SimpleImputer(missing_values = np.nan, strategy = 'mean')\n",
        "imputer = imputer.fit(previsores[:, 1:4])\n",
        "previsores[:, 1:4] = imputer.transform(previsores[:, 1:4])"
      ],
      "execution_count": 3,
      "outputs": []
    },
    {
      "cell_type": "markdown",
      "metadata": {
        "id": "R2hTsgfAd3rx"
      },
      "source": [
        "Padronizando os valores"
      ]
    },
    {
      "cell_type": "code",
      "metadata": {
        "id": "i6WQBzXPdlYC"
      },
      "source": [
        "from sklearn.preprocessing import StandardScaler\n",
        "scaler = StandardScaler()\n",
        "previsores = scaler.fit_transform(previsores)"
      ],
      "execution_count": 4,
      "outputs": []
    },
    {
      "cell_type": "markdown",
      "metadata": {
        "id": "0ExmLlAuO8y3"
      },
      "source": [
        "Treinamento Naives Bayes"
      ]
    },
    {
      "cell_type": "code",
      "metadata": {
        "id": "UAp_G34xdqGC"
      },
      "source": [
        "from sklearn.naive_bayes import GaussianNB"
      ],
      "execution_count": 5,
      "outputs": []
    },
    {
      "cell_type": "markdown",
      "metadata": {
        "id": "N6tgBy3j9uuk"
      },
      "source": [
        "Vaidação da base de dados"
      ]
    },
    {
      "cell_type": "code",
      "metadata": {
        "id": "_2aBOrKXRRpC"
      },
      "source": [
        "from sklearn.model_selection import StratifiedKFold\n",
        "from sklearn.metrics import accuracy_score"
      ],
      "execution_count": 6,
      "outputs": []
    },
    {
      "cell_type": "code",
      "metadata": {
        "id": "0ojgtGCHRibB",
        "colab": {
          "base_uri": "https://localhost:8080/"
        },
        "outputId": "edbb0cde-fe83-47a6-d905-edcead14a6a1"
      },
      "source": [
        "resultados_30 = []\n",
        "for i in range(30):\n",
        "    kfold = StratifiedKFold(n_splits=10, shuffle=True, random_state=i)\n",
        "    resultados_i = []\n",
        "    for indice_treinamento, indice_teste in kfold.split(previsores, np.zeros(shape=(previsores.shape[0], 1))):\n",
        "        classificador = GaussianNB()\n",
        "        classificador.fit(previsores[indice_treinamento], classe[indice_treinamento])\n",
        "        previsoes = classificador.predict(previsores[indice_teste])\n",
        "        precisao = accuracy_score(classe[indice_teste], previsoes)\n",
        "        resultados_i.append(precisao)\n",
        "    resultados_i = np.array(resultados_i)\n",
        "    media = resultados_i.mean()\n",
        "    resultados_30.append(media)\n",
        "resultados_30 = np.array(resultados_30)\n",
        "for i in range(resultados_30.size):\n",
        "    print(str(resultados_30[i]).replace('.',','))"
      ],
      "execution_count": 7,
      "outputs": [
        {
          "output_type": "stream",
          "text": [
            "0,9254999999999999\n",
            "0,9245000000000001\n",
            "0,9255000000000001\n",
            "0,925\n",
            "0,9259999999999999\n",
            "0,9250000000000002\n",
            "0,9259999999999999\n",
            "0,9254999999999999\n",
            "0,9265000000000001\n",
            "0,9255000000000001\n",
            "0,925\n",
            "0,9254999999999999\n",
            "0,9259999999999999\n",
            "0,9254999999999999\n",
            "0,9264999999999999\n",
            "0,9259999999999999\n",
            "0,9245000000000001\n",
            "0,9269999999999999\n",
            "0,9255000000000001\n",
            "0,9265000000000001\n",
            "0,9259999999999999\n",
            "0,925\n",
            "0,9270000000000002\n",
            "0,9270000000000002\n",
            "0,9254999999999999\n",
            "0,9255000000000001\n",
            "0,925\n",
            "0,9269999999999999\n",
            "0,9254999999999999\n",
            "0,9259999999999999\n"
          ],
          "name": "stdout"
        }
      ]
    },
    {
      "cell_type": "code",
      "metadata": {
        "id": "8mWdhVd3EOBQ"
      },
      "source": [
        ""
      ],
      "execution_count": 7,
      "outputs": []
    }
  ]
}