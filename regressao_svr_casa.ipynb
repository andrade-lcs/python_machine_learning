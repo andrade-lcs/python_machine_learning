{
  "nbformat": 4,
  "nbformat_minor": 0,
  "metadata": {
    "colab": {
      "name": "regressao_svr_casa.ipynb",
      "provenance": [],
      "authorship_tag": "ABX9TyMJ4rKOydPjFnSyv988/iTH"
    },
    "kernelspec": {
      "name": "python3",
      "display_name": "Python 3"
    }
  },
  "cells": [
    {
      "cell_type": "markdown",
      "metadata": {
        "id": "T_Qy0mr5TQBN"
      },
      "source": [
        "Montando dataframe"
      ]
    },
    {
      "cell_type": "code",
      "metadata": {
        "id": "JuYddin9S4q-"
      },
      "source": [
        "import pandas as pd"
      ],
      "execution_count": 14,
      "outputs": []
    },
    {
      "cell_type": "code",
      "metadata": {
        "id": "Q_Najr02THuJ"
      },
      "source": [
        "base = pd.read_csv('house_prices.csv')"
      ],
      "execution_count": 15,
      "outputs": []
    },
    {
      "cell_type": "code",
      "metadata": {
        "id": "_aUNAdbOTTrk"
      },
      "source": [
        "x = base.iloc[:, 3:19].values\n",
        "y = base.iloc[:, 2:3].values"
      ],
      "execution_count": 16,
      "outputs": []
    },
    {
      "cell_type": "markdown",
      "metadata": {
        "id": "0Yl6XmWYO84L"
      },
      "source": [
        "Pré-processamento dos dados"
      ]
    },
    {
      "cell_type": "code",
      "metadata": {
        "id": "x014dkJ-EsGX"
      },
      "source": [
        "from sklearn.preprocessing import StandardScaler\r\n",
        "scaler_x = StandardScaler()\r\n",
        "x = scaler_x.fit_transform(x)\r\n",
        "scaler_y = StandardScaler()\r\n",
        "y = scaler_y.fit_transform(y)"
      ],
      "execution_count": 17,
      "outputs": []
    },
    {
      "cell_type": "markdown",
      "metadata": {
        "id": "Z2u-zV5KU5H2"
      },
      "source": [
        "Divisão de dataframe em teste e treinamento"
      ]
    },
    {
      "cell_type": "code",
      "metadata": {
        "id": "vpjWQfqyTkvh"
      },
      "source": [
        "from sklearn.model_selection import train_test_split\n",
        "x_trein, x_teste, y_trein, y_teste = train_test_split(x, y, test_size=0.3, random_state=0)"
      ],
      "execution_count": 18,
      "outputs": []
    },
    {
      "cell_type": "markdown",
      "metadata": {
        "id": "F3_Cgi70U9h7"
      },
      "source": [
        "Regressão kernel linear"
      ]
    },
    {
      "cell_type": "code",
      "metadata": {
        "id": "3jereyo9Uwih",
        "colab": {
          "base_uri": "https://localhost:8080/"
        },
        "outputId": "a112ae28-2944-4634-c2cc-2ca730ea5977"
      },
      "source": [
        "from sklearn.svm import SVR\n",
        "regressor_linear = SVR(kernel='linear')\n",
        "regressor_linear.fit(x_trein, y_trein)"
      ],
      "execution_count": 19,
      "outputs": [
        {
          "output_type": "stream",
          "text": [
            "/usr/local/lib/python3.7/dist-packages/sklearn/utils/validation.py:760: DataConversionWarning: A column-vector y was passed when a 1d array was expected. Please change the shape of y to (n_samples, ), for example using ravel().\n",
            "  y = column_or_1d(y, warn=True)\n"
          ],
          "name": "stderr"
        },
        {
          "output_type": "execute_result",
          "data": {
            "text/plain": [
              "SVR(C=1.0, cache_size=200, coef0=0.0, degree=3, epsilon=0.1, gamma='scale',\n",
              "    kernel='linear', max_iter=-1, shrinking=True, tol=0.001, verbose=False)"
            ]
          },
          "metadata": {
            "tags": []
          },
          "execution_count": 19
        }
      ]
    },
    {
      "cell_type": "code",
      "metadata": {
        "colab": {
          "base_uri": "https://localhost:8080/"
        },
        "id": "l9e8fZKgV3I7",
        "outputId": "9fab888c-2159-43ac-f529-e4784f218668"
      },
      "source": [
        "regressor_linear.score(x_trein, y_trein)"
      ],
      "execution_count": 20,
      "outputs": [
        {
          "output_type": "execute_result",
          "data": {
            "text/plain": [
              "0.6662175463998264"
            ]
          },
          "metadata": {
            "tags": []
          },
          "execution_count": 20
        }
      ]
    },
    {
      "cell_type": "code",
      "metadata": {
        "id": "d63m7dSpReWd"
      },
      "source": [
        "previsoes = regressor_linear.predict(x_teste)\r\n",
        "y_teste = scaler_y.inverse_transform(y_teste)\r\n",
        "previsoes = scaler_y.inverse_transform(previsoes)"
      ],
      "execution_count": 21,
      "outputs": []
    },
    {
      "cell_type": "code",
      "metadata": {
        "colab": {
          "base_uri": "https://localhost:8080/"
        },
        "id": "7QwyAfG4Qi5V",
        "outputId": "fa51cdd6-2055-441e-fa1c-89146204f096"
      },
      "source": [
        "from sklearn.metrics import mean_absolute_error\r\n",
        "mae = mean_absolute_error(y_teste, previsoes)\r\n",
        "mae"
      ],
      "execution_count": 22,
      "outputs": [
        {
          "output_type": "execute_result",
          "data": {
            "text/plain": [
              "116138.08002030628"
            ]
          },
          "metadata": {
            "tags": []
          },
          "execution_count": 22
        }
      ]
    },
    {
      "cell_type": "markdown",
      "metadata": {
        "id": "ogP6RbzjP_tT"
      },
      "source": [
        "Regressão kernel polinomial"
      ]
    },
    {
      "cell_type": "code",
      "metadata": {
        "id": "42T2MqbKWMiR",
        "colab": {
          "base_uri": "https://localhost:8080/"
        },
        "outputId": "09bc14ed-b8c2-4f40-f3ff-957673fe6570"
      },
      "source": [
        "regressor_poly = SVR(kernel='poly', degree=3)\r\n",
        "regressor_poly.fit(x_trein, y_trein)"
      ],
      "execution_count": 23,
      "outputs": [
        {
          "output_type": "stream",
          "text": [
            "/usr/local/lib/python3.7/dist-packages/sklearn/utils/validation.py:760: DataConversionWarning: A column-vector y was passed when a 1d array was expected. Please change the shape of y to (n_samples, ), for example using ravel().\n",
            "  y = column_or_1d(y, warn=True)\n"
          ],
          "name": "stderr"
        },
        {
          "output_type": "execute_result",
          "data": {
            "text/plain": [
              "SVR(C=1.0, cache_size=200, coef0=0.0, degree=3, epsilon=0.1, gamma='scale',\n",
              "    kernel='poly', max_iter=-1, shrinking=True, tol=0.001, verbose=False)"
            ]
          },
          "metadata": {
            "tags": []
          },
          "execution_count": 23
        }
      ]
    },
    {
      "cell_type": "code",
      "metadata": {
        "colab": {
          "base_uri": "https://localhost:8080/"
        },
        "id": "PgQ0ErcJQDMA",
        "outputId": "70b3a374-2891-4a0e-841f-04873662ae42"
      },
      "source": [
        "regressor_poly.score(x_trein, y_trein)"
      ],
      "execution_count": 24,
      "outputs": [
        {
          "output_type": "execute_result",
          "data": {
            "text/plain": [
              "0.7765017791985178"
            ]
          },
          "metadata": {
            "tags": []
          },
          "execution_count": 24
        }
      ]
    },
    {
      "cell_type": "code",
      "metadata": {
        "colab": {
          "base_uri": "https://localhost:8080/"
        },
        "id": "i18dAeA4Q0Ly",
        "outputId": "2035f1f9-d6cb-4f3c-bffc-af7a054257cd"
      },
      "source": [
        "previsoes = regressor_poly.predict(x_teste)\r\n",
        "previsoes = scaler_y.inverse_transform(previsoes)\r\n",
        "mae = mean_absolute_error(y_teste, previsoes)\r\n",
        "mae"
      ],
      "execution_count": 25,
      "outputs": [
        {
          "output_type": "execute_result",
          "data": {
            "text/plain": [
              "113224.3082054683"
            ]
          },
          "metadata": {
            "tags": []
          },
          "execution_count": 25
        }
      ]
    },
    {
      "cell_type": "markdown",
      "metadata": {
        "id": "PEiHzCwIRAKm"
      },
      "source": [
        "Regressão kernel RBF"
      ]
    },
    {
      "cell_type": "code",
      "metadata": {
        "colab": {
          "base_uri": "https://localhost:8080/"
        },
        "id": "Uf4m4E0nQJSe",
        "outputId": "7d3e1e0d-e5cf-4161-fa25-681d4f739fa3"
      },
      "source": [
        "regressor_rbf = SVR(kernel='rbf')\r\n",
        "regressor_rbf.fit(x_trein, y_trein)"
      ],
      "execution_count": 26,
      "outputs": [
        {
          "output_type": "stream",
          "text": [
            "/usr/local/lib/python3.7/dist-packages/sklearn/utils/validation.py:760: DataConversionWarning: A column-vector y was passed when a 1d array was expected. Please change the shape of y to (n_samples, ), for example using ravel().\n",
            "  y = column_or_1d(y, warn=True)\n"
          ],
          "name": "stderr"
        },
        {
          "output_type": "execute_result",
          "data": {
            "text/plain": [
              "SVR(C=1.0, cache_size=200, coef0=0.0, degree=3, epsilon=0.1, gamma='scale',\n",
              "    kernel='rbf', max_iter=-1, shrinking=True, tol=0.001, verbose=False)"
            ]
          },
          "metadata": {
            "tags": []
          },
          "execution_count": 26
        }
      ]
    },
    {
      "cell_type": "code",
      "metadata": {
        "colab": {
          "base_uri": "https://localhost:8080/"
        },
        "id": "0H2llsoaQJG4",
        "outputId": "aa871665-e89f-4036-d08a-122057c5dd75"
      },
      "source": [
        "regressor_rbf.score(x_trein, y_trein)"
      ],
      "execution_count": 27,
      "outputs": [
        {
          "output_type": "execute_result",
          "data": {
            "text/plain": [
              "0.8123465093269253"
            ]
          },
          "metadata": {
            "tags": []
          },
          "execution_count": 27
        }
      ]
    },
    {
      "cell_type": "code",
      "metadata": {
        "colab": {
          "base_uri": "https://localhost:8080/"
        },
        "id": "g_GliKk1Q0ss",
        "outputId": "8e0483e9-3083-4835-d3bc-efbd14cc1f73"
      },
      "source": [
        "previsoes = regressor_rbf.predict(x_teste)\r\n",
        "previsoes = scaler_y.inverse_transform(previsoes)\r\n",
        "mae = mean_absolute_error(y_teste, previsoes)\r\n",
        "mae"
      ],
      "execution_count": 28,
      "outputs": [
        {
          "output_type": "execute_result",
          "data": {
            "text/plain": [
              "82486.05823058811"
            ]
          },
          "metadata": {
            "tags": []
          },
          "execution_count": 28
        }
      ]
    }
  ]
}