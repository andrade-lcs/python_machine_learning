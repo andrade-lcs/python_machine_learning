{
  "nbformat": 4,
  "nbformat_minor": 0,
  "metadata": {
    "colab": {
      "name": "scipy_hierarchy_exemplo.ipynb",
      "provenance": [],
      "authorship_tag": "ABX9TyN5bl3J4uHHCT/z3eDMy4dW"
    },
    "kernelspec": {
      "name": "python3",
      "display_name": "Python 3"
    }
  },
  "cells": [
    {
      "cell_type": "code",
      "metadata": {
        "id": "cwi8q9oPw1Aj"
      },
      "source": [
        "import numpy as np\r\n",
        "import matplotlib.pyplot as plt\r\n",
        "from scipy.cluster.hierarchy import dendrogram, linkage\r\n",
        "from sklearn.cluster import AgglomerativeClustering\r\n",
        "from sklearn.preprocessing import StandardScaler"
      ],
      "execution_count": 4,
      "outputs": []
    },
    {
      "cell_type": "code",
      "metadata": {
        "colab": {
          "base_uri": "https://localhost:8080/",
          "height": 282
        },
        "id": "nXEkmMgcxW_S",
        "outputId": "cda19f5f-a8fe-42b2-dcef-0a7d38686243"
      },
      "source": [
        "x = [20,  27,  21,  37,  46, 53, 55,  47,  52,  32,  39,  41,  39,  48,  48]  \r\n",
        "y = [1000,1200,2900,1850,900,950,2000,2100,3000,5900,4100,5100,7000,5000,6500] \r\n",
        "plt.scatter(x, y)"
      ],
      "execution_count": 2,
      "outputs": [
        {
          "output_type": "execute_result",
          "data": {
            "text/plain": [
              "<matplotlib.collections.PathCollection at 0x7f71f1884390>"
            ]
          },
          "metadata": {
            "tags": []
          },
          "execution_count": 2
        },
        {
          "output_type": "display_data",
          "data": {
            "image/png": "[encoded data removed]",
            "text/plain": [
              "<Figure size 432x288 with 1 Axes>"
            ]
          },
          "metadata": {
            "tags": [],
            "needs_background": "light"
          }
        }
      ]
    },
    {
      "cell_type": "code",
      "metadata": {
        "id": "jnzKB01Cxrj_"
      },
      "source": [
        "base = np.array([[20,1000],[27,1200],[21,2900],[37,1850],[46,900],\r\n",
        "                 [53,950],[55,2000],[47,2100],[52,3000],[32,5900],\r\n",
        "                 [39,4100],[41,5100],[39,7000],[48,5000],[48,6500]])"
      ],
      "execution_count": 5,
      "outputs": []
    },
    {
      "cell_type": "code",
      "metadata": {
        "id": "3YZjZRQox8Qq"
      },
      "source": [
        "scaler = StandardScaler()\r\n",
        "base = scaler.fit_transform(base)"
      ],
      "execution_count": 7,
      "outputs": []
    },
    {
      "cell_type": "code",
      "metadata": {
        "colab": {
          "base_uri": "https://localhost:8080/",
          "height": 315
        },
        "id": "CgMhXyEFySZe",
        "outputId": "baeda87d-e0f3-44d9-d50f-0499fb3f041f"
      },
      "source": [
        "dendograma = dendrogram(linkage(base, method='ward'))\r\n",
        "plt.title('Dendograma')\r\n",
        "plt.xlabel('Pessoas')\r\n",
        "plt.ylabel('Distância Euclidiana')"
      ],
      "execution_count": 8,
      "outputs": [
        {
          "output_type": "execute_result",
          "data": {
            "text/plain": [
              "Text(0, 0.5, 'Distância Euclidiana')"
            ]
          },
          "metadata": {
            "tags": []
          },
          "execution_count": 8
        },
        {
          "output_type": "display_data",
          "data": {
            "image/png": "[encoded data removed]",
            "text/plain": [
              "<Figure size 432x288 with 1 Axes>"
            ]
          },
          "metadata": {
            "tags": [],
            "needs_background": "light"
          }
        }
      ]
    },
    {
      "cell_type": "code",
      "metadata": {
        "id": "lC1xIsaTzGrz"
      },
      "source": [
        "hc = AgglomerativeClustering(n_clusters=3, affinity='euclidean', linkage='ward')\r\n",
        "previsoes = hc.fit_predict(base)"
      ],
      "execution_count": 14,
      "outputs": []
    },
    {
      "cell_type": "code",
      "metadata": {
        "colab": {
          "base_uri": "https://localhost:8080/",
          "height": 296
        },
        "id": "HUCGU8kEz8xu",
        "outputId": "c02de13c-e1b5-4202-f1ee-c9dfe7f0c771"
      },
      "source": [
        "plt.scatter(base[previsoes == 0, 0], base[previsoes == 0, 1], s=100, c='red', label='Cluster - 1')\r\n",
        "plt.scatter(base[previsoes == 1, 0], base[previsoes == 1, 1], s=100, c='blue', label='Cluster - 2')\r\n",
        "plt.scatter(base[previsoes == 2, 0], base[previsoes == 2, 1], s=100, c='green', label='Cluster - 3')\r\n",
        "plt.xlabel('Idade')\r\n",
        "plt.ylabel('Salario')\r\n",
        "plt.legend()"
      ],
      "execution_count": 15,
      "outputs": [
        {
          "output_type": "execute_result",
          "data": {
            "text/plain": [
              "<matplotlib.legend.Legend at 0x7f71e8e77c10>"
            ]
          },
          "metadata": {
            "tags": []
          },
          "execution_count": 15
        },
        {
          "output_type": "display_data",
          "data": {
            "image/png": "[encoded data removed]",
            "text/plain": [
              "<Figure size 432x288 with 1 Axes>"
            ]
          },
          "metadata": {
            "tags": [],
            "needs_background": "light"
          }
        }
      ]
    },
    {
      "cell_type": "code",
      "metadata": {
        "id": "z4b6flMw0Gcu"
      },
      "source": [
        " "
      ],
      "execution_count": null,
      "outputs": []
    }
  ]
}