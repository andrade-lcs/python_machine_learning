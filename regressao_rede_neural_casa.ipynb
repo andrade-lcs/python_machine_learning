{
  "nbformat": 4,
  "nbformat_minor": 0,
  "metadata": {
    "colab": {
      "name": "regressao_rede-neural_casa.ipynb",
      "provenance": [],
      "authorship_tag": "ABX9TyNkG4q6GELqy8UV7n0PcbVJ"
    },
    "kernelspec": {
      "name": "python3",
      "display_name": "Python 3"
    }
  },
  "cells": [
    {
      "cell_type": "markdown",
      "metadata": {
        "id": "T_Qy0mr5TQBN"
      },
      "source": [
        "Montando dataframe"
      ]
    },
    {
      "cell_type": "code",
      "metadata": {
        "id": "JuYddin9S4q-"
      },
      "source": [
        "import pandas as pd"
      ],
      "execution_count": 1,
      "outputs": []
    },
    {
      "cell_type": "code",
      "metadata": {
        "id": "Q_Najr02THuJ"
      },
      "source": [
        "base = pd.read_csv('house_prices.csv')"
      ],
      "execution_count": 2,
      "outputs": []
    },
    {
      "cell_type": "code",
      "metadata": {
        "id": "_aUNAdbOTTrk"
      },
      "source": [
        "x = base.iloc[:, 3:19].values\n",
        "y = base.iloc[:, 2:3].values"
      ],
      "execution_count": 3,
      "outputs": []
    },
    {
      "cell_type": "markdown",
      "metadata": {
        "id": "0Yl6XmWYO84L"
      },
      "source": [
        "Pré-processamento dos dados"
      ]
    },
    {
      "cell_type": "code",
      "metadata": {
        "id": "x014dkJ-EsGX"
      },
      "source": [
        "from sklearn.preprocessing import StandardScaler\r\n",
        "scaler_x = StandardScaler()\r\n",
        "x = scaler_x.fit_transform(x)\r\n",
        "scaler_y = StandardScaler()\r\n",
        "y = scaler_y.fit_transform(y)"
      ],
      "execution_count": 4,
      "outputs": []
    },
    {
      "cell_type": "markdown",
      "metadata": {
        "id": "Z2u-zV5KU5H2"
      },
      "source": [
        "Divisão de dataframe em teste e treinamento"
      ]
    },
    {
      "cell_type": "code",
      "metadata": {
        "id": "vpjWQfqyTkvh"
      },
      "source": [
        "from sklearn.model_selection import train_test_split\n",
        "x_trein, x_teste, y_trein, y_teste = train_test_split(x, y, test_size=0.3, random_state=0)"
      ],
      "execution_count": 5,
      "outputs": []
    },
    {
      "cell_type": "markdown",
      "metadata": {
        "id": "F3_Cgi70U9h7"
      },
      "source": [
        "Regressão Rede Neural"
      ]
    },
    {
      "cell_type": "code",
      "metadata": {
        "id": "3jereyo9Uwih",
        "colab": {
          "base_uri": "https://localhost:8080/"
        },
        "outputId": "44156e50-948b-45d1-f5db-63610caf3a9e"
      },
      "source": [
        "from sklearn.neural_network import MLPRegressor\n",
        "regressor = MLPRegressor(hidden_layer_sizes = (9,9)) #16(entradas)+1(saida)/2 = 8,5->9\n",
        "regressor.fit(x_trein, y_trein)"
      ],
      "execution_count": 6,
      "outputs": [
        {
          "output_type": "stream",
          "text": [
            "/usr/local/lib/python3.7/dist-packages/sklearn/neural_network/_multilayer_perceptron.py:1342: DataConversionWarning: A column-vector y was passed when a 1d array was expected. Please change the shape of y to (n_samples, ), for example using ravel().\n",
            "  y = column_or_1d(y, warn=True)\n"
          ],
          "name": "stderr"
        },
        {
          "output_type": "execute_result",
          "data": {
            "text/plain": [
              "MLPRegressor(activation='relu', alpha=0.0001, batch_size='auto', beta_1=0.9,\n",
              "             beta_2=0.999, early_stopping=False, epsilon=1e-08,\n",
              "             hidden_layer_sizes=(9, 9), learning_rate='constant',\n",
              "             learning_rate_init=0.001, max_fun=15000, max_iter=200,\n",
              "             momentum=0.9, n_iter_no_change=10, nesterovs_momentum=True,\n",
              "             power_t=0.5, random_state=None, shuffle=True, solver='adam',\n",
              "             tol=0.0001, validation_fraction=0.1, verbose=False,\n",
              "             warm_start=False)"
            ]
          },
          "metadata": {
            "tags": []
          },
          "execution_count": 6
        }
      ]
    },
    {
      "cell_type": "code",
      "metadata": {
        "colab": {
          "base_uri": "https://localhost:8080/"
        },
        "id": "l9e8fZKgV3I7",
        "outputId": "7d04d984-82fc-4567-ad4a-5435aead9a23"
      },
      "source": [
        "regressor.score(x_trein, y_trein)"
      ],
      "execution_count": 7,
      "outputs": [
        {
          "output_type": "execute_result",
          "data": {
            "text/plain": [
              "0.8956993456860285"
            ]
          },
          "metadata": {
            "tags": []
          },
          "execution_count": 7
        }
      ]
    },
    {
      "cell_type": "code",
      "metadata": {
        "id": "d63m7dSpReWd"
      },
      "source": [
        "previsoes = regressor.predict(x_teste)\r\n",
        "y_teste = scaler_y.inverse_transform(y_teste)\r\n",
        "previsoes = scaler_y.inverse_transform(previsoes)"
      ],
      "execution_count": 8,
      "outputs": []
    },
    {
      "cell_type": "code",
      "metadata": {
        "colab": {
          "base_uri": "https://localhost:8080/"
        },
        "id": "7QwyAfG4Qi5V",
        "outputId": "19bf84e8-19f9-4cd7-f425-194ac851945a"
      },
      "source": [
        "from sklearn.metrics import mean_absolute_error\r\n",
        "mae = mean_absolute_error(y_teste, previsoes)\r\n",
        "mae"
      ],
      "execution_count": 9,
      "outputs": [
        {
          "output_type": "execute_result",
          "data": {
            "text/plain": [
              "73928.75785920346"
            ]
          },
          "metadata": {
            "tags": []
          },
          "execution_count": 9
        }
      ]
    }
  ]
}