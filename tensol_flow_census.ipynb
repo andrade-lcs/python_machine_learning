{
  "nbformat": 4,
  "nbformat_minor": 0,
  "metadata": {
    "colab": {
      "name": "tensol_flow_census.ipynb",
      "provenance": [],
      "authorship_tag": "ABX9TyOKuPk+2to8Lslkq1jU6I6R"
    },
    "kernelspec": {
      "name": "python3",
      "display_name": "Python 3"
    }
  },
  "cells": [
    {
      "cell_type": "code",
      "metadata": {
        "colab": {
          "base_uri": "https://localhost:8080/"
        },
        "id": "XBygMAO3DQtG",
        "outputId": "4e6188b3-93f2-4753-c109-a3e13a27fd28"
      },
      "source": [
        "!pip install tensorflow\r\n",
        "!pip install keras"
      ],
      "execution_count": 1,
      "outputs": [
        {
          "output_type": "stream",
          "text": [
            "Requirement already satisfied: tensorflow in /usr/local/lib/python3.6/dist-packages (2.4.1)\n",
            "Requirement already satisfied: typing-extensions~=3.7.4 in /usr/local/lib/python3.6/dist-packages (from tensorflow) (3.7.4.3)\n",
            "Requirement already satisfied: gast==0.3.3 in /usr/local/lib/python3.6/dist-packages (from tensorflow) (0.3.3)\n",
            "Requirement already satisfied: grpcio~=1.32.0 in /usr/local/lib/python3.6/dist-packages (from tensorflow) (1.32.0)\n",
            "Requirement already satisfied: h5py~=2.10.0 in /usr/local/lib/python3.6/dist-packages (from tensorflow) (2.10.0)\n",
            "Requirement already satisfied: flatbuffers~=1.12.0 in /usr/local/lib/python3.6/dist-packages (from tensorflow) (1.12)\n",
            "Requirement already satisfied: opt-einsum~=3.3.0 in /usr/local/lib/python3.6/dist-packages (from tensorflow) (3.3.0)\n",
            "Requirement already satisfied: astunparse~=1.6.3 in /usr/local/lib/python3.6/dist-packages (from tensorflow) (1.6.3)\n",
            "Requirement already satisfied: protobuf>=3.9.2 in /usr/local/lib/python3.6/dist-packages (from tensorflow) (3.12.4)\n",
            "Requirement already satisfied: numpy~=1.19.2 in /usr/local/lib/python3.6/dist-packages (from tensorflow) (1.19.5)\n",
            "Requirement already satisfied: absl-py~=0.10 in /usr/local/lib/python3.6/dist-packages (from tensorflow) (0.10.0)\n",
            "Requirement already satisfied: wheel~=0.35 in /usr/local/lib/python3.6/dist-packages (from tensorflow) (0.36.2)\n",
            "Requirement already satisfied: keras-preprocessing~=1.1.2 in /usr/local/lib/python3.6/dist-packages (from tensorflow) (1.1.2)\n",
            "Requirement already satisfied: tensorflow-estimator<2.5.0,>=2.4.0 in /usr/local/lib/python3.6/dist-packages (from tensorflow) (2.4.0)\n",
            "Requirement already satisfied: tensorboard~=2.4 in /usr/local/lib/python3.6/dist-packages (from tensorflow) (2.4.1)\n",
            "Requirement already satisfied: wrapt~=1.12.1 in /usr/local/lib/python3.6/dist-packages (from tensorflow) (1.12.1)\n",
            "Requirement already satisfied: termcolor~=1.1.0 in /usr/local/lib/python3.6/dist-packages (from tensorflow) (1.1.0)\n",
            "Requirement already satisfied: six~=1.15.0 in /usr/local/lib/python3.6/dist-packages (from tensorflow) (1.15.0)\n",
            "Requirement already satisfied: google-pasta~=0.2 in /usr/local/lib/python3.6/dist-packages (from tensorflow) (0.2.0)\n",
            "Requirement already satisfied: setuptools in /usr/local/lib/python3.6/dist-packages (from protobuf>=3.9.2->tensorflow) (53.0.0)\n",
            "Requirement already satisfied: google-auth<2,>=1.6.3 in /usr/local/lib/python3.6/dist-packages (from tensorboard~=2.4->tensorflow) (1.25.0)\n",
            "Requirement already satisfied: markdown>=2.6.8 in /usr/local/lib/python3.6/dist-packages (from tensorboard~=2.4->tensorflow) (3.3.3)\n",
            "Requirement already satisfied: requests<3,>=2.21.0 in /usr/local/lib/python3.6/dist-packages (from tensorboard~=2.4->tensorflow) (2.23.0)\n",
            "Requirement already satisfied: google-auth-oauthlib<0.5,>=0.4.1 in /usr/local/lib/python3.6/dist-packages (from tensorboard~=2.4->tensorflow) (0.4.2)\n",
            "Requirement already satisfied: werkzeug>=0.11.15 in /usr/local/lib/python3.6/dist-packages (from tensorboard~=2.4->tensorflow) (1.0.1)\n",
            "Requirement already satisfied: tensorboard-plugin-wit>=1.6.0 in /usr/local/lib/python3.6/dist-packages (from tensorboard~=2.4->tensorflow) (1.8.0)\n",
            "Requirement already satisfied: pyasn1-modules>=0.2.1 in /usr/local/lib/python3.6/dist-packages (from google-auth<2,>=1.6.3->tensorboard~=2.4->tensorflow) (0.2.8)\n",
            "Requirement already satisfied: cachetools<5.0,>=2.0.0 in /usr/local/lib/python3.6/dist-packages (from google-auth<2,>=1.6.3->tensorboard~=2.4->tensorflow) (4.2.1)\n",
            "Requirement already satisfied: rsa<5,>=3.1.4; python_version >= \"3.6\" in /usr/local/lib/python3.6/dist-packages (from google-auth<2,>=1.6.3->tensorboard~=2.4->tensorflow) (4.7)\n",
            "Requirement already satisfied: importlib-metadata; python_version < \"3.8\" in /usr/local/lib/python3.6/dist-packages (from markdown>=2.6.8->tensorboard~=2.4->tensorflow) (3.4.0)\n",
            "Requirement already satisfied: chardet<4,>=3.0.2 in /usr/local/lib/python3.6/dist-packages (from requests<3,>=2.21.0->tensorboard~=2.4->tensorflow) (3.0.4)\n",
            "Requirement already satisfied: idna<3,>=2.5 in /usr/local/lib/python3.6/dist-packages (from requests<3,>=2.21.0->tensorboard~=2.4->tensorflow) (2.10)\n",
            "Requirement already satisfied: certifi>=2017.4.17 in /usr/local/lib/python3.6/dist-packages (from requests<3,>=2.21.0->tensorboard~=2.4->tensorflow) (2020.12.5)\n",
            "Requirement already satisfied: urllib3!=1.25.0,!=1.25.1,<1.26,>=1.21.1 in /usr/local/lib/python3.6/dist-packages (from requests<3,>=2.21.0->tensorboard~=2.4->tensorflow) (1.24.3)\n",
            "Requirement already satisfied: requests-oauthlib>=0.7.0 in /usr/local/lib/python3.6/dist-packages (from google-auth-oauthlib<0.5,>=0.4.1->tensorboard~=2.4->tensorflow) (1.3.0)\n",
            "Requirement already satisfied: pyasn1<0.5.0,>=0.4.6 in /usr/local/lib/python3.6/dist-packages (from pyasn1-modules>=0.2.1->google-auth<2,>=1.6.3->tensorboard~=2.4->tensorflow) (0.4.8)\n",
            "Requirement already satisfied: zipp>=0.5 in /usr/local/lib/python3.6/dist-packages (from importlib-metadata; python_version < \"3.8\"->markdown>=2.6.8->tensorboard~=2.4->tensorflow) (3.4.0)\n",
            "Requirement already satisfied: oauthlib>=3.0.0 in /usr/local/lib/python3.6/dist-packages (from requests-oauthlib>=0.7.0->google-auth-oauthlib<0.5,>=0.4.1->tensorboard~=2.4->tensorflow) (3.1.0)\n",
            "Requirement already satisfied: keras in /usr/local/lib/python3.6/dist-packages (2.4.3)\n",
            "Requirement already satisfied: scipy>=0.14 in /usr/local/lib/python3.6/dist-packages (from keras) (1.4.1)\n",
            "Requirement already satisfied: h5py in /usr/local/lib/python3.6/dist-packages (from keras) (2.10.0)\n",
            "Requirement already satisfied: pyyaml in /usr/local/lib/python3.6/dist-packages (from keras) (3.13)\n",
            "Requirement already satisfied: numpy>=1.9.1 in /usr/local/lib/python3.6/dist-packages (from keras) (1.19.5)\n",
            "Requirement already satisfied: six in /usr/local/lib/python3.6/dist-packages (from h5py->keras) (1.15.0)\n"
          ],
          "name": "stdout"
        }
      ]
    },
    {
      "cell_type": "code",
      "metadata": {
        "id": "z20poExQzaeJ"
      },
      "source": [
        "import pandas as pd\n",
        "\n",
        "base = pd.read_csv('census.csv')"
      ],
      "execution_count": 2,
      "outputs": []
    },
    {
      "cell_type": "markdown",
      "metadata": {
        "id": "REAkvnfQUMuV"
      },
      "source": [
        "Transfomação de variáveis categóricas"
      ]
    },
    {
      "cell_type": "code",
      "metadata": {
        "id": "nv230P_06ATS"
      },
      "source": [
        "previsores = base.iloc[:, 0:14].values\r\n",
        "classe = base.iloc[:, 14].values"
      ],
      "execution_count": 3,
      "outputs": []
    },
    {
      "cell_type": "code",
      "metadata": {
        "id": "oMd3j3mq76P5"
      },
      "source": [
        "from sklearn.preprocessing import LabelEncoder, OneHotEncoder\n",
        "from sklearn.compose import ColumnTransformer"
      ],
      "execution_count": 4,
      "outputs": []
    },
    {
      "cell_type": "code",
      "metadata": {
        "id": "3w3fPejK8S61"
      },
      "source": [
        "labelencoder_previsores = LabelEncoder()\r\n",
        "previsores[:, 1] = labelencoder_previsores.fit_transform(previsores[:,1])\r\n",
        "previsores[:, 3] = labelencoder_previsores.fit_transform(previsores[:,3])\r\n",
        "previsores[:, 5] = labelencoder_previsores.fit_transform(previsores[:,5])\r\n",
        "previsores[:, 6] = labelencoder_previsores.fit_transform(previsores[:,6])\r\n",
        "previsores[:, 7] = labelencoder_previsores.fit_transform(previsores[:,7])\r\n",
        "previsores[:, 8] = labelencoder_previsores.fit_transform(previsores[:,8])\r\n",
        "previsores[:, 9] = labelencoder_previsores.fit_transform(previsores[:,9])\r\n",
        "previsores[:, 13] = labelencoder_previsores.fit_transform(previsores[:,13])"
      ],
      "execution_count": 5,
      "outputs": []
    },
    {
      "cell_type": "code",
      "metadata": {
        "id": "C9IRFqJ59P_o"
      },
      "source": [
        "onehotencorder = ColumnTransformer(transformers=[(\"OneHot\", OneHotEncoder(), [1,3,5,6,7,8,9,13])],remainder='passthrough')\n",
        "previsores = onehotencorder.fit_transform(previsores).toarray()"
      ],
      "execution_count": 6,
      "outputs": []
    },
    {
      "cell_type": "code",
      "metadata": {
        "id": "12cTsvUaTjYV"
      },
      "source": [
        "labelencorder_classe = LabelEncoder()\n",
        "classe = labelencorder_classe.fit_transform(classe)"
      ],
      "execution_count": 7,
      "outputs": []
    },
    {
      "cell_type": "markdown",
      "metadata": {
        "id": "9TJCZzvwUGZQ"
      },
      "source": [
        "Escalonamento dos valoers numéricos"
      ]
    },
    {
      "cell_type": "code",
      "metadata": {
        "id": "n3XPVUp6TwDX"
      },
      "source": [
        "from sklearn.preprocessing import StandardScaler\r\n",
        "scaler = StandardScaler()"
      ],
      "execution_count": 8,
      "outputs": []
    },
    {
      "cell_type": "markdown",
      "metadata": {
        "id": "Yo75Z8X0XlUG"
      },
      "source": [
        ""
      ]
    },
    {
      "cell_type": "code",
      "metadata": {
        "id": "yxb6VFhPUsZ-"
      },
      "source": [
        "previsores = scaler.fit_transform(previsores)"
      ],
      "execution_count": 9,
      "outputs": []
    },
    {
      "cell_type": "code",
      "metadata": {
        "id": "C130M6zFUxBf"
      },
      "source": [
        "from sklearn.model_selection import train_test_split\n",
        "previsores_treinamento, previsores_teste, classe_treinamento, classe_teste =  train_test_split(previsores, classe, test_size=0.15, random_state=0)"
      ],
      "execution_count": 10,
      "outputs": []
    },
    {
      "cell_type": "markdown",
      "metadata": {
        "id": "GZy6HIS9UVQJ"
      },
      "source": [
        "Treinamento tensor flow\n",
        "\n"
      ]
    },
    {
      "cell_type": "code",
      "metadata": {
        "id": "4SiTJqMKniD1"
      },
      "source": [
        "import keras\n",
        "from keras.models import Sequential\n",
        "from keras.layers import Dense"
      ],
      "execution_count": 11,
      "outputs": []
    },
    {
      "cell_type": "code",
      "metadata": {
        "id": "kNrUUfBMS4zs"
      },
      "source": [
        "classificador = Sequential()\n",
        "classificador.add(Dense(units=55, activation='relu', input_dim=108))\n",
        "classificador.add(Dense(units=55, activation='relu'))\n",
        "classificador.add(Dense(units=1, activation='sigmoid'))\n",
        "classificador.compile(optimizer='adam', loss='binary_crossentropy', metrics=['accuracy'])"
      ],
      "execution_count": 12,
      "outputs": []
    },
    {
      "cell_type": "code",
      "metadata": {
        "colab": {
          "base_uri": "https://localhost:8080/"
        },
        "id": "nvrw_rIeUcI6",
        "outputId": "bbe6568a-5958-403d-8a7a-6f44bb2f4c0e"
      },
      "source": [
        "classificador.fit(previsores_treinamento, classe_treinamento, batch_size=10, epochs=100)"
      ],
      "execution_count": 13,
      "outputs": [
        {
          "output_type": "stream",
          "text": [
            "Epoch 1/100\n",
            "2768/2768 [==============================] - 4s 1ms/step - loss: 0.3756 - accuracy: 0.8275\n",
            "Epoch 2/100\n",
            "2768/2768 [==============================] - 3s 1ms/step - loss: 0.3121 - accuracy: 0.8561\n",
            "Epoch 3/100\n",
            "2768/2768 [==============================] - 3s 1ms/step - loss: 0.3085 - accuracy: 0.8565\n",
            "Epoch 4/100\n",
            "2768/2768 [==============================] - 3s 1ms/step - loss: 0.3021 - accuracy: 0.8603\n",
            "Epoch 5/100\n",
            "2768/2768 [==============================] - 3s 1ms/step - loss: 0.2970 - accuracy: 0.8611\n",
            "Epoch 6/100\n",
            "2768/2768 [==============================] - 3s 1ms/step - loss: 0.2936 - accuracy: 0.8656\n",
            "Epoch 7/100\n",
            "2768/2768 [==============================] - 3s 1ms/step - loss: 0.2825 - accuracy: 0.8690\n",
            "Epoch 8/100\n",
            "2768/2768 [==============================] - 3s 1ms/step - loss: 0.2806 - accuracy: 0.8707\n",
            "Epoch 9/100\n",
            "2768/2768 [==============================] - 3s 1ms/step - loss: 0.2811 - accuracy: 0.8671\n",
            "Epoch 10/100\n",
            "2768/2768 [==============================] - 3s 1ms/step - loss: 0.2771 - accuracy: 0.8693\n",
            "Epoch 11/100\n",
            "2768/2768 [==============================] - 3s 1ms/step - loss: 0.2746 - accuracy: 0.8712\n",
            "Epoch 12/100\n",
            "2768/2768 [==============================] - 3s 1ms/step - loss: 0.2703 - accuracy: 0.8719\n",
            "Epoch 13/100\n",
            "2768/2768 [==============================] - 3s 1ms/step - loss: 0.2674 - accuracy: 0.8763\n",
            "Epoch 14/100\n",
            "2768/2768 [==============================] - 3s 1ms/step - loss: 0.2540 - accuracy: 0.8829\n",
            "Epoch 15/100\n",
            "2768/2768 [==============================] - 3s 1ms/step - loss: 0.2616 - accuracy: 0.8773\n",
            "Epoch 16/100\n",
            "2768/2768 [==============================] - 3s 1ms/step - loss: 0.2539 - accuracy: 0.8820\n",
            "Epoch 17/100\n",
            "2768/2768 [==============================] - 3s 1ms/step - loss: 0.2494 - accuracy: 0.8815\n",
            "Epoch 18/100\n",
            "2768/2768 [==============================] - 3s 1ms/step - loss: 0.2450 - accuracy: 0.8848\n",
            "Epoch 19/100\n",
            "2768/2768 [==============================] - 3s 1ms/step - loss: 0.2396 - accuracy: 0.8851\n",
            "Epoch 20/100\n",
            "2768/2768 [==============================] - 3s 1ms/step - loss: 0.2386 - accuracy: 0.8915\n",
            "Epoch 21/100\n",
            "2768/2768 [==============================] - 3s 1ms/step - loss: 0.2379 - accuracy: 0.8875\n",
            "Epoch 22/100\n",
            "2768/2768 [==============================] - 3s 1ms/step - loss: 0.2349 - accuracy: 0.8895\n",
            "Epoch 23/100\n",
            "2768/2768 [==============================] - 3s 1ms/step - loss: 0.2364 - accuracy: 0.8883\n",
            "Epoch 24/100\n",
            "2768/2768 [==============================] - 3s 1ms/step - loss: 0.2328 - accuracy: 0.8906\n",
            "Epoch 25/100\n",
            "2768/2768 [==============================] - 3s 1ms/step - loss: 0.2270 - accuracy: 0.8951\n",
            "Epoch 26/100\n",
            "2768/2768 [==============================] - 3s 1ms/step - loss: 0.2235 - accuracy: 0.8942\n",
            "Epoch 27/100\n",
            "2768/2768 [==============================] - 3s 1ms/step - loss: 0.2235 - accuracy: 0.8946\n",
            "Epoch 28/100\n",
            "2768/2768 [==============================] - 3s 1ms/step - loss: 0.2143 - accuracy: 0.9000\n",
            "Epoch 29/100\n",
            "2768/2768 [==============================] - 3s 1ms/step - loss: 0.2133 - accuracy: 0.9030\n",
            "Epoch 30/100\n",
            "2768/2768 [==============================] - 3s 1ms/step - loss: 0.2128 - accuracy: 0.8997\n",
            "Epoch 31/100\n",
            "2768/2768 [==============================] - 3s 1ms/step - loss: 0.2136 - accuracy: 0.8990\n",
            "Epoch 32/100\n",
            "2768/2768 [==============================] - 3s 1ms/step - loss: 0.2133 - accuracy: 0.8999\n",
            "Epoch 33/100\n",
            "2768/2768 [==============================] - 3s 1ms/step - loss: 0.2073 - accuracy: 0.9023\n",
            "Epoch 34/100\n",
            "2768/2768 [==============================] - 3s 1ms/step - loss: 0.2130 - accuracy: 0.8980\n",
            "Epoch 35/100\n",
            "2768/2768 [==============================] - 3s 1ms/step - loss: 0.2071 - accuracy: 0.9039\n",
            "Epoch 36/100\n",
            "2768/2768 [==============================] - 3s 1ms/step - loss: 0.2049 - accuracy: 0.9036\n",
            "Epoch 37/100\n",
            "2768/2768 [==============================] - 3s 1ms/step - loss: 0.1988 - accuracy: 0.9097\n",
            "Epoch 38/100\n",
            "2768/2768 [==============================] - 3s 1ms/step - loss: 0.1981 - accuracy: 0.9067\n",
            "Epoch 39/100\n",
            "2768/2768 [==============================] - 3s 1ms/step - loss: 0.1972 - accuracy: 0.9078\n",
            "Epoch 40/100\n",
            "2768/2768 [==============================] - 3s 1ms/step - loss: 0.2022 - accuracy: 0.9046\n",
            "Epoch 41/100\n",
            "2768/2768 [==============================] - 3s 1ms/step - loss: 0.1935 - accuracy: 0.9116\n",
            "Epoch 42/100\n",
            "2768/2768 [==============================] - 3s 1ms/step - loss: 0.1932 - accuracy: 0.9104\n",
            "Epoch 43/100\n",
            "2768/2768 [==============================] - 3s 1ms/step - loss: 0.1965 - accuracy: 0.9081\n",
            "Epoch 44/100\n",
            "2768/2768 [==============================] - 4s 1ms/step - loss: 0.1938 - accuracy: 0.9097\n",
            "Epoch 45/100\n",
            "2768/2768 [==============================] - 3s 1ms/step - loss: 0.1906 - accuracy: 0.9108\n",
            "Epoch 46/100\n",
            "2768/2768 [==============================] - 4s 1ms/step - loss: 0.1913 - accuracy: 0.9097\n",
            "Epoch 47/100\n",
            "2768/2768 [==============================] - 3s 1ms/step - loss: 0.1896 - accuracy: 0.9141\n",
            "Epoch 48/100\n",
            "2768/2768 [==============================] - 3s 1ms/step - loss: 0.1921 - accuracy: 0.9095\n",
            "Epoch 49/100\n",
            "2768/2768 [==============================] - 3s 1ms/step - loss: 0.1876 - accuracy: 0.9125\n",
            "Epoch 50/100\n",
            "2768/2768 [==============================] - 3s 1ms/step - loss: 0.1870 - accuracy: 0.9134\n",
            "Epoch 51/100\n",
            "2768/2768 [==============================] - 3s 1ms/step - loss: 0.1822 - accuracy: 0.9145\n",
            "Epoch 52/100\n",
            "2768/2768 [==============================] - 3s 1ms/step - loss: 0.1824 - accuracy: 0.9142\n",
            "Epoch 53/100\n",
            "2768/2768 [==============================] - 3s 1ms/step - loss: 0.1857 - accuracy: 0.9123\n",
            "Epoch 54/100\n",
            "2768/2768 [==============================] - 3s 1ms/step - loss: 0.1832 - accuracy: 0.9152\n",
            "Epoch 55/100\n",
            "2768/2768 [==============================] - 3s 1ms/step - loss: 0.1806 - accuracy: 0.9158\n",
            "Epoch 56/100\n",
            "2768/2768 [==============================] - 3s 1ms/step - loss: 0.1767 - accuracy: 0.9172\n",
            "Epoch 57/100\n",
            "2768/2768 [==============================] - 3s 1ms/step - loss: 0.1809 - accuracy: 0.9151\n",
            "Epoch 58/100\n",
            "2768/2768 [==============================] - 3s 1ms/step - loss: 0.1816 - accuracy: 0.9148\n",
            "Epoch 59/100\n",
            "2768/2768 [==============================] - 3s 1ms/step - loss: 0.1760 - accuracy: 0.9192\n",
            "Epoch 60/100\n",
            "2768/2768 [==============================] - 3s 1ms/step - loss: 0.1737 - accuracy: 0.9194\n",
            "Epoch 61/100\n",
            "2768/2768 [==============================] - 3s 1ms/step - loss: 0.1739 - accuracy: 0.9189\n",
            "Epoch 62/100\n",
            "2768/2768 [==============================] - 3s 1ms/step - loss: 0.1767 - accuracy: 0.9173\n",
            "Epoch 63/100\n",
            "2768/2768 [==============================] - 3s 1ms/step - loss: 0.1702 - accuracy: 0.9211\n",
            "Epoch 64/100\n",
            "2768/2768 [==============================] - 3s 1ms/step - loss: 0.1676 - accuracy: 0.9218\n",
            "Epoch 65/100\n",
            "2768/2768 [==============================] - 4s 1ms/step - loss: 0.1772 - accuracy: 0.9161\n",
            "Epoch 66/100\n",
            "2768/2768 [==============================] - 4s 1ms/step - loss: 0.1762 - accuracy: 0.9190\n",
            "Epoch 67/100\n",
            "2768/2768 [==============================] - 3s 1ms/step - loss: 0.1705 - accuracy: 0.9204\n",
            "Epoch 68/100\n",
            "2768/2768 [==============================] - 3s 1ms/step - loss: 0.1685 - accuracy: 0.9233\n",
            "Epoch 69/100\n",
            "2768/2768 [==============================] - 3s 1ms/step - loss: 0.1737 - accuracy: 0.9188\n",
            "Epoch 70/100\n",
            "2768/2768 [==============================] - 3s 1ms/step - loss: 0.1714 - accuracy: 0.9200\n",
            "Epoch 71/100\n",
            "2768/2768 [==============================] - 3s 1ms/step - loss: 0.1678 - accuracy: 0.9234\n",
            "Epoch 72/100\n",
            "2768/2768 [==============================] - 3s 1ms/step - loss: 0.1691 - accuracy: 0.9207\n",
            "Epoch 73/100\n",
            "2768/2768 [==============================] - 3s 1ms/step - loss: 0.1674 - accuracy: 0.9229\n",
            "Epoch 74/100\n",
            "2768/2768 [==============================] - 3s 1ms/step - loss: 0.1650 - accuracy: 0.9234\n",
            "Epoch 75/100\n",
            "2768/2768 [==============================] - 3s 1ms/step - loss: 0.1688 - accuracy: 0.9200\n",
            "Epoch 76/100\n",
            "2768/2768 [==============================] - 3s 1ms/step - loss: 0.1618 - accuracy: 0.9251\n",
            "Epoch 77/100\n",
            "2768/2768 [==============================] - 3s 1ms/step - loss: 0.1640 - accuracy: 0.9235\n",
            "Epoch 78/100\n",
            "2768/2768 [==============================] - 3s 1ms/step - loss: 0.1670 - accuracy: 0.9234\n",
            "Epoch 79/100\n",
            "2768/2768 [==============================] - 3s 1ms/step - loss: 0.1647 - accuracy: 0.9245\n",
            "Epoch 80/100\n",
            "2768/2768 [==============================] - 3s 1ms/step - loss: 0.1635 - accuracy: 0.9234\n",
            "Epoch 81/100\n",
            "2768/2768 [==============================] - 3s 1ms/step - loss: 0.1626 - accuracy: 0.9246\n",
            "Epoch 82/100\n",
            "2768/2768 [==============================] - 3s 1ms/step - loss: 0.1605 - accuracy: 0.9258\n",
            "Epoch 83/100\n",
            "2768/2768 [==============================] - 3s 1ms/step - loss: 0.1624 - accuracy: 0.9273\n",
            "Epoch 84/100\n",
            "2768/2768 [==============================] - 3s 1ms/step - loss: 0.1567 - accuracy: 0.9281\n",
            "Epoch 85/100\n",
            "2768/2768 [==============================] - 3s 1ms/step - loss: 0.1622 - accuracy: 0.9262\n",
            "Epoch 86/100\n",
            "2768/2768 [==============================] - 3s 1ms/step - loss: 0.1625 - accuracy: 0.9248\n",
            "Epoch 87/100\n",
            "2768/2768 [==============================] - 3s 1ms/step - loss: 0.1565 - accuracy: 0.9268\n",
            "Epoch 88/100\n",
            "2768/2768 [==============================] - 3s 1ms/step - loss: 0.1578 - accuracy: 0.9271\n",
            "Epoch 89/100\n",
            "2768/2768 [==============================] - 3s 1ms/step - loss: 0.1582 - accuracy: 0.9279\n",
            "Epoch 90/100\n",
            "2768/2768 [==============================] - 3s 1ms/step - loss: 0.1574 - accuracy: 0.9259\n",
            "Epoch 91/100\n",
            "2768/2768 [==============================] - 6s 2ms/step - loss: 0.1561 - accuracy: 0.9274\n",
            "Epoch 92/100\n",
            "2768/2768 [==============================] - 6s 2ms/step - loss: 0.1549 - accuracy: 0.9284\n",
            "Epoch 93/100\n",
            "2768/2768 [==============================] - 3s 1ms/step - loss: 0.1557 - accuracy: 0.9282\n",
            "Epoch 94/100\n",
            "2768/2768 [==============================] - 3s 1ms/step - loss: 0.1564 - accuracy: 0.9293\n",
            "Epoch 95/100\n",
            "2768/2768 [==============================] - 3s 1ms/step - loss: 0.1546 - accuracy: 0.9270\n",
            "Epoch 96/100\n",
            "2768/2768 [==============================] - 3s 1ms/step - loss: 0.1562 - accuracy: 0.9276\n",
            "Epoch 97/100\n",
            "2768/2768 [==============================] - 3s 1ms/step - loss: 0.1540 - accuracy: 0.9289\n",
            "Epoch 98/100\n",
            "2768/2768 [==============================] - 3s 1ms/step - loss: 0.1515 - accuracy: 0.9296\n",
            "Epoch 99/100\n",
            "2768/2768 [==============================] - 3s 1ms/step - loss: 0.1532 - accuracy: 0.9305\n",
            "Epoch 100/100\n",
            "2768/2768 [==============================] - 3s 1ms/step - loss: 0.1520 - accuracy: 0.9299\n"
          ],
          "name": "stdout"
        },
        {
          "output_type": "execute_result",
          "data": {
            "text/plain": [
              "<tensorflow.python.keras.callbacks.History at 0x7f35f8e9e5f8>"
            ]
          },
          "metadata": {
            "tags": []
          },
          "execution_count": 13
        }
      ]
    },
    {
      "cell_type": "markdown",
      "metadata": {
        "id": "nK90iXOMUf2q"
      },
      "source": [
        "Resultado da previsão"
      ]
    },
    {
      "cell_type": "code",
      "metadata": {
        "id": "g3JFDrnGUgkq"
      },
      "source": [
        "previsoes = classificador.predict(previsores_teste)"
      ],
      "execution_count": 14,
      "outputs": []
    },
    {
      "cell_type": "code",
      "metadata": {
        "id": "34-4GsMfhPHT"
      },
      "source": [
        "previsoes = (previsoes > 0.5)"
      ],
      "execution_count": 15,
      "outputs": []
    },
    {
      "cell_type": "code",
      "metadata": {
        "colab": {
          "base_uri": "https://localhost:8080/"
        },
        "id": "vG9frNDvUkSr",
        "outputId": "17b21e37-411d-45dc-9e66-8340ac92d136"
      },
      "source": [
        "from sklearn.metrics import confusion_matrix, accuracy_score\n",
        "precisao = accuracy_score(classe_teste, previsoes)\n",
        "print(precisao)"
      ],
      "execution_count": 16,
      "outputs": [
        {
          "output_type": "stream",
          "text": [
            "0.8302620802620803\n"
          ],
          "name": "stdout"
        }
      ]
    },
    {
      "cell_type": "code",
      "metadata": {
        "colab": {
          "base_uri": "https://localhost:8080/"
        },
        "id": "bitwVS3DUpGT",
        "outputId": "cc4b8ac4-522e-46b7-f574-2f69f353f0e5"
      },
      "source": [
        "matriz = confusion_matrix(classe_teste, previsoes)\n",
        "print(matriz)"
      ],
      "execution_count": 17,
      "outputs": [
        {
          "output_type": "stream",
          "text": [
            "[[3374  385]\n",
            " [ 444  681]]\n"
          ],
          "name": "stdout"
        }
      ]
    }
  ]
}