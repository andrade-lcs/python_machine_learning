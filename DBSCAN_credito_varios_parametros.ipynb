{
  "nbformat": 4,
  "nbformat_minor": 0,
  "metadata": {
    "colab": {
      "name": "DBSCAN_credito_varios-parametros.ipynb",
      "provenance": [],
      "authorship_tag": "ABX9TyPgFe4J7uRHu9oqdaJFbg0H"
    },
    "kernelspec": {
      "name": "python3",
      "display_name": "Python 3"
    }
  },
  "cells": [
    {
      "cell_type": "code",
      "metadata": {
        "id": "beIMs03HQHvo"
      },
      "source": [
        "import pandas as pd\n",
        "import numpy as np\n",
        "import matplotlib.pyplot as plt\n",
        "from sklearn.preprocessing import StandardScaler\n",
        "from sklearn.cluster import DBSCAN"
      ],
      "execution_count": 1,
      "outputs": []
    },
    {
      "cell_type": "code",
      "metadata": {
        "id": "KywW8_-bQeyf"
      },
      "source": [
        "base = pd.read_csv('credit_card_clients.csv', header=1)"
      ],
      "execution_count": 2,
      "outputs": []
    },
    {
      "cell_type": "code",
      "metadata": {
        "colab": {
          "base_uri": "https://localhost:8080/",
          "height": 275
        },
        "id": "5l0uBEgdQuCN",
        "outputId": "d441463c-7c8c-45ac-b377-5a5a2fc9ef65"
      },
      "source": [
        "base.head()"
      ],
      "execution_count": 3,
      "outputs": [
        {
          "output_type": "execute_result",
          "data": {
            "text/html": [
              "<div>\n",
              "<style scoped>\n",
              "    .dataframe tbody tr th:only-of-type {\n",
              "        vertical-align: middle;\n",
              "    }\n",
              "\n",
              "    .dataframe tbody tr th {\n",
              "        vertical-align: top;\n",
              "    }\n",
              "\n",
              "    .dataframe thead th {\n",
              "        text-align: right;\n",
              "    }\n",
              "</style>\n",
              "<table border=\"1\" class=\"dataframe\">\n",
              "  <thead>\n",
              "    <tr style=\"text-align: right;\">\n",
              "      <th></th>\n",
              "      <th>ID</th>\n",
              "      <th>LIMIT_BAL</th>\n",
              "      <th>SEX</th>\n",
              "      <th>EDUCATION</th>\n",
              "      <th>MARRIAGE</th>\n",
              "      <th>AGE</th>\n",
              "      <th>PAY_0</th>\n",
              "      <th>PAY_2</th>\n",
              "      <th>PAY_3</th>\n",
              "      <th>PAY_4</th>\n",
              "      <th>PAY_5</th>\n",
              "      <th>PAY_6</th>\n",
              "      <th>BILL_AMT1</th>\n",
              "      <th>BILL_AMT2</th>\n",
              "      <th>BILL_AMT3</th>\n",
              "      <th>BILL_AMT4</th>\n",
              "      <th>BILL_AMT5</th>\n",
              "      <th>BILL_AMT6</th>\n",
              "      <th>PAY_AMT1</th>\n",
              "      <th>PAY_AMT2</th>\n",
              "      <th>PAY_AMT3</th>\n",
              "      <th>PAY_AMT4</th>\n",
              "      <th>PAY_AMT5</th>\n",
              "      <th>PAY_AMT6</th>\n",
              "      <th>default payment next month</th>\n",
              "    </tr>\n",
              "  </thead>\n",
              "  <tbody>\n",
              "    <tr>\n",
              "      <th>0</th>\n",
              "      <td>1</td>\n",
              "      <td>20000</td>\n",
              "      <td>2</td>\n",
              "      <td>2</td>\n",
              "      <td>1</td>\n",
              "      <td>24</td>\n",
              "      <td>2</td>\n",
              "      <td>2</td>\n",
              "      <td>-1</td>\n",
              "      <td>-1</td>\n",
              "      <td>-2</td>\n",
              "      <td>-2</td>\n",
              "      <td>3913</td>\n",
              "      <td>3102</td>\n",
              "      <td>689</td>\n",
              "      <td>0</td>\n",
              "      <td>0</td>\n",
              "      <td>0</td>\n",
              "      <td>0</td>\n",
              "      <td>689</td>\n",
              "      <td>0</td>\n",
              "      <td>0</td>\n",
              "      <td>0</td>\n",
              "      <td>0</td>\n",
              "      <td>1</td>\n",
              "    </tr>\n",
              "    <tr>\n",
              "      <th>1</th>\n",
              "      <td>2</td>\n",
              "      <td>120000</td>\n",
              "      <td>2</td>\n",
              "      <td>2</td>\n",
              "      <td>2</td>\n",
              "      <td>26</td>\n",
              "      <td>-1</td>\n",
              "      <td>2</td>\n",
              "      <td>0</td>\n",
              "      <td>0</td>\n",
              "      <td>0</td>\n",
              "      <td>2</td>\n",
              "      <td>2682</td>\n",
              "      <td>1725</td>\n",
              "      <td>2682</td>\n",
              "      <td>3272</td>\n",
              "      <td>3455</td>\n",
              "      <td>3261</td>\n",
              "      <td>0</td>\n",
              "      <td>1000</td>\n",
              "      <td>1000</td>\n",
              "      <td>1000</td>\n",
              "      <td>0</td>\n",
              "      <td>2000</td>\n",
              "      <td>1</td>\n",
              "    </tr>\n",
              "    <tr>\n",
              "      <th>2</th>\n",
              "      <td>3</td>\n",
              "      <td>90000</td>\n",
              "      <td>2</td>\n",
              "      <td>2</td>\n",
              "      <td>2</td>\n",
              "      <td>34</td>\n",
              "      <td>0</td>\n",
              "      <td>0</td>\n",
              "      <td>0</td>\n",
              "      <td>0</td>\n",
              "      <td>0</td>\n",
              "      <td>0</td>\n",
              "      <td>29239</td>\n",
              "      <td>14027</td>\n",
              "      <td>13559</td>\n",
              "      <td>14331</td>\n",
              "      <td>14948</td>\n",
              "      <td>15549</td>\n",
              "      <td>1518</td>\n",
              "      <td>1500</td>\n",
              "      <td>1000</td>\n",
              "      <td>1000</td>\n",
              "      <td>1000</td>\n",
              "      <td>5000</td>\n",
              "      <td>0</td>\n",
              "    </tr>\n",
              "    <tr>\n",
              "      <th>3</th>\n",
              "      <td>4</td>\n",
              "      <td>50000</td>\n",
              "      <td>2</td>\n",
              "      <td>2</td>\n",
              "      <td>1</td>\n",
              "      <td>37</td>\n",
              "      <td>0</td>\n",
              "      <td>0</td>\n",
              "      <td>0</td>\n",
              "      <td>0</td>\n",
              "      <td>0</td>\n",
              "      <td>0</td>\n",
              "      <td>46990</td>\n",
              "      <td>48233</td>\n",
              "      <td>49291</td>\n",
              "      <td>28314</td>\n",
              "      <td>28959</td>\n",
              "      <td>29547</td>\n",
              "      <td>2000</td>\n",
              "      <td>2019</td>\n",
              "      <td>1200</td>\n",
              "      <td>1100</td>\n",
              "      <td>1069</td>\n",
              "      <td>1000</td>\n",
              "      <td>0</td>\n",
              "    </tr>\n",
              "    <tr>\n",
              "      <th>4</th>\n",
              "      <td>5</td>\n",
              "      <td>50000</td>\n",
              "      <td>1</td>\n",
              "      <td>2</td>\n",
              "      <td>1</td>\n",
              "      <td>57</td>\n",
              "      <td>-1</td>\n",
              "      <td>0</td>\n",
              "      <td>-1</td>\n",
              "      <td>0</td>\n",
              "      <td>0</td>\n",
              "      <td>0</td>\n",
              "      <td>8617</td>\n",
              "      <td>5670</td>\n",
              "      <td>35835</td>\n",
              "      <td>20940</td>\n",
              "      <td>19146</td>\n",
              "      <td>19131</td>\n",
              "      <td>2000</td>\n",
              "      <td>36681</td>\n",
              "      <td>10000</td>\n",
              "      <td>9000</td>\n",
              "      <td>689</td>\n",
              "      <td>679</td>\n",
              "      <td>0</td>\n",
              "    </tr>\n",
              "  </tbody>\n",
              "</table>\n",
              "</div>"
            ],
            "text/plain": [
              "   ID  LIMIT_BAL  SEX  ...  PAY_AMT5  PAY_AMT6  default payment next month\n",
              "0   1      20000    2  ...         0         0                           1\n",
              "1   2     120000    2  ...         0      2000                           1\n",
              "2   3      90000    2  ...      1000      5000                           0\n",
              "3   4      50000    2  ...      1069      1000                           0\n",
              "4   5      50000    1  ...       689       679                           0\n",
              "\n",
              "[5 rows x 25 columns]"
            ]
          },
          "metadata": {
            "tags": []
          },
          "execution_count": 3
        }
      ]
    },
    {
      "cell_type": "markdown",
      "metadata": {
        "id": "Ij9_QyJZUVcc"
      },
      "source": [
        ""
      ]
    },
    {
      "cell_type": "code",
      "metadata": {
        "id": "41Cm7dGzQ1rP"
      },
      "source": [
        "base['BILL_TOTAL'] = base['BILL_AMT1'] + base['BILL_AMT2'] + base['BILL_AMT3'] + base['BILL_AMT4'] + base['BILL_AMT5'] + base['BILL_AMT6']"
      ],
      "execution_count": 4,
      "outputs": []
    },
    {
      "cell_type": "code",
      "metadata": {
        "id": "bn9s1W2VUxyV"
      },
      "source": [
        "x = base.iloc[:, [1, 25]].values"
      ],
      "execution_count": 5,
      "outputs": []
    },
    {
      "cell_type": "code",
      "metadata": {
        "id": "HjXHHHAZVBI6"
      },
      "source": [
        "scaler = StandardScaler()\n",
        "base = scaler.fit_transform(x)"
      ],
      "execution_count": 13,
      "outputs": []
    },
    {
      "cell_type": "code",
      "metadata": {
        "id": "nBtwOmc6VJo6",
        "colab": {
          "base_uri": "https://localhost:8080/"
        },
        "outputId": "a234046d-74e4-452e-9432-a1e9ab76381c"
      },
      "source": [
        "dbscan = DBSCAN(eps=0.37, min_samples=4)\n",
        "previsoes = dbscan.fit_predict(base)\n",
        "print(previsoes)"
      ],
      "execution_count": 29,
      "outputs": [
        {
          "output_type": "stream",
          "text": [
            "[0 0 0 ... 0 0 0]\n"
          ],
          "name": "stdout"
        }
      ]
    },
    {
      "cell_type": "code",
      "metadata": {
        "colab": {
          "base_uri": "https://localhost:8080/"
        },
        "id": "UTxXulkXLIDz",
        "outputId": "02a82c0c-3d26-41ea-9c85-a148c4673e1e"
      },
      "source": [
        "unicos, quantidade = np.unique(previsao, return_counts=True)\n",
        "print(unicos, quantidade)"
      ],
      "execution_count": 30,
      "outputs": [
        {
          "output_type": "stream",
          "text": [
            "[-1  0  1  2] [   42 29931    18     9]\n"
          ],
          "name": "stdout"
        }
      ]
    },
    {
      "cell_type": "code",
      "metadata": {
        "colab": {
          "base_uri": "https://localhost:8080/",
          "height": 296
        },
        "id": "xlzYZ72fqUP5",
        "outputId": "c6e7ffa9-d315-4f12-d672-e0409c71a6be"
      },
      "source": [
        "plt.scatter(x[previsoes == 0, 0 ], x[previsoes == 0, 1], s=10, c='red', label='Cluster 1')\n",
        "plt.scatter(x[previsoes == 1, 0 ], x[previsoes == 1, 1], s=10, c='blue', label='Cluster 2')\n",
        "plt.scatter(x[previsoes == 2, 0 ], x[previsoes == 2, 1], s=10, c='green', label='Cluster 3')\n",
        "plt.xlabel('Limite')\n",
        "plt.ylabel('Gasto')\n",
        "plt.legend()"
      ],
      "execution_count": 31,
      "outputs": [
        {
          "output_type": "execute_result",
          "data": {
            "text/plain": [
              "<matplotlib.legend.Legend at 0x7fdb60764850>"
            ]
          },
          "metadata": {
            "tags": []
          },
          "execution_count": 31
        },
        {
          "output_type": "display_data",
          "data": {
            "image/png": "[encoded data removed]",
            "text/plain": [
              "<Figure size 432x288 with 1 Axes>"
            ]
          },
          "metadata": {
            "tags": [],
            "needs_background": "light"
          }
        }
      ]
    },
    {
      "cell_type": "code",
      "metadata": {
        "id": "UQJBEZ-kL_vm"
      },
      "source": [
        "lista_clientes = np.column_stack((base, previsoes))\n",
        "lista_clientes = lista_clientes[lista_clientes[:26].argsort()]"
      ],
      "execution_count": 33,
      "outputs": []
    },
    {
      "cell_type": "code",
      "metadata": {
        "colab": {
          "base_uri": "https://localhost:8080/"
        },
        "id": "vzAcw3woMWG3",
        "outputId": "1b100666-b8d0-4a84-b2a4-4f0af5f477d3"
      },
      "source": [
        ""
      ],
      "execution_count": 35,
      "outputs": [
        {
          "output_type": "execute_result",
          "data": {
            "text/plain": [
              "array([[[-1.13672015, -0.69069198,  0.        ],\n",
              "        [-0.3659805 , -0.66599747,  0.        ],\n",
              "        [-0.59720239, -0.44316987,  0.        ]],\n",
              "\n",
              "       [[-0.3659805 , -0.66599747,  0.        ],\n",
              "        [-1.13672015, -0.69069198,  0.        ],\n",
              "        [-0.59720239, -0.44316987,  0.        ]],\n",
              "\n",
              "       [[-1.13672015, -0.69069198,  0.        ],\n",
              "        [-0.3659805 , -0.66599747,  0.        ],\n",
              "        [-0.59720239, -0.44316987,  0.        ]],\n",
              "\n",
              "       [[-1.13672015, -0.69069198,  0.        ],\n",
              "        [-0.3659805 , -0.66599747,  0.        ],\n",
              "        [-0.59720239, -0.44316987,  0.        ]],\n",
              "\n",
              "       [[-1.13672015, -0.69069198,  0.        ],\n",
              "        [-0.3659805 , -0.66599747,  0.        ],\n",
              "        [-0.59720239, -0.44316987,  0.        ]],\n",
              "\n",
              "       [[-1.13672015, -0.69069198,  0.        ],\n",
              "        [-0.3659805 , -0.66599747,  0.        ],\n",
              "        [-0.59720239, -0.44316987,  0.        ]],\n",
              "\n",
              "       [[-0.59720239, -0.44316987,  0.        ],\n",
              "        [-1.13672015, -0.69069198,  0.        ],\n",
              "        [-0.3659805 , -0.66599747,  0.        ]],\n",
              "\n",
              "       [[-0.3659805 , -0.66599747,  0.        ],\n",
              "        [-1.13672015, -0.69069198,  0.        ],\n",
              "        [-0.59720239, -0.44316987,  0.        ]],\n",
              "\n",
              "       [[-0.3659805 , -0.66599747,  0.        ],\n",
              "        [-1.13672015, -0.69069198,  0.        ],\n",
              "        [-0.59720239, -0.44316987,  0.        ]],\n",
              "\n",
              "       [[-1.13672015, -0.69069198,  0.        ],\n",
              "        [-0.3659805 , -0.66599747,  0.        ],\n",
              "        [-0.59720239, -0.44316987,  0.        ]],\n",
              "\n",
              "       [[-0.3659805 , -0.66599747,  0.        ],\n",
              "        [-0.59720239, -0.44316987,  0.        ],\n",
              "        [-1.13672015, -0.69069198,  0.        ]],\n",
              "\n",
              "       [[-0.3659805 , -0.66599747,  0.        ],\n",
              "        [-0.59720239, -0.44316987,  0.        ],\n",
              "        [-1.13672015, -0.69069198,  0.        ]],\n",
              "\n",
              "       [[-0.3659805 , -0.66599747,  0.        ],\n",
              "        [-0.59720239, -0.44316987,  0.        ],\n",
              "        [-1.13672015, -0.69069198,  0.        ]],\n",
              "\n",
              "       [[-1.13672015, -0.69069198,  0.        ],\n",
              "        [-0.59720239, -0.44316987,  0.        ],\n",
              "        [-0.3659805 , -0.66599747,  0.        ]],\n",
              "\n",
              "       [[-0.59720239, -0.44316987,  0.        ],\n",
              "        [-0.3659805 , -0.66599747,  0.        ],\n",
              "        [-1.13672015, -0.69069198,  0.        ]],\n",
              "\n",
              "       [[-1.13672015, -0.69069198,  0.        ],\n",
              "        [-0.3659805 , -0.66599747,  0.        ],\n",
              "        [-0.59720239, -0.44316987,  0.        ]],\n",
              "\n",
              "       [[-1.13672015, -0.69069198,  0.        ],\n",
              "        [-0.3659805 , -0.66599747,  0.        ],\n",
              "        [-0.59720239, -0.44316987,  0.        ]],\n",
              "\n",
              "       [[-0.59720239, -0.44316987,  0.        ],\n",
              "        [-1.13672015, -0.69069198,  0.        ],\n",
              "        [-0.3659805 , -0.66599747,  0.        ]],\n",
              "\n",
              "       [[-0.3659805 , -0.66599747,  0.        ],\n",
              "        [-0.59720239, -0.44316987,  0.        ],\n",
              "        [-1.13672015, -0.69069198,  0.        ]],\n",
              "\n",
              "       [[-0.3659805 , -0.66599747,  0.        ],\n",
              "        [-0.59720239, -0.44316987,  0.        ],\n",
              "        [-1.13672015, -0.69069198,  0.        ]],\n",
              "\n",
              "       [[-0.3659805 , -0.66599747,  0.        ],\n",
              "        [-1.13672015, -0.69069198,  0.        ],\n",
              "        [-0.59720239, -0.44316987,  0.        ]],\n",
              "\n",
              "       [[-0.3659805 , -0.66599747,  0.        ],\n",
              "        [-1.13672015, -0.69069198,  0.        ],\n",
              "        [-0.59720239, -0.44316987,  0.        ]],\n",
              "\n",
              "       [[-1.13672015, -0.69069198,  0.        ],\n",
              "        [-0.3659805 , -0.66599747,  0.        ],\n",
              "        [-0.59720239, -0.44316987,  0.        ]],\n",
              "\n",
              "       [[-0.3659805 , -0.66599747,  0.        ],\n",
              "        [-0.59720239, -0.44316987,  0.        ],\n",
              "        [-1.13672015, -0.69069198,  0.        ]],\n",
              "\n",
              "       [[-0.3659805 , -0.66599747,  0.        ],\n",
              "        [-1.13672015, -0.69069198,  0.        ],\n",
              "        [-0.59720239, -0.44316987,  0.        ]],\n",
              "\n",
              "       [[-1.13672015, -0.69069198,  0.        ],\n",
              "        [-0.3659805 , -0.66599747,  0.        ],\n",
              "        [-0.59720239, -0.44316987,  0.        ]]])"
            ]
          },
          "metadata": {
            "tags": []
          },
          "execution_count": 35
        }
      ]
    },
    {
      "cell_type": "code",
      "metadata": {
        "id": "CiQb6QgIMtxv"
      },
      "source": [
        ""
      ],
      "execution_count": null,
      "outputs": []
    }
  ]
}