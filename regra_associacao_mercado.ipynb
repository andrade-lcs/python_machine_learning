{
  "nbformat": 4,
  "nbformat_minor": 0,
  "metadata": {
    "colab": {
      "name": "regra_associacao_mercado.ipynb",
      "provenance": [],
      "authorship_tag": "ABX9TyNM21dbg0slp6t0WjhCqxa0"
    },
    "kernelspec": {
      "name": "python3",
      "display_name": "Python 3"
    }
  },
  "cells": [
    {
      "cell_type": "code",
      "metadata": {
        "id": "TTCeiQFKFIKX"
      },
      "source": [
        "#!pip install apyori"
      ],
      "execution_count": 1,
      "outputs": []
    },
    {
      "cell_type": "code",
      "metadata": {
        "id": "2MQ8Tv-eEbIR"
      },
      "source": [
        "import pandas as pd     "
      ],
      "execution_count": 2,
      "outputs": []
    },
    {
      "cell_type": "code",
      "metadata": {
        "id": "CMHyXJkkEdxI"
      },
      "source": [
        "df = pd.read_csv('mercado.csv', header=None)"
      ],
      "execution_count": 3,
      "outputs": []
    },
    {
      "cell_type": "code",
      "metadata": {
        "colab": {
          "base_uri": "https://localhost:8080/",
          "height": 359
        },
        "id": "WThSq6JhEwhp",
        "outputId": "38741e0d-489e-4767-b168-0830a37cbc99"
      },
      "source": [
        "df"
      ],
      "execution_count": 4,
      "outputs": [
        {
          "output_type": "execute_result",
          "data": {
            "text/html": [
              "<div>\n",
              "<style scoped>\n",
              "    .dataframe tbody tr th:only-of-type {\n",
              "        vertical-align: middle;\n",
              "    }\n",
              "\n",
              "    .dataframe tbody tr th {\n",
              "        vertical-align: top;\n",
              "    }\n",
              "\n",
              "    .dataframe thead th {\n",
              "        text-align: right;\n",
              "    }\n",
              "</style>\n",
              "<table border=\"1\" class=\"dataframe\">\n",
              "  <thead>\n",
              "    <tr style=\"text-align: right;\">\n",
              "      <th></th>\n",
              "      <th>0</th>\n",
              "      <th>1</th>\n",
              "      <th>2</th>\n",
              "      <th>3</th>\n",
              "    </tr>\n",
              "  </thead>\n",
              "  <tbody>\n",
              "    <tr>\n",
              "      <th>0</th>\n",
              "      <td>leite</td>\n",
              "      <td>cerveja</td>\n",
              "      <td>pao</td>\n",
              "      <td>manteiga</td>\n",
              "    </tr>\n",
              "    <tr>\n",
              "      <th>1</th>\n",
              "      <td>cafe</td>\n",
              "      <td>pao</td>\n",
              "      <td>manteiga</td>\n",
              "      <td>NaN</td>\n",
              "    </tr>\n",
              "    <tr>\n",
              "      <th>2</th>\n",
              "      <td>cafe</td>\n",
              "      <td>pao</td>\n",
              "      <td>manteiga</td>\n",
              "      <td>NaN</td>\n",
              "    </tr>\n",
              "    <tr>\n",
              "      <th>3</th>\n",
              "      <td>leite</td>\n",
              "      <td>cafe</td>\n",
              "      <td>pao</td>\n",
              "      <td>manteiga</td>\n",
              "    </tr>\n",
              "    <tr>\n",
              "      <th>4</th>\n",
              "      <td>cerveja</td>\n",
              "      <td>NaN</td>\n",
              "      <td>NaN</td>\n",
              "      <td>NaN</td>\n",
              "    </tr>\n",
              "    <tr>\n",
              "      <th>5</th>\n",
              "      <td>manteiga</td>\n",
              "      <td>NaN</td>\n",
              "      <td>NaN</td>\n",
              "      <td>NaN</td>\n",
              "    </tr>\n",
              "    <tr>\n",
              "      <th>6</th>\n",
              "      <td>pao</td>\n",
              "      <td>NaN</td>\n",
              "      <td>NaN</td>\n",
              "      <td>NaN</td>\n",
              "    </tr>\n",
              "    <tr>\n",
              "      <th>7</th>\n",
              "      <td>feijao</td>\n",
              "      <td>NaN</td>\n",
              "      <td>NaN</td>\n",
              "      <td>NaN</td>\n",
              "    </tr>\n",
              "    <tr>\n",
              "      <th>8</th>\n",
              "      <td>arroz</td>\n",
              "      <td>feijao</td>\n",
              "      <td>NaN</td>\n",
              "      <td>NaN</td>\n",
              "    </tr>\n",
              "    <tr>\n",
              "      <th>9</th>\n",
              "      <td>arroz</td>\n",
              "      <td>NaN</td>\n",
              "      <td>NaN</td>\n",
              "      <td>NaN</td>\n",
              "    </tr>\n",
              "  </tbody>\n",
              "</table>\n",
              "</div>"
            ],
            "text/plain": [
              "          0        1         2         3\n",
              "0     leite  cerveja       pao  manteiga\n",
              "1      cafe      pao  manteiga       NaN\n",
              "2      cafe      pao  manteiga       NaN\n",
              "3     leite     cafe       pao  manteiga\n",
              "4   cerveja      NaN       NaN       NaN\n",
              "5  manteiga      NaN       NaN       NaN\n",
              "6       pao      NaN       NaN       NaN\n",
              "7    feijao      NaN       NaN       NaN\n",
              "8     arroz   feijao       NaN       NaN\n",
              "9     arroz      NaN       NaN       NaN"
            ]
          },
          "metadata": {
            "tags": []
          },
          "execution_count": 4
        }
      ]
    },
    {
      "cell_type": "code",
      "metadata": {
        "id": "n-BmzHxJEyCL"
      },
      "source": [
        "lista = list()"
      ],
      "execution_count": 5,
      "outputs": []
    },
    {
      "cell_type": "code",
      "metadata": {
        "id": "FU_E6S2KF-NI"
      },
      "source": [
        "for i in range(0, len(df)):\r\n",
        "    lista.append([str(df.values[i , j]) for j in range(0 , len(df.columns))])"
      ],
      "execution_count": 6,
      "outputs": []
    },
    {
      "cell_type": "code",
      "metadata": {
        "colab": {
          "base_uri": "https://localhost:8080/"
        },
        "id": "uPC89q9lH3N8",
        "outputId": "e63c9c05-92b4-4029-b0bb-73333f499f5c"
      },
      "source": [
        "lista"
      ],
      "execution_count": 7,
      "outputs": [
        {
          "output_type": "execute_result",
          "data": {
            "text/plain": [
              "[['leite', 'cerveja', 'pao', 'manteiga'],\n",
              " ['cafe', 'pao', 'manteiga', 'nan'],\n",
              " ['cafe', 'pao', 'manteiga', 'nan'],\n",
              " ['leite', 'cafe', 'pao', 'manteiga'],\n",
              " ['cerveja', 'nan', 'nan', 'nan'],\n",
              " ['manteiga', 'nan', 'nan', 'nan'],\n",
              " ['pao', 'nan', 'nan', 'nan'],\n",
              " ['feijao', 'nan', 'nan', 'nan'],\n",
              " ['arroz', 'feijao', 'nan', 'nan'],\n",
              " ['arroz', 'nan', 'nan', 'nan']]"
            ]
          },
          "metadata": {
            "tags": []
          },
          "execution_count": 7
        }
      ]
    },
    {
      "cell_type": "code",
      "metadata": {
        "id": "97HYN51DL0O4"
      },
      "source": [
        "from apyori import apriori\r\n",
        "regras = apriori(lista, min_support=0.3, min_confidence=0.8, min_lift = 2, min_length=2)"
      ],
      "execution_count": 8,
      "outputs": []
    },
    {
      "cell_type": "code",
      "metadata": {
        "colab": {
          "base_uri": "https://localhost:8080/"
        },
        "id": "-f86cPsTOqcd",
        "outputId": "8c58646c-2662-48fe-db39-cbe4669c7710"
      },
      "source": [
        "resultado = list(regras)\r\n",
        "resultado"
      ],
      "execution_count": 9,
      "outputs": [
        {
          "output_type": "execute_result",
          "data": {
            "text/plain": [
              "[RelationRecord(items=frozenset({'manteiga', 'cafe'}), support=0.3, ordered_statistics=[OrderedStatistic(items_base=frozenset({'cafe'}), items_add=frozenset({'manteiga'}), confidence=1.0, lift=2.0)]),\n",
              " RelationRecord(items=frozenset({'pao', 'cafe'}), support=0.3, ordered_statistics=[OrderedStatistic(items_base=frozenset({'cafe'}), items_add=frozenset({'pao'}), confidence=1.0, lift=2.0)]),\n",
              " RelationRecord(items=frozenset({'manteiga', 'pao', 'cafe'}), support=0.3, ordered_statistics=[OrderedStatistic(items_base=frozenset({'cafe'}), items_add=frozenset({'manteiga', 'pao'}), confidence=1.0, lift=2.5), OrderedStatistic(items_base=frozenset({'manteiga', 'cafe'}), items_add=frozenset({'pao'}), confidence=1.0, lift=2.0), OrderedStatistic(items_base=frozenset({'pao', 'cafe'}), items_add=frozenset({'manteiga'}), confidence=1.0, lift=2.0)])]"
            ]
          },
          "metadata": {
            "tags": []
          },
          "execution_count": 9
        }
      ]
    },
    {
      "cell_type": "code",
      "metadata": {
        "colab": {
          "base_uri": "https://localhost:8080/"
        },
        "id": "IsPNgSOcOvf4",
        "outputId": "caa7cd18-8786-4a28-86c2-f019a2cfe97a"
      },
      "source": [
        "resultado2 = [list(x) for x in resultado]\r\n",
        "resultado2"
      ],
      "execution_count": 10,
      "outputs": [
        {
          "output_type": "execute_result",
          "data": {
            "text/plain": [
              "[[frozenset({'cafe', 'manteiga'}),\n",
              "  0.3,\n",
              "  [OrderedStatistic(items_base=frozenset({'cafe'}), items_add=frozenset({'manteiga'}), confidence=1.0, lift=2.0)]],\n",
              " [frozenset({'cafe', 'pao'}),\n",
              "  0.3,\n",
              "  [OrderedStatistic(items_base=frozenset({'cafe'}), items_add=frozenset({'pao'}), confidence=1.0, lift=2.0)]],\n",
              " [frozenset({'cafe', 'manteiga', 'pao'}),\n",
              "  0.3,\n",
              "  [OrderedStatistic(items_base=frozenset({'cafe'}), items_add=frozenset({'manteiga', 'pao'}), confidence=1.0, lift=2.5),\n",
              "   OrderedStatistic(items_base=frozenset({'manteiga', 'cafe'}), items_add=frozenset({'pao'}), confidence=1.0, lift=2.0),\n",
              "   OrderedStatistic(items_base=frozenset({'pao', 'cafe'}), items_add=frozenset({'manteiga'}), confidence=1.0, lift=2.0)]]]"
            ]
          },
          "metadata": {
            "tags": []
          },
          "execution_count": 10
        }
      ]
    },
    {
      "cell_type": "code",
      "metadata": {
        "colab": {
          "base_uri": "https://localhost:8080/"
        },
        "id": "fXQjxztjQFHU",
        "outputId": "fecb46ca-4fc8-4439-9f13-1ff45eb725a6"
      },
      "source": [
        "resultado_formatado = []\r\n",
        "for k in range(0, len(resultado)):\r\n",
        "    resultado_formatado.append([list(x) for x in resultado2[k][2]])\r\n",
        "resultado_formatado"
      ],
      "execution_count": 11,
      "outputs": [
        {
          "output_type": "execute_result",
          "data": {
            "text/plain": [
              "[[[frozenset({'cafe'}), frozenset({'manteiga'}), 1.0, 2.0]],\n",
              " [[frozenset({'cafe'}), frozenset({'pao'}), 1.0, 2.0]],\n",
              " [[frozenset({'cafe'}), frozenset({'manteiga', 'pao'}), 1.0, 2.5],\n",
              "  [frozenset({'cafe', 'manteiga'}), frozenset({'pao'}), 1.0, 2.0],\n",
              "  [frozenset({'cafe', 'pao'}), frozenset({'manteiga'}), 1.0, 2.0]]]"
            ]
          },
          "metadata": {
            "tags": []
          },
          "execution_count": 11
        }
      ]
    },
    {
      "cell_type": "code",
      "metadata": {
        "id": "3QgXpkR9Rh_q"
      },
      "source": [
        ""
      ],
      "execution_count": 11,
      "outputs": []
    }
  ]
}