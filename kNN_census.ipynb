{
  "nbformat": 4,
  "nbformat_minor": 0,
  "metadata": {
    "colab": {
      "name": "kMN_census.ipynb",
      "provenance": [],
      "authorship_tag": "ABX9TyNPt3MJhDTDQmXdcNfIqLzy"
    },
    "kernelspec": {
      "name": "python3",
      "display_name": "Python 3"
    }
  },
  "cells": [
    {
      "cell_type": "code",
      "metadata": {
        "id": "z20poExQzaeJ"
      },
      "source": [
        "import pandas as pd\n",
        "\n",
        "base = pd.read_csv('census.csv')"
      ],
      "execution_count": 1,
      "outputs": []
    },
    {
      "cell_type": "markdown",
      "metadata": {
        "id": "REAkvnfQUMuV"
      },
      "source": [
        "Transfomação de variáveis categóricas"
      ]
    },
    {
      "cell_type": "code",
      "metadata": {
        "id": "nv230P_06ATS"
      },
      "source": [
        "previsores = base.iloc[:, 0:14].values\r\n",
        "classe = base.iloc[:, 14].values"
      ],
      "execution_count": 2,
      "outputs": []
    },
    {
      "cell_type": "code",
      "metadata": {
        "id": "oMd3j3mq76P5"
      },
      "source": [
        "from sklearn.preprocessing import LabelEncoder, OneHotEncoder\n",
        "from sklearn.compose import ColumnTransformer"
      ],
      "execution_count": 3,
      "outputs": []
    },
    {
      "cell_type": "code",
      "metadata": {
        "id": "3w3fPejK8S61"
      },
      "source": [
        "labelencoder_previsores = LabelEncoder()\r\n",
        "previsores[:, 1] = labelencoder_previsores.fit_transform(previsores[:,1])\r\n",
        "previsores[:, 3] = labelencoder_previsores.fit_transform(previsores[:,3])\r\n",
        "previsores[:, 5] = labelencoder_previsores.fit_transform(previsores[:,5])\r\n",
        "previsores[:, 6] = labelencoder_previsores.fit_transform(previsores[:,6])\r\n",
        "previsores[:, 7] = labelencoder_previsores.fit_transform(previsores[:,7])\r\n",
        "previsores[:, 8] = labelencoder_previsores.fit_transform(previsores[:,8])\r\n",
        "previsores[:, 9] = labelencoder_previsores.fit_transform(previsores[:,9])\r\n",
        "previsores[:, 13] = labelencoder_previsores.fit_transform(previsores[:,13])"
      ],
      "execution_count": 4,
      "outputs": []
    },
    {
      "cell_type": "code",
      "metadata": {
        "id": "C9IRFqJ59P_o"
      },
      "source": [
        "onehotencorder = ColumnTransformer(transformers=[(\"OneHot\", OneHotEncoder(), [1,3,5,6,7,8,9,13])],remainder='passthrough')\n",
        "previsores = onehotencorder.fit_transform(previsores).toarray()"
      ],
      "execution_count": 5,
      "outputs": []
    },
    {
      "cell_type": "code",
      "metadata": {
        "id": "12cTsvUaTjYV"
      },
      "source": [
        "labelencorder_classe = LabelEncoder()\n",
        "classe = labelencorder_classe.fit_transform(classe)"
      ],
      "execution_count": 6,
      "outputs": []
    },
    {
      "cell_type": "markdown",
      "metadata": {
        "id": "9TJCZzvwUGZQ"
      },
      "source": [
        "Escalonamento dos valoers numéricos"
      ]
    },
    {
      "cell_type": "code",
      "metadata": {
        "id": "n3XPVUp6TwDX"
      },
      "source": [
        "from sklearn.preprocessing import StandardScaler\r\n",
        "scaler = StandardScaler()\r\n",
        "previsores = scaler.fit_transform(previsores)"
      ],
      "execution_count": 7,
      "outputs": []
    },
    {
      "cell_type": "code",
      "metadata": {
        "id": "C130M6zFUxBf"
      },
      "source": [
        "from sklearn.model_selection import train_test_split\n",
        "previsores_treinamento, previsores_teste, classe_treinamento, classe_teste =  train_test_split(previsores, classe, test_size=0.15, random_state=0)"
      ],
      "execution_count": 8,
      "outputs": []
    },
    {
      "cell_type": "markdown",
      "metadata": {
        "id": "GZy6HIS9UVQJ"
      },
      "source": [
        "Treinamento KNN"
      ]
    },
    {
      "cell_type": "code",
      "metadata": {
        "id": "4SiTJqMKniD1",
        "colab": {
          "base_uri": "https://localhost:8080/"
        },
        "outputId": "159f1ac8-e19a-4597-e289-3314f31ca1e3"
      },
      "source": [
        "from sklearn.neighbors import KNeighborsClassifier\r\n",
        "classificador = KNeighborsClassifier(n_neighbors=5, metric='minkowski', p=2)\r\n",
        "classificador.fit(previsores_treinamento, classe_treinamento)"
      ],
      "execution_count": 9,
      "outputs": [
        {
          "output_type": "execute_result",
          "data": {
            "text/plain": [
              "KNeighborsClassifier(algorithm='auto', leaf_size=30, metric='minkowski',\n",
              "                     metric_params=None, n_jobs=None, n_neighbors=5, p=2,\n",
              "                     weights='uniform')"
            ]
          },
          "metadata": {
            "tags": []
          },
          "execution_count": 9
        }
      ]
    },
    {
      "cell_type": "markdown",
      "metadata": {
        "id": "nK90iXOMUf2q"
      },
      "source": [
        "Resultado da previsão"
      ]
    },
    {
      "cell_type": "code",
      "metadata": {
        "id": "g3JFDrnGUgkq"
      },
      "source": [
        "previsoes = classificador.predict(previsores_teste)"
      ],
      "execution_count": 10,
      "outputs": []
    },
    {
      "cell_type": "code",
      "metadata": {
        "colab": {
          "base_uri": "https://localhost:8080/"
        },
        "id": "vG9frNDvUkSr",
        "outputId": "e01e60d9-d065-4aba-ebcc-3404bd495843"
      },
      "source": [
        "from sklearn.metrics import confusion_matrix, accuracy_score\n",
        "precisao = accuracy_score(classe_teste, previsoes)\n",
        "print(precisao)"
      ],
      "execution_count": 11,
      "outputs": [
        {
          "output_type": "stream",
          "text": [
            "0.823914823914824\n"
          ],
          "name": "stdout"
        }
      ]
    },
    {
      "cell_type": "code",
      "metadata": {
        "colab": {
          "base_uri": "https://localhost:8080/"
        },
        "id": "bitwVS3DUpGT",
        "outputId": "f57514b6-15a7-4097-e564-7982dfc2bc3e"
      },
      "source": [
        "matriz = confusion_matrix(classe_teste, previsoes)\n",
        "print(matriz)"
      ],
      "execution_count": 12,
      "outputs": [
        {
          "output_type": "stream",
          "text": [
            "[[3386  373]\n",
            " [ 487  638]]\n"
          ],
          "name": "stdout"
        }
      ]
    }
  ]
}