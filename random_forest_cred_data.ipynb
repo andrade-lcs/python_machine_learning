{
  "nbformat": 4,
  "nbformat_minor": 0,
  "metadata": {
    "colab": {
      "name": "random_forest_cred_data.ipynb",
      "provenance": [],
      "authorship_tag": "ABX9TyPSxXnXrpsyYG+jgjkFAaSH"
    },
    "kernelspec": {
      "name": "python3",
      "display_name": "Python 3"
    }
  },
  "cells": [
    {
      "cell_type": "code",
      "metadata": {
        "id": "HTqXDEEWc9Hl"
      },
      "source": [
        "import pandas as pd\n",
        "import numpy as np"
      ],
      "execution_count": 1,
      "outputs": []
    },
    {
      "cell_type": "markdown",
      "metadata": {
        "id": "xehNSauEdueh"
      },
      "source": [
        "Importação de Banco de dados"
      ]
    },
    {
      "cell_type": "code",
      "metadata": {
        "id": "uueSwgrxdf2Z"
      },
      "source": [
        "base = pd.read_csv('credit_data.csv')\n",
        "base.loc[base.age < 0, 'age'] = 40.92\n",
        "               \n",
        "previsores = base.iloc[:, 1:4].values\n",
        "classe = base.iloc[:, 4].values"
      ],
      "execution_count": 2,
      "outputs": []
    },
    {
      "cell_type": "markdown",
      "metadata": {
        "id": "Qfegwg_EdzbL"
      },
      "source": [
        "Tratando valores faltantes"
      ]
    },
    {
      "cell_type": "code",
      "metadata": {
        "id": "dirfZKGtdjaq"
      },
      "source": [
        "from sklearn.impute import SimpleImputer\n",
        "imputer = SimpleImputer(missing_values = np.nan, strategy = 'mean')\n",
        "imputer = imputer.fit(previsores[:, 1:4])\n",
        "previsores[:, 1:4] = imputer.transform(previsores[:, 1:4])"
      ],
      "execution_count": 3,
      "outputs": []
    },
    {
      "cell_type": "markdown",
      "metadata": {
        "id": "R2hTsgfAd3rx"
      },
      "source": [
        "Padronizando os valores"
      ]
    },
    {
      "cell_type": "code",
      "metadata": {
        "id": "i6WQBzXPdlYC"
      },
      "source": [
        "from sklearn.preprocessing import StandardScaler\n",
        "scaler = StandardScaler()\n",
        "previsores = scaler.fit_transform(previsores)"
      ],
      "execution_count": 4,
      "outputs": []
    },
    {
      "cell_type": "markdown",
      "metadata": {
        "id": "n0fuikdHeHNX"
      },
      "source": [
        "Teste do banco de dados"
      ]
    },
    {
      "cell_type": "code",
      "metadata": {
        "id": "Wfv1_VJFdn8S"
      },
      "source": [
        "from sklearn.model_selection import train_test_split\n",
        "previsores_treinamento, previsores_teste, classe_treinamento, classe_teste = train_test_split(previsores, classe, test_size=0.25, random_state=0)"
      ],
      "execution_count": 5,
      "outputs": []
    },
    {
      "cell_type": "markdown",
      "metadata": {
        "id": "0ExmLlAuO8y3"
      },
      "source": [
        "Treinamento Arvore de decisão"
      ]
    },
    {
      "cell_type": "code",
      "metadata": {
        "id": "UAp_G34xdqGC",
        "colab": {
          "base_uri": "https://localhost:8080/"
        },
        "outputId": "9a2fc2ef-cfaf-45bf-d5c7-606bae18f088"
      },
      "source": [
        "from sklearn.ensemble import RandomForestClassifier\r\n",
        "classificador = RandomForestClassifier(n_estimators=40, criterion='entropy', random_state=0)\r\n",
        "classificador.fit(previsores_treinamento, classe_treinamento)"
      ],
      "execution_count": 6,
      "outputs": [
        {
          "output_type": "execute_result",
          "data": {
            "text/plain": [
              "RandomForestClassifier(bootstrap=True, ccp_alpha=0.0, class_weight=None,\n",
              "                       criterion='entropy', max_depth=None, max_features='auto',\n",
              "                       max_leaf_nodes=None, max_samples=None,\n",
              "                       min_impurity_decrease=0.0, min_impurity_split=None,\n",
              "                       min_samples_leaf=1, min_samples_split=2,\n",
              "                       min_weight_fraction_leaf=0.0, n_estimators=40,\n",
              "                       n_jobs=None, oob_score=False, random_state=0, verbose=0,\n",
              "                       warm_start=False)"
            ]
          },
          "metadata": {
            "tags": []
          },
          "execution_count": 6
        }
      ]
    },
    {
      "cell_type": "code",
      "metadata": {
        "id": "FB9D8pquPQJB"
      },
      "source": [
        "previsoes = classificador.predict(previsores_teste)"
      ],
      "execution_count": 7,
      "outputs": []
    },
    {
      "cell_type": "markdown",
      "metadata": {
        "id": "UO67DHGNQxcp"
      },
      "source": [
        "Resultado da previsão"
      ]
    },
    {
      "cell_type": "code",
      "metadata": {
        "colab": {
          "base_uri": "https://localhost:8080/"
        },
        "id": "o7z0-RGIQZbQ",
        "outputId": "86350303-0dcf-49a8-b6d9-24d67f2c8443"
      },
      "source": [
        "from sklearn.metrics import confusion_matrix, accuracy_score\n",
        "precisao = accuracy_score(classe_teste, previsoes)\n",
        "print(precisao)"
      ],
      "execution_count": 8,
      "outputs": [
        {
          "output_type": "stream",
          "text": [
            "0.984\n"
          ],
          "name": "stdout"
        }
      ]
    },
    {
      "cell_type": "code",
      "metadata": {
        "id": "_2aBOrKXRRpC"
      },
      "source": [
        "matriz = confusion_matrix(classe_teste, previsoes)"
      ],
      "execution_count": 9,
      "outputs": []
    },
    {
      "cell_type": "code",
      "metadata": {
        "id": "0ojgtGCHRibB",
        "colab": {
          "base_uri": "https://localhost:8080/"
        },
        "outputId": "7d90ecfb-8e8b-48c6-ed98-fd7cc79f9a94"
      },
      "source": [
        "matriz"
      ],
      "execution_count": 10,
      "outputs": [
        {
          "output_type": "execute_result",
          "data": {
            "text/plain": [
              "array([[433,   3],\n",
              "       [  5,  59]])"
            ]
          },
          "metadata": {
            "tags": []
          },
          "execution_count": 10
        }
      ]
    }
  ]
}